{
    "cells": [
        {
            "cell_type": "code",
            "execution_count": 1,
            "id": "9abc41c6-5d37-464b-a146-d44f55c6e713",
            "metadata": {},
            "outputs": [],
            "source": [
                "import igvf_and_terra_api_tools as api_tools\n",
                "import portal_to_terra_input_from_anaset as portal2terra_transfer\n",
                "import terra_to_portal_posting as terra2portal_transfer\n",
                "\n",
                "from igvf_utils.connection import Connection\n",
                "import firecloud.api as fapi"
            ]
        },
        {
            "cell_type": "markdown",
            "id": "443acb35-2e79-41b1-84ea-789f65f50465",
            "metadata": {},
            "source": [
                "### Set up some params for pushing and posting"
            ]
        },
        {
            "cell_type": "code",
            "execution_count": 12,
            "id": "b2f163a8-ca51-45ec-be2c-3ea700111652",
            "metadata": {},
            "outputs": [],
            "source": [
                "# Set params\n",
                "terra_namespace = 'DACC_ANVIL'\n",
                "terra_workspace = 'Playground for IGVF Single-Cell Data Processing'\n",
                "\n",
                "igvf_sandbox_analysis_sets = ['TSTDS33660419', 'TSTDS12024147']"
            ]
        },
        {
            "cell_type": "code",
            "execution_count": 7,
            "id": "9d663c1d-55cd-4e91-91bc-381fc98d57db",
            "metadata": {},
            "outputs": [
                {
                    "name": "stdout",
                    "output_type": "stream",
                    "text": [
                        "2025-01-30 11:25:19,963:iu_debug:\tsubmission=True: In submission mode.\n"
                    ]
                }
            ],
            "source": [
                "# Set up IGVF query API (Sandbox or Production)\n",
                "igvf_api_sandbox = api_tools.get_igvf_auth_and_api(igvf_site='sandbox')\n",
                "# igvf_api_production = api_tools.get_igvf_auth_and_api(igvf_site='production')\n",
                "\n",
                "# IGVF util\n",
                "iu_conn_sandbox = Connection(igvf_mode='sandbox', submission=True)\n",
                "# iu_conn_production = Connection(igvf_mode='production', submission=False)\n",
                "\n",
                "# If FireCloud session somehow expires\n",
                "fapi._set_session()"
            ]
        },
        {
            "cell_type": "markdown",
            "id": "1b74b1de-0052-4938-be6e-956046b7a35b",
            "metadata": {},
            "source": [
                "### Generate the Terra data table from IGVF portal"
            ]
        },
        {
            "cell_type": "code",
            "execution_count": 11,
            "id": "63fbae56-0b6d-4a77-89e8-9d32be436b5a",
            "metadata": {},
            "outputs": [
                {
                    "data": {
                        "text/html": [
                            "<div>\n",
                            "<style scoped>\n",
                            "    .dataframe tbody tr th:only-of-type {\n",
                            "        vertical-align: middle;\n",
                            "    }\n",
                            "\n",
                            "    .dataframe tbody tr th {\n",
                            "        vertical-align: top;\n",
                            "    }\n",
                            "\n",
                            "    .dataframe thead th {\n",
                            "        text-align: right;\n",
                            "    }\n",
                            "</style>\n",
                            "<table border=\"1\" class=\"dataframe\">\n",
                            "  <thead>\n",
                            "    <tr style=\"text-align: right;\">\n",
                            "      <th></th>\n",
                            "      <th>analysis_set_acc</th>\n",
                            "      <th>atac_MeaSetIDs</th>\n",
                            "      <th>rna_MeaSetIDs</th>\n",
                            "      <th>taxa</th>\n",
                            "      <th>atac_read1_accessions</th>\n",
                            "      <th>atac_read2_accessions</th>\n",
                            "      <th>atac_barcode_accessions</th>\n",
                            "      <th>rna_read1_accessions</th>\n",
                            "      <th>rna_read2_accessions</th>\n",
                            "      <th>atac_seqspec_urls</th>\n",
                            "      <th>rna_seqspec_urls</th>\n",
                            "      <th>atac_read1</th>\n",
                            "      <th>atac_read2</th>\n",
                            "      <th>atac_barcode</th>\n",
                            "      <th>rna_read1</th>\n",
                            "      <th>rna_read2</th>\n",
                            "      <th>atac_barcode_whitelist</th>\n",
                            "      <th>atac_read_format</th>\n",
                            "      <th>rna_barcode_whitelist</th>\n",
                            "      <th>rna_read_format</th>\n",
                            "    </tr>\n",
                            "  </thead>\n",
                            "  <tbody>\n",
                            "    <tr>\n",
                            "      <th>0</th>\n",
                            "      <td>TSTDS33660419</td>\n",
                            "      <td>[TSTDS87815319]</td>\n",
                            "      <td>[TSTDS22634158]</td>\n",
                            "      <td>[Homo sapiens]</td>\n",
                            "      <td>[TSTFI68061834, TSTFI78417402]</td>\n",
                            "      <td>[TSTFI18171101, TSTFI58997785]</td>\n",
                            "      <td>[TSTFI96778906, TSTFI57658061]</td>\n",
                            "      <td>[TSTFI68220577, TSTFI26582203]</td>\n",
                            "      <td>[TSTFI38034800, TSTFI83066582]</td>\n",
                            "      <td>[]</td>\n",
                            "      <td>[]</td>\n",
                            "      <td>[https://api.data.igvf.org/sequence-files/TSTF...</td>\n",
                            "      <td>[https://api.data.igvf.org/sequence-files/TSTF...</td>\n",
                            "      <td>[https://api.data.igvf.org/sequence-files/TSTF...</td>\n",
                            "      <td>[https://api.data.igvf.org/sequence-files/TSTF...</td>\n",
                            "      <td>[https://api.data.igvf.org/sequence-files/TSTF...</td>\n",
                            "      <td></td>\n",
                            "      <td></td>\n",
                            "      <td></td>\n",
                            "      <td></td>\n",
                            "    </tr>\n",
                            "    <tr>\n",
                            "      <th>1</th>\n",
                            "      <td>TSTDS12024147</td>\n",
                            "      <td>[]</td>\n",
                            "      <td>[TSTDS22634158]</td>\n",
                            "      <td>[Homo sapiens]</td>\n",
                            "      <td>[]</td>\n",
                            "      <td>[]</td>\n",
                            "      <td>[]</td>\n",
                            "      <td>[TSTFI68220577, TSTFI26582203]</td>\n",
                            "      <td>[TSTFI38034800, TSTFI83066582]</td>\n",
                            "      <td>[]</td>\n",
                            "      <td>[]</td>\n",
                            "      <td>[]</td>\n",
                            "      <td>[]</td>\n",
                            "      <td>[]</td>\n",
                            "      <td>[https://api.data.igvf.org/sequence-files/TSTF...</td>\n",
                            "      <td>[https://api.data.igvf.org/sequence-files/TSTF...</td>\n",
                            "      <td></td>\n",
                            "      <td></td>\n",
                            "      <td></td>\n",
                            "      <td></td>\n",
                            "    </tr>\n",
                            "  </tbody>\n",
                            "</table>\n",
                            "</div>"
                        ],
                        "text/plain": [
                            "  analysis_set_acc   atac_MeaSetIDs    rna_MeaSetIDs            taxa  \\\n",
                            "0    TSTDS33660419  [TSTDS87815319]  [TSTDS22634158]  [Homo sapiens]   \n",
                            "1    TSTDS12024147               []  [TSTDS22634158]  [Homo sapiens]   \n",
                            "\n",
                            "            atac_read1_accessions           atac_read2_accessions  \\\n",
                            "0  [TSTFI68061834, TSTFI78417402]  [TSTFI18171101, TSTFI58997785]   \n",
                            "1                              []                              []   \n",
                            "\n",
                            "          atac_barcode_accessions            rna_read1_accessions  \\\n",
                            "0  [TSTFI96778906, TSTFI57658061]  [TSTFI68220577, TSTFI26582203]   \n",
                            "1                              []  [TSTFI68220577, TSTFI26582203]   \n",
                            "\n",
                            "             rna_read2_accessions atac_seqspec_urls rna_seqspec_urls  \\\n",
                            "0  [TSTFI38034800, TSTFI83066582]                []               []   \n",
                            "1  [TSTFI38034800, TSTFI83066582]                []               []   \n",
                            "\n",
                            "                                          atac_read1  \\\n",
                            "0  [https://api.data.igvf.org/sequence-files/TSTF...   \n",
                            "1                                                 []   \n",
                            "\n",
                            "                                          atac_read2  \\\n",
                            "0  [https://api.data.igvf.org/sequence-files/TSTF...   \n",
                            "1                                                 []   \n",
                            "\n",
                            "                                        atac_barcode  \\\n",
                            "0  [https://api.data.igvf.org/sequence-files/TSTF...   \n",
                            "1                                                 []   \n",
                            "\n",
                            "                                           rna_read1  \\\n",
                            "0  [https://api.data.igvf.org/sequence-files/TSTF...   \n",
                            "1  [https://api.data.igvf.org/sequence-files/TSTF...   \n",
                            "\n",
                            "                                           rna_read2 atac_barcode_whitelist  \\\n",
                            "0  [https://api.data.igvf.org/sequence-files/TSTF...                          \n",
                            "1  [https://api.data.igvf.org/sequence-files/TSTF...                          \n",
                            "\n",
                            "  atac_read_format rna_barcode_whitelist rna_read_format  \n",
                            "0                                                         \n",
                            "1                                                         "
                        ]
                    },
                    "execution_count": 11,
                    "metadata": {},
                    "output_type": "execute_result"
                }
            ],
            "source": [
                "# Construct the input table from portal based on analysis set accessions\n",
                "portal_to_terra_input_table = portal2terra_transfer.main(query_analysis_set_accs=igvf_sandbox_analysis_sets, igvf_api=igvf_api_sandbox)\n",
                "portal_to_terra_input_table.head(2)"
            ]
        },
        {
            "cell_type": "code",
            "execution_count": 2,
            "id": "41c7de99-7935-4fdd-b45d-24e23ead90ff",
            "metadata": {
                "scrolled": true
            },
            "outputs": [],
            "source": [
                "# Upload this to Terra under the name 'DACC_Tester'\n",
                "# portal_to_terra_entity_type = 'DACC_tester'\n",
                "# api_tools.upload_portal_input_tsv_to_terra(terra_namespace=terra_namespace, \n",
                "#                                              terra_workspace=terra_workspace, \n",
                "#                                              terra_etype=portal_to_terra_entity_type, \n",
                "#                                              porta_input_table=portal_to_terra_input_table, \n",
                "#                                              verbose=True\n",
                "#                                             )"
            ]
        },
        {
            "cell_type": "code",
            "execution_count": null,
            "id": "553ae08e-4fa3-4e6f-9c5d-b90bc501e93f",
            "metadata": {},
            "outputs": [],
            "source": []
        },
        {
            "cell_type": "markdown",
            "id": "2d087e0d-5611-42ad-a564-d3870fe12682",
            "metadata": {},
            "source": [
                "### POSTing pipeline output data to IGVF data portal"
            ]
        },
        {
            "cell_type": "markdown",
            "id": "27988b15-43ed-4a64-a543-80e91379f326",
            "metadata": {},
            "source": [
                "#### Set up POST params and retrieve data table from Terra"
            ]
        },
        {
            "cell_type": "code",
            "execution_count": null,
            "id": "410449e1-cc6f-4a93-bb75-feac7d2cda3f",
            "metadata": {},
            "outputs": [],
            "source": [
                "# For posting (this mock table mixes the input table because it has IGVF accessions and some output from Team 2 because I need files to try posting)\n",
                "terra_to_portal_etype = 'DACC_mockTeam_2_tester_merged'\n",
                "Sandbox_test_analysis_set = 'TSTDS33660419'"
            ]
        },
        {
            "cell_type": "code",
            "execution_count": null,
            "id": "52c2aca4-58e3-4c07-bf5a-18e03cee6bf9",
            "metadata": {},
            "outputs": [],
            "source": [
                "# Generate the input data table for Terra\n",
                "terra_to_portal_post_datatable = api_tools.get_terra_tsv_data_table(terra_namespace=terra_namespace,\n",
                "                                                                    terra_workspace=terra_workspace,\n",
                "                                                                    terra_etype=terra_to_portal_etype\n",
                "                                                                   )\n",
                "terra_to_portal_post_datatable.head(2)"
            ]
        },
        {
            "cell_type": "markdown",
            "id": "14360c8c-01fe-4d9e-8057-8eb5636bd390",
            "metadata": {},
            "source": [
                "#### Post all successful run results to the portal"
            ]
        },
        {
            "cell_type": "code",
            "execution_count": null,
            "id": "cd21c587-1e73-48dc-b33c-93f502743038",
            "metadata": {},
            "outputs": [],
            "source": [
                "# TSTDS33660419 is an example with a complete mock table (the full data table contains empty outputs which will crash)\n",
                "test_posting_all_data = terra2portal_transfer.post_all_successful_runs(full_terra_data_table=terra_push_example[terra_push_example['analysis_set_acc']=='TSTDS33660419'], igvf_api=igvf_api_sandbox, igvf_utils_api=iu_conn_sandbox, upload_file=False)"
            ]
        },
        {
            "cell_type": "code",
            "execution_count": null,
            "id": "9814f72b-8b9a-4a45-a41a-3b98e225d8f7",
            "metadata": {},
            "outputs": [],
            "source": [
                "# Upload the run results to Terra\n",
                "terra_to_portal_postres_etype = 'DACC_mockTeam_2_tester_merged'\n",
                "api_tools.upload_output_post_res_to_terra(terra_namespace=terra_namespace,\n",
                "                                          terra_workspace=terra_workspace,\n",
                "                                          terra_etype=terra_to_portal_postres_etype,\n",
                "                                          verbose=True\n",
                "                                         )"
            ]
        }
    ],
    "metadata": {
        "kernelspec": {
            "display_name": "Python 3 (ipykernel)",
            "language": "python",
            "name": "python3"
        },
        "language_info": {
            "codemirror_mode": {
                "name": "ipython",
                "version": 3
            },
            "file_extension": ".py",
            "mimetype": "text/x-python",
            "name": "python",
            "nbconvert_exporter": "python",
            "pygments_lexer": "ipython3",
            "version": "3.11.9"
        }
    },
    "nbformat": 4,
    "nbformat_minor": 5
}
