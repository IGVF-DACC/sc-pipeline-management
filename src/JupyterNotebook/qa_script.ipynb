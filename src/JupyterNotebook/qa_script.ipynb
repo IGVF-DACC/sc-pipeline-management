{
 "cells": [
  {
   "cell_type": "code",
   "execution_count": 1,
   "id": "36f6fef1-6294-4bec-aea5-fc0855d9489e",
   "metadata": {},
   "outputs": [
    {
     "name": "stdout",
     "output_type": "stream",
     "text": [
      "Changed working directory to: /Users/zheweishen/IGVF/IGVF_Repos/sc-pipeline-management\n",
      "Setup complete!\n"
     ]
    }
   ],
   "source": [
    "# Setup working directory and paths\n",
    "import sys\n",
    "import os\n",
    "\n",
    "# Change to the project root directory\n",
    "project_root = '/Users/zheweishen/IGVF/IGVF_Repos/sc-pipeline-management/'\n",
    "os.chdir(project_root)\n",
    "print(f\"Changed working directory to: {os.getcwd()}\")\n",
    "\n",
    "# Add paths to sys.path\n",
    "src_path = os.path.join(project_root, 'src')\n",
    "if project_root not in sys.path:\n",
    "    sys.path.insert(0, project_root)\n",
    "if src_path not in sys.path:\n",
    "    sys.path.insert(0, src_path)\n",
    "\n",
    "\n",
    "print(\"Setup complete!\")"
   ]
  },
  {
   "cell_type": "code",
   "execution_count": 2,
   "id": "7a0c0067-0b90-4eca-af3c-4450fd10113b",
   "metadata": {},
   "outputs": [],
   "source": [
    "import sc_pipe_management.wrangler_utils.check_accession_results as qa_tools\n",
    "import sc_pipe_management.wrangler_utils.constant as ana_const\n",
    "import sc_pipe_management.igvf_and_terra_api_tools as api_tools\n",
    "import json\n",
    "import datetime\n",
    "import pandas as pd\n",
    "import importlib"
   ]
  },
  {
   "cell_type": "code",
   "execution_count": null,
   "id": "48f00820-61ba-40a2-8347-b7a328e48f14",
   "metadata": {},
   "outputs": [],
   "source": []
  },
  {
   "cell_type": "markdown",
   "id": "68e3ae1d-e603-4dfe-be3d-a47237950abe",
   "metadata": {},
   "source": [
    "### Set up APIs"
   ]
  },
  {
   "cell_type": "code",
   "execution_count": 3,
   "id": "010d3e5e-0911-442f-b97e-9afe21919992",
   "metadata": {},
   "outputs": [
    {
     "name": "stdout",
     "output_type": "stream",
     "text": [
      "2025-10-03 21:25:31,080:iu_debug:\tsubmission=False: In non-submission mode.\n"
     ]
    },
    {
     "name": "stderr",
     "output_type": "stream",
     "text": [
      "2025-10-03 21:25:31,080 - DEBUG - submission=False: In non-submission mode.\n"
     ]
    }
   ],
   "source": [
    "# Set up API (or 'https://api.staging.igvf.org')\n",
    "igvf_endpt = 'prod'\n",
    "igvf_keys = api_tools.set_up_api_keys(igvf_endpoint=igvf_endpt)\n",
    "igvf_client_api = api_tools.get_igvf_client_auth(igvf_api_keys=igvf_keys, igvf_endpoint=igvf_endpt)\n",
    "iu_conn_api = api_tools.get_igvf_utils_connection(igvf_api_keys=igvf_keys, igvf_utils_mode=igvf_endpt)"
   ]
  },
  {
   "cell_type": "code",
   "execution_count": null,
   "id": "1ca9229a-ddc2-49f6-a107-7f9d2eef1188",
   "metadata": {},
   "outputs": [],
   "source": []
  },
  {
   "cell_type": "markdown",
   "id": "093470b2-9115-4b6e-8d13-833fd53d90fe",
   "metadata": {},
   "source": [
    "### Run QA"
   ]
  },
  {
   "cell_type": "code",
   "execution_count": 4,
   "id": "0aed9c2a-d84c-43e0-8e43-d6fc306124a2",
   "metadata": {},
   "outputs": [],
   "source": [
    "# Analysis sets to QA\n",
    "analysis_sets_to_qa = ['IGVFDS0858BSML', 'IGVFDS5674PSHY']"
   ]
  },
  {
   "cell_type": "code",
   "execution_count": 7,
   "id": "bde42a1f-5d88-4bc2-8992-95cd0541d109",
   "metadata": {},
   "outputs": [],
   "source": [
    "# Set where to save the file\n",
    "output_res_file = '/Users/zheweishen/Desktop/qa_res.json'"
   ]
  },
  {
   "cell_type": "code",
   "execution_count": 8,
   "id": "7047488f-8cd9-4125-b87a-4db3487be4e0",
   "metadata": {
    "scrolled": true
   },
   "outputs": [
    {
     "name": "stderr",
     "output_type": "stream",
     "text": [
      "2025-10-03 21:33:14,696 - INFO - Found AnalysisSet when deserializing\n",
      "2025-10-03 21:33:14,763 - INFO - Found MeasurementSet when deserializing\n",
      "2025-10-03 21:33:14,824 - INFO - Found SequenceFile when deserializing\n",
      "2025-10-03 21:33:14,884 - INFO - Found SequenceFile when deserializing\n",
      "2025-10-03 21:33:14,948 - INFO - Found SequenceFile when deserializing\n",
      "2025-10-03 21:33:15,008 - INFO - Found SequenceFile when deserializing\n",
      "2025-10-03 21:33:15,075 - INFO - Found SequenceFile when deserializing\n",
      "2025-10-03 21:33:15,138 - INFO - Found SequenceFile when deserializing\n",
      "2025-10-03 21:33:15,227 - INFO - Found SequenceFile when deserializing\n",
      "2025-10-03 21:33:15,294 - INFO - Found SequenceFile when deserializing\n",
      "2025-10-03 21:33:15,353 - INFO - Found SequenceFile when deserializing\n",
      "2025-10-03 21:33:15,416 - INFO - Found SequenceFile when deserializing\n",
      "2025-10-03 21:33:15,480 - INFO - Found SequenceFile when deserializing\n",
      "2025-10-03 21:33:15,539 - INFO - Found SequenceFile when deserializing\n",
      "2025-10-03 21:33:15,599 - INFO - Found MeasurementSet when deserializing\n",
      "2025-10-03 21:33:15,659 - INFO - Found SequenceFile when deserializing\n",
      "2025-10-03 21:33:15,731 - INFO - Found SequenceFile when deserializing\n",
      "2025-10-03 21:33:15,791 - INFO - Found SequenceFile when deserializing\n",
      "2025-10-03 21:33:15,850 - INFO - Found SequenceFile when deserializing\n",
      "2025-10-03 21:33:15,912 - INFO - Found SequenceFile when deserializing\n",
      "2025-10-03 21:33:15,979 - INFO - Found SequenceFile when deserializing\n",
      "2025-10-03 21:33:16,037 - INFO - Found SequenceFile when deserializing\n",
      "2025-10-03 21:33:16,098 - INFO - Found SequenceFile when deserializing\n",
      "2025-10-03 21:33:16,160 - INFO - Found SequenceFile when deserializing\n",
      "2025-10-03 21:33:16,224 - INFO - Found SequenceFile when deserializing\n",
      "2025-10-03 21:33:16,293 - INFO - Found SequenceFile when deserializing\n",
      "2025-10-03 21:33:16,356 - INFO - Found SequenceFile when deserializing\n",
      "2025-10-03 21:33:16,417 - INFO - Found SequenceFile when deserializing\n",
      "2025-10-03 21:33:16,505 - INFO - Found SequenceFile when deserializing\n",
      "2025-10-03 21:33:16,566 - INFO - Found SequenceFile when deserializing\n",
      "2025-10-03 21:33:16,627 - INFO - Found SequenceFile when deserializing\n",
      "2025-10-03 21:33:16,691 - INFO - Found SequenceFile when deserializing\n",
      "2025-10-03 21:33:16,774 - INFO - Found SequenceFile when deserializing\n",
      "2025-10-03 21:33:16,839 - INFO - Found SequenceFile when deserializing\n",
      "2025-10-03 21:33:16,900 - INFO - Found SequenceFile when deserializing\n",
      "2025-10-03 21:33:16,960 - INFO - Found Document when deserializing\n",
      "2025-10-03 21:33:17,044 - INFO - Found MatrixFile when deserializing\n",
      "2025-10-03 21:33:17,104 - INFO - Found MatrixFile when deserializing\n",
      "2025-10-03 21:33:17,165 - INFO - Found SingleCellRnaSeqQualityMetric when deserializing\n",
      "2025-10-03 21:33:17,227 - INFO - Found SingleCellRnaSeqQualityMetric when deserializing\n",
      "2025-10-03 21:33:17,299 - INFO - Found AlignmentFile when deserializing\n",
      "2025-10-03 21:33:17,362 - INFO - Found SingleCellAtacSeqQualityMetric when deserializing\n",
      "2025-10-03 21:33:17,422 - INFO - Found IndexFile when deserializing\n",
      "2025-10-03 21:33:17,486 - INFO - Found TabularFile when deserializing\n",
      "2025-10-03 21:33:17,561 - INFO - Found SingleCellAtacSeqQualityMetric when deserializing\n",
      "2025-10-03 21:33:17,627 - INFO - Found IndexFile when deserializing\n",
      "2025-10-03 21:33:17,751 - INFO - Found AnalysisSet when deserializing\n",
      "2025-10-03 21:33:17,819 - INFO - Found MeasurementSet when deserializing\n",
      "2025-10-03 21:33:17,880 - INFO - Found SequenceFile when deserializing\n",
      "2025-10-03 21:33:17,938 - INFO - Found SequenceFile when deserializing\n",
      "2025-10-03 21:33:17,997 - INFO - Found SequenceFile when deserializing\n",
      "2025-10-03 21:33:18,062 - INFO - Found SequenceFile when deserializing\n",
      "2025-10-03 21:33:18,123 - INFO - Found SequenceFile when deserializing\n",
      "2025-10-03 21:33:18,184 - INFO - Found SequenceFile when deserializing\n",
      "2025-10-03 21:33:18,243 - INFO - Found SequenceFile when deserializing\n",
      "2025-10-03 21:33:18,322 - INFO - Found SequenceFile when deserializing\n",
      "2025-10-03 21:33:18,384 - INFO - Found SequenceFile when deserializing\n",
      "2025-10-03 21:33:18,445 - INFO - Found SequenceFile when deserializing\n",
      "2025-10-03 21:33:18,523 - INFO - Found SequenceFile when deserializing\n",
      "2025-10-03 21:33:18,588 - INFO - Found SequenceFile when deserializing\n",
      "2025-10-03 21:33:18,649 - INFO - Found SequenceFile when deserializing\n",
      "2025-10-03 21:33:18,709 - INFO - Found SequenceFile when deserializing\n",
      "2025-10-03 21:33:18,788 - INFO - Found SequenceFile when deserializing\n",
      "2025-10-03 21:33:18,852 - INFO - Found SequenceFile when deserializing\n",
      "2025-10-03 21:33:18,919 - INFO - Found SequenceFile when deserializing\n",
      "2025-10-03 21:33:18,976 - INFO - Found SequenceFile when deserializing\n",
      "2025-10-03 21:33:19,059 - INFO - Found SequenceFile when deserializing\n",
      "2025-10-03 21:33:19,148 - INFO - Found SequenceFile when deserializing\n",
      "2025-10-03 21:33:19,207 - INFO - Found SequenceFile when deserializing\n",
      "2025-10-03 21:33:19,265 - INFO - Found SequenceFile when deserializing\n",
      "2025-10-03 21:33:19,328 - INFO - Found SequenceFile when deserializing\n",
      "2025-10-03 21:33:19,391 - INFO - Found SequenceFile when deserializing\n",
      "2025-10-03 21:33:19,454 - INFO - Found MeasurementSet when deserializing\n",
      "2025-10-03 21:33:19,517 - INFO - Found SequenceFile when deserializing\n",
      "2025-10-03 21:33:19,587 - INFO - Found SequenceFile when deserializing\n",
      "2025-10-03 21:33:19,657 - INFO - Found SequenceFile when deserializing\n",
      "2025-10-03 21:33:19,722 - INFO - Found SequenceFile when deserializing\n",
      "2025-10-03 21:33:19,787 - INFO - Found SequenceFile when deserializing\n",
      "2025-10-03 21:33:19,859 - INFO - Found SequenceFile when deserializing\n",
      "2025-10-03 21:33:19,919 - INFO - Found SequenceFile when deserializing\n",
      "2025-10-03 21:33:19,979 - INFO - Found SequenceFile when deserializing\n",
      "2025-10-03 21:33:20,040 - INFO - Found SequenceFile when deserializing\n",
      "2025-10-03 21:33:20,106 - INFO - Found SequenceFile when deserializing\n",
      "2025-10-03 21:33:20,163 - INFO - Found SequenceFile when deserializing\n",
      "2025-10-03 21:33:20,225 - INFO - Found SequenceFile when deserializing\n",
      "2025-10-03 21:33:20,287 - INFO - Found SequenceFile when deserializing\n",
      "2025-10-03 21:33:20,358 - INFO - Found SequenceFile when deserializing\n",
      "2025-10-03 21:33:20,417 - INFO - Found SequenceFile when deserializing\n",
      "2025-10-03 21:33:20,478 - INFO - Found SequenceFile when deserializing\n",
      "2025-10-03 21:33:20,540 - INFO - Found Document when deserializing\n",
      "2025-10-03 21:33:20,609 - INFO - Found MatrixFile when deserializing\n",
      "2025-10-03 21:33:20,671 - INFO - Found MatrixFile when deserializing\n",
      "2025-10-03 21:33:20,731 - INFO - Found SingleCellRnaSeqQualityMetric when deserializing\n",
      "2025-10-03 21:33:20,798 - INFO - Found SingleCellRnaSeqQualityMetric when deserializing\n",
      "2025-10-03 21:33:20,873 - INFO - Found AlignmentFile when deserializing\n",
      "2025-10-03 21:33:20,936 - INFO - Found SingleCellAtacSeqQualityMetric when deserializing\n",
      "2025-10-03 21:33:20,994 - INFO - Found IndexFile when deserializing\n",
      "2025-10-03 21:33:21,055 - INFO - Found TabularFile when deserializing\n",
      "2025-10-03 21:33:21,119 - INFO - Found SingleCellAtacSeqQualityMetric when deserializing\n",
      "2025-10-03 21:33:21,178 - INFO - Found IndexFile when deserializing\n",
      "2025-10-03 21:33:21,182 - INFO - QC results written to /Users/zheweishen/Desktop/qa_res.json.\n"
     ]
    },
    {
     "data": {
      "text/plain": [
       "{'IGVFDS0858BSML': 'All checks passed.',\n",
       " 'IGVFDS5674PSHY': 'All checks passed.'}"
      ]
     },
     "execution_count": 8,
     "metadata": {},
     "output_type": "execute_result"
    }
   ],
   "source": [
    "# Run QA and output a JSON file\n",
    "qa_tools.main(list_of_analysis_set_acc=analysis_sets_to_qa, igvf_client_api=igvf_client_api, output_file_path=output_res_file)"
   ]
  },
  {
   "cell_type": "code",
   "execution_count": null,
   "id": "0bbcb855-f2dc-4777-8924-974b1b3306b0",
   "metadata": {},
   "outputs": [],
   "source": []
  },
  {
   "cell_type": "code",
   "execution_count": null,
   "id": "b6491eb1-c557-4c6d-9226-e29d9063f9e4",
   "metadata": {},
   "outputs": [],
   "source": []
  }
 ],
 "metadata": {
  "kernelspec": {
   "display_name": "Python 3 (ipykernel)",
   "language": "python",
   "name": "python3"
  },
  "language_info": {
   "codemirror_mode": {
    "name": "ipython",
    "version": 3
   },
   "file_extension": ".py",
   "mimetype": "text/x-python",
   "name": "python",
   "nbconvert_exporter": "python",
   "pygments_lexer": "ipython3",
   "version": "3.11.9"
  }
 },
 "nbformat": 4,
 "nbformat_minor": 5
}
