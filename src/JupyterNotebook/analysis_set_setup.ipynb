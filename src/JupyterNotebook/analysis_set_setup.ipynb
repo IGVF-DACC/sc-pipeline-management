{
 "cells": [
  {
   "cell_type": "code",
   "execution_count": 1,
   "id": "6c58d23b-c505-45ec-b79d-d1fad8182c9b",
   "metadata": {},
   "outputs": [
    {
     "name": "stdout",
     "output_type": "stream",
     "text": [
      "Changed working directory to: /Users/zheweishen/IGVF/IGVF_Repos/sc-pipeline-management\n",
      "Setup complete!\n"
     ]
    }
   ],
   "source": [
    "# Setup working directory and paths\n",
    "import sys\n",
    "import os\n",
    "\n",
    "# Change to the project root directory\n",
    "project_root = '/Users/zheweishen/IGVF/IGVF_Repos/sc-pipeline-management/'\n",
    "os.chdir(project_root)\n",
    "print(f\"Changed working directory to: {os.getcwd()}\")\n",
    "\n",
    "# Add paths to sys.path\n",
    "src_path = os.path.join(project_root, 'src')\n",
    "if project_root not in sys.path:\n",
    "    sys.path.insert(0, project_root)\n",
    "if src_path not in sys.path:\n",
    "    sys.path.insert(0, src_path)\n",
    "\n",
    "\n",
    "print(\"Setup complete!\")"
   ]
  },
  {
   "cell_type": "code",
   "execution_count": 18,
   "id": "91c3a1cf-2478-4bce-b2c8-ec10fbbea38a",
   "metadata": {},
   "outputs": [],
   "source": [
    "import sc_pipe_management.wrangler_utils.analysis_set_setup_utils as ana_tools\n",
    "import sc_pipe_management.wrangler_utils.constant as ana_const\n",
    "import sc_pipe_management.igvf_and_terra_api_tools as api_tools\n",
    "import json\n",
    "import datetime\n",
    "import pandas as pd\n",
    "import importlib"
   ]
  },
  {
   "cell_type": "code",
   "execution_count": 17,
   "id": "f2e76ba9-112c-490d-a9f0-c88003fbc3b5",
   "metadata": {},
   "outputs": [
    {
     "data": {
      "text/plain": [
       "<module 'sc_pipe_management.wranger_utils.analysis_set_setup_utils' from '/Users/zheweishen/IGVF/IGVF_Repos/sc-pipeline-management/src/sc_pipe_management/wranger_utils/analysis_set_setup_utils.py'>"
      ]
     },
     "execution_count": 17,
     "metadata": {},
     "output_type": "execute_result"
    }
   ],
   "source": [
    "importlib.reload(ana_tools)"
   ]
  },
  {
   "cell_type": "markdown",
   "id": "2528becf-8dc4-468a-95a3-a3b30ec29642",
   "metadata": {},
   "source": [
    "### Set up APIs"
   ]
  },
  {
   "cell_type": "code",
   "execution_count": 4,
   "id": "e3a5711f-83f8-4b17-a038-440e11caa197",
   "metadata": {},
   "outputs": [
    {
     "name": "stdout",
     "output_type": "stream",
     "text": [
      "2025-10-03 16:45:47,082:iu_debug:\tsubmission=False: In non-submission mode.\n"
     ]
    }
   ],
   "source": [
    "# Set up API (or 'https://api.staging.igvf.org')\n",
    "igvf_endpt = 'prod'\n",
    "igvf_keys = api_tools.set_up_api_keys(igvf_endpoint=igvf_endpt)\n",
    "igvf_client_api = api_tools.get_igvf_client_auth(igvf_api_keys=igvf_keys, igvf_endpoint=igvf_endpt)\n",
    "iu_conn_api = api_tools.get_igvf_utils_connection(igvf_api_keys=igvf_keys, igvf_utils_mode=igvf_endpt)"
   ]
  },
  {
   "cell_type": "code",
   "execution_count": null,
   "id": "f347ec87-47fa-45b8-b1bf-bb77aeb8d06f",
   "metadata": {},
   "outputs": [],
   "source": []
  },
  {
   "cell_type": "markdown",
   "id": "0867eb89-0d58-4903-8f9b-32408f49b44b",
   "metadata": {},
   "source": [
    "### Set up placeholder analysis sets"
   ]
  },
  {
   "cell_type": "markdown",
   "id": "169cc163-b739-4b1d-9544-5439149c0e6f",
   "metadata": {
    "jp-MarkdownHeadingCollapsed": true
   },
   "source": [
    "#### Step 1: IGVF portal query"
   ]
  },
  {
   "cell_type": "code",
   "execution_count": 4,
   "id": "45fe96d3-eb2d-4d36-87bc-0d7232cb3376",
   "metadata": {},
   "outputs": [],
   "source": [
    "# Set up query info\n",
    "lab_id = '/labs/jason-buenrostro/'\n",
    "award_id = '/awards/HG011986/'\n",
    "preferred_assay_titles = ['SHARE-seq']\n",
    "statues = ['released']\n",
    "sample_names = ['colon', 'colonic epithelium', 'colon epithelial cell']\n",
    "query_limit = 'all'"
   ]
  },
  {
   "cell_type": "code",
   "execution_count": 5,
   "id": "5c0db911-6a8f-4fdb-a5cc-2e21819b0ca6",
   "metadata": {},
   "outputs": [
    {
     "data": {
      "text/plain": [
       "{'status': ['released'],\n",
       " 'lab.@id': '/labs/jason-buenrostro/',\n",
       " 'award.@id': '/awards/HG011986/',\n",
       " 'preferred_assay_titles': ['SHARE-seq'],\n",
       " 'audit.NOT_COMPLIANT.category!': ['missing sequence specification',\n",
       "  'missing barcode replacement file',\n",
       "  'missing read names',\n",
       "  'missing barcode onlist'],\n",
       " 'audit.ERROR.category!': ['upload status not validated',\n",
       "  'unexpected barcode onlist',\n",
       "  'inconsistent sequence specifications',\n",
       "  'inconsistent preferred assay titles'],\n",
       " 'samples.sample_terms.term_name': ['colon',\n",
       "  'colonic epithelium',\n",
       "  'colon epithelial cell']}"
      ]
     },
     "execution_count": 5,
     "metadata": {},
     "output_type": "execute_result"
    }
   ],
   "source": [
    "# Set up query params\n",
    "query_params = ana_tools.generate_filtered_fields(lab_id=lab_id,\n",
    "                                                  award_id=award_id,\n",
    "                                                  preferred_assay_titles=preferred_assay_titles,\n",
    "                                                  statues=statues,\n",
    "                                                  sample_names=sample_names)\n",
    "query_params"
   ]
  },
  {
   "cell_type": "code",
   "execution_count": 6,
   "id": "da8d8cfe-3300-479b-9225-6f5520fc64e2",
   "metadata": {},
   "outputs": [],
   "source": [
    "# Query the website for measurement sets meeting the criteria\n",
    "query_res = ana_tools.query_for_measets(filtered_fields=query_params,\n",
    "                                        igvf_client_api=igvf_client_api,\n",
    "                                        limit=query_limit)"
   ]
  },
  {
   "cell_type": "code",
   "execution_count": 7,
   "id": "761bbb2c-d725-4b5b-955d-3f97ebec3136",
   "metadata": {},
   "outputs": [
    {
     "data": {
      "text/plain": [
       "39"
      ]
     },
     "execution_count": 7,
     "metadata": {},
     "output_type": "execute_result"
    }
   ],
   "source": [
    "len(query_res)"
   ]
  },
  {
   "cell_type": "code",
   "execution_count": null,
   "id": "89daa72b-7e9e-466a-a483-1bda1d13be43",
   "metadata": {},
   "outputs": [],
   "source": []
  },
  {
   "cell_type": "markdown",
   "id": "5b58da1b-c2a3-4a15-b406-5addf2d0d6fc",
   "metadata": {
    "jp-MarkdownHeadingCollapsed": true
   },
   "source": [
    "#### Step 2: Generate input_file_sets arrays to make new analysis sets"
   ]
  },
  {
   "cell_type": "code",
   "execution_count": 18,
   "id": "906044e3-6682-48fc-9c9c-92afa1fc0c96",
   "metadata": {},
   "outputs": [],
   "source": [
    "# Make input file sets arrays\n",
    "new_input_file_sets_arrays = ana_tools.get_all_input_file_sets(query_res=query_res,\n",
    "                                                               igvf_client_api=igvf_client_api)"
   ]
  },
  {
   "cell_type": "code",
   "execution_count": 19,
   "id": "55caec4c-f91f-49c2-b44c-3f2655f23c38",
   "metadata": {},
   "outputs": [
    {
     "data": {
      "text/plain": [
       "1"
      ]
     },
     "execution_count": 19,
     "metadata": {},
     "output_type": "execute_result"
    }
   ],
   "source": [
    "len(new_input_file_sets_arrays)"
   ]
  },
  {
   "cell_type": "code",
   "execution_count": 10,
   "id": "cb65ca47-54d8-4c5f-bcb7-cfb8460f3bc6",
   "metadata": {},
   "outputs": [
    {
     "name": "stdout",
     "output_type": "stream",
     "text": [
      "['/measurement-sets/IGVFDS1130NULC/', '/measurement-sets/IGVFDS1680VACI/', '/measurement-sets/IGVFDS3212RENM/', '/measurement-sets/IGVFDS4205JWPE/']\n"
     ]
    }
   ],
   "source": [
    "# Hand check a few just to be sure\n",
    "for pair in new_input_file_sets_arrays:\n",
    "    print(pair)"
   ]
  },
  {
   "cell_type": "code",
   "execution_count": null,
   "id": "8939898d-4372-493c-8fd2-fb987d896aa9",
   "metadata": {},
   "outputs": [],
   "source": []
  },
  {
   "cell_type": "code",
   "execution_count": null,
   "id": "76a94cbb-1c21-4310-a911-c2176607ec0b",
   "metadata": {},
   "outputs": [],
   "source": []
  },
  {
   "cell_type": "markdown",
   "id": "55c8533a-4735-41f1-bca8-e6c950d207ce",
   "metadata": {
    "jp-MarkdownHeadingCollapsed": true
   },
   "source": [
    "#### Step 3: Create payload and submit to portal"
   ]
  },
  {
   "cell_type": "code",
   "execution_count": 15,
   "id": "6dfbd609-8e7f-4269-97b0-8703ca00806f",
   "metadata": {
    "scrolled": true
   },
   "outputs": [
    {
     "name": "stdout",
     "output_type": "stream",
     "text": [
      "2025-09-02 15:28:34,567:iu_debug:\t\n",
      "IN post().\n"
     ]
    },
    {
     "name": "stderr",
     "output_type": "stream",
     "text": [
      "DEBUG:iu_debug:\n",
      "IN post().\n"
     ]
    },
    {
     "name": "stdout",
     "output_type": "stream",
     "text": [
      "2025-09-02 15:28:34,570:iu_debug:\tValidating the payload against the schema\n"
     ]
    },
    {
     "name": "stderr",
     "output_type": "stream",
     "text": [
      "DEBUG:iu_debug:Validating the payload against the schema\n"
     ]
    },
    {
     "name": "stdout",
     "output_type": "stream",
     "text": [
      "2025-09-02 15:28:34,591:iu_debug:\t<<<<<< POST analysis_set record jason-buenrostro:Sample-IGVFSM7017UXAA_single-cell-uniform-pipeline To IGVF database with URL https://api.staging.igvf.org/analysis_set and this payload:\n",
      "\n",
      "{\n",
      "  \"aliases\": [\n",
      "    \"jason-buenrostro:Sample-IGVFSM7017UXAA_single-cell-uniform-pipeline\"\n",
      "  ],\n",
      "  \"award\": \"/awards/HG011986/\",\n",
      "  \"file_set_type\": \"intermediate analysis\",\n",
      "  \"input_file_sets\": [\n",
      "    \"/measurement-sets/IGVFDS1130NULC/\",\n",
      "    \"/measurement-sets/IGVFDS1680VACI/\",\n",
      "    \"/measurement-sets/IGVFDS3212RENM/\",\n",
      "    \"/measurement-sets/IGVFDS4205JWPE/\"\n",
      "  ],\n",
      "  \"lab\": \"/labs/jason-buenrostro/\",\n",
      "  \"uniform_pipeline_status\": \"preprocessing\"\n",
      "}\n",
      "\n",
      "\n"
     ]
    },
    {
     "name": "stderr",
     "output_type": "stream",
     "text": [
      "DEBUG:iu_debug:<<<<<< POST analysis_set record jason-buenrostro:Sample-IGVFSM7017UXAA_single-cell-uniform-pipeline To IGVF database with URL https://api.staging.igvf.org/analysis_set and this payload:\n",
      "\n",
      "{\n",
      "  \"aliases\": [\n",
      "    \"jason-buenrostro:Sample-IGVFSM7017UXAA_single-cell-uniform-pipeline\"\n",
      "  ],\n",
      "  \"award\": \"/awards/HG011986/\",\n",
      "  \"file_set_type\": \"intermediate analysis\",\n",
      "  \"input_file_sets\": [\n",
      "    \"/measurement-sets/IGVFDS1130NULC/\",\n",
      "    \"/measurement-sets/IGVFDS1680VACI/\",\n",
      "    \"/measurement-sets/IGVFDS3212RENM/\",\n",
      "    \"/measurement-sets/IGVFDS4205JWPE/\"\n",
      "  ],\n",
      "  \"lab\": \"/labs/jason-buenrostro/\",\n",
      "  \"uniform_pipeline_status\": \"preprocessing\"\n",
      "}\n",
      "\n",
      "\n"
     ]
    },
    {
     "name": "stdout",
     "output_type": "stream",
     "text": [
      "2025-09-02 15:28:35,026:iu_debug:\t{'@type': ['HTTPConflict', 'Error'], 'status': 'error', 'code': 409, 'title': 'Conflict', 'description': 'There was a conflict when trying to complete your request.', 'detail': \"Keys conflict: [('alias', 'jason-buenrostro:Sample-IGVFSM7017UXAA_single-cell-uniform-pipeline')]\"}\n"
     ]
    },
    {
     "name": "stderr",
     "output_type": "stream",
     "text": [
      "DEBUG:iu_debug:{'@type': ['HTTPConflict', 'Error'], 'status': 'error', 'code': 409, 'title': 'Conflict', 'description': 'There was a conflict when trying to complete your request.', 'detail': \"Keys conflict: [('alias', 'jason-buenrostro:Sample-IGVFSM7017UXAA_single-cell-uniform-pipeline')]\"}\n"
     ]
    },
    {
     "name": "stdout",
     "output_type": "stream",
     "text": [
      "2025-09-02 15:28:35,029:iu_debug:\t>>>>>>GET jason-buenrostro:Sample-IGVFSM7017UXAA_single-cell-uniform-pipeline From DACC with URL https://api.staging.igvf.org/jason-buenrostro:Sample-IGVFSM7017UXAA_single-cell-uniform-pipeline/?format=json\n"
     ]
    },
    {
     "name": "stderr",
     "output_type": "stream",
     "text": [
      "DEBUG:iu_debug:>>>>>>GET jason-buenrostro:Sample-IGVFSM7017UXAA_single-cell-uniform-pipeline From DACC with URL https://api.staging.igvf.org/jason-buenrostro:Sample-IGVFSM7017UXAA_single-cell-uniform-pipeline/?format=json\n"
     ]
    },
    {
     "name": "stdout",
     "output_type": "stream",
     "text": [
      "2025-09-02 15:28:35,409:iu_debug:\tWill not POST 'jason-buenrostro:Sample-IGVFSM7017UXAA_single-cell-uniform-pipeline' since it already exists with aliases '['jason-buenrostro:Sample-IGVFSM7017UXAA_single-cell-uniform-pipeline']'.\n"
     ]
    },
    {
     "name": "stderr",
     "output_type": "stream",
     "text": [
      "ERROR:iu_debug:Will not POST 'jason-buenrostro:Sample-IGVFSM7017UXAA_single-cell-uniform-pipeline' since it already exists with aliases '['jason-buenrostro:Sample-IGVFSM7017UXAA_single-cell-uniform-pipeline']'.\n",
      "ERROR:iu_error:Will not POST 'jason-buenrostro:Sample-IGVFSM7017UXAA_single-cell-uniform-pipeline' since it already exists with aliases '['jason-buenrostro:Sample-IGVFSM7017UXAA_single-cell-uniform-pipeline']'.\n"
     ]
    }
   ],
   "source": [
    "# Create payload\n",
    "new_analysis_sets_accessioned = ana_tools.post_all_anasets_to_portal(all_input_file_sets=new_input_file_sets_arrays,\n",
    "                                                                     lab=lab_id,\n",
    "                                                                     award=award_id,\n",
    "                                                                     igvf_utils_api=iu_conn_api,\n",
    "                                                                     igvf_client_api=igvf_client_api)"
   ]
  },
  {
   "cell_type": "code",
   "execution_count": 16,
   "id": "f2a32a66-e04a-441c-aa3a-6a75d944b489",
   "metadata": {},
   "outputs": [
    {
     "data": {
      "text/plain": [
       "1"
      ]
     },
     "execution_count": 16,
     "metadata": {},
     "output_type": "execute_result"
    }
   ],
   "source": [
    "len(new_analysis_sets_accessioned)"
   ]
  },
  {
   "cell_type": "code",
   "execution_count": 17,
   "id": "4e906052-a17b-46a6-ad33-365429797912",
   "metadata": {},
   "outputs": [
    {
     "data": {
      "text/plain": [
       "[AnaSetCreationResult(accession='TSTDS14505600', input_file_sets=['/measurement-sets/IGVFDS1130NULC/', '/measurement-sets/IGVFDS1680VACI/', '/measurement-sets/IGVFDS3212RENM/', '/measurement-sets/IGVFDS4205JWPE/'], errors=None)]"
      ]
     },
     "execution_count": 17,
     "metadata": {},
     "output_type": "execute_result"
    }
   ],
   "source": [
    "new_analysis_sets_accessioned"
   ]
  },
  {
   "cell_type": "code",
   "execution_count": null,
   "id": "de95b793-15a0-439e-a515-5acc07a0154f",
   "metadata": {},
   "outputs": [],
   "source": []
  },
  {
   "cell_type": "code",
   "execution_count": null,
   "id": "0ccd5205-bfe7-40ee-b7cb-4cd09460952f",
   "metadata": {},
   "outputs": [],
   "source": []
  },
  {
   "cell_type": "markdown",
   "id": "e82ecc76-60d7-4eb4-90a0-c15f23d16328",
   "metadata": {
    "jp-MarkdownHeadingCollapsed": true
   },
   "source": [
    "#### Step 4: Output file to a txt"
   ]
  },
  {
   "cell_type": "code",
   "execution_count": null,
   "id": "529bc06d-d8a7-4315-9f82-07748fc01f14",
   "metadata": {},
   "outputs": [],
   "source": []
  },
  {
   "cell_type": "code",
   "execution_count": 18,
   "id": "b7de8f26-ba23-449a-bb85-9195bcdaa842",
   "metadata": {},
   "outputs": [
    {
     "data": {
      "text/plain": [
       "'/Users/zheweishen/IGVF/IGVF_Repos/sc-pipeline-management/terra_datatables/setup/Buenrostro/buenrostro_released_SHARE-seq_colon_20250902/buenrostro_released_SHARE-seq_colon_20250902.txt'"
      ]
     },
     "execution_count": 18,
     "metadata": {},
     "output_type": "execute_result"
    }
   ],
   "source": [
    "ana_tools.write_anaset_accs_to_file(portal_post_res=new_analysis_sets_accessioned,\n",
    "                                    lab_id=lab_id,\n",
    "                                    preferred_assay_titles=preferred_assay_titles,\n",
    "                                    additional_desc='colon',\n",
    "                                    release_statuses=statues)"
   ]
  },
  {
   "cell_type": "code",
   "execution_count": null,
   "id": "fad6f830-3d85-415f-ae53-0b3af8e01fad",
   "metadata": {},
   "outputs": [],
   "source": []
  },
  {
   "cell_type": "code",
   "execution_count": null,
   "id": "137069a5-04ff-4447-8c5d-ceebfd091c8d",
   "metadata": {},
   "outputs": [],
   "source": []
  },
  {
   "cell_type": "markdown",
   "id": "d71c0589-333f-4f62-8c4b-a09e49db8aca",
   "metadata": {},
   "source": [
    "##"
   ]
  },
  {
   "cell_type": "markdown",
   "id": "596c2483-1161-4cd5-8588-4d8542b8e663",
   "metadata": {
    "jp-MarkdownHeadingCollapsed": true
   },
   "source": [
    "### Utils #0: Sandbox"
   ]
  },
  {
   "cell_type": "code",
   "execution_count": null,
   "id": "ef9e4782-bc4a-4eb1-949a-b537def5cc6c",
   "metadata": {},
   "outputs": [],
   "source": []
  },
  {
   "cell_type": "code",
   "execution_count": null,
   "id": "306ab90e-51ac-4a91-8112-65ca6484bdd5",
   "metadata": {},
   "outputs": [],
   "source": []
  },
  {
   "cell_type": "code",
   "execution_count": 20,
   "id": "3dced20a-cb82-44c3-a081-347f50307ff6",
   "metadata": {},
   "outputs": [],
   "source": [
    "foo_inputs = [\n",
    "    ['TSTDS74957974', 'TSTDS31000813'],\n",
    "    ['TSTDS20638124', 'TSTDS16685999'],\n",
    "    ['TSTDS68628693', 'TSTDS69083547']\n",
    "]"
   ]
  },
  {
   "cell_type": "code",
   "execution_count": 22,
   "id": "4c1db64a-cfbf-4c0c-b032-50d3f6c37a38",
   "metadata": {
    "scrolled": true
   },
   "outputs": [
    {
     "name": "stdout",
     "output_type": "stream",
     "text": [
      "2025-09-02 15:37:41,111:iu_debug:\t\n",
      "IN post().\n"
     ]
    },
    {
     "name": "stderr",
     "output_type": "stream",
     "text": [
      "DEBUG:iu_debug:\n",
      "IN post().\n"
     ]
    },
    {
     "name": "stdout",
     "output_type": "stream",
     "text": [
      "2025-09-02 15:37:41,113:iu_debug:\tValidating the payload against the schema\n"
     ]
    },
    {
     "name": "stderr",
     "output_type": "stream",
     "text": [
      "DEBUG:iu_debug:Validating the payload against the schema\n"
     ]
    },
    {
     "name": "stdout",
     "output_type": "stream",
     "text": [
      "2025-09-02 15:37:41,139:iu_debug:\t<<<<<< POST analysis_set record jason-buenrostro:Sample-_single-cell-uniform-pipeline To IGVF database with URL https://api.sandbox.igvf.org/analysis_set and this payload:\n",
      "\n",
      "{\n",
      "  \"aliases\": [\n",
      "    \"jason-buenrostro:Sample-_single-cell-uniform-pipeline\"\n",
      "  ],\n",
      "  \"award\": \"/awards/HG011986/\",\n",
      "  \"file_set_type\": \"intermediate analysis\",\n",
      "  \"input_file_sets\": [\n",
      "    \"TSTDS74957974\",\n",
      "    \"TSTDS31000813\"\n",
      "  ],\n",
      "  \"lab\": \"/labs/jason-buenrostro/\",\n",
      "  \"uniform_pipeline_status\": \"preprocessing\"\n",
      "}\n",
      "\n",
      "\n"
     ]
    },
    {
     "name": "stderr",
     "output_type": "stream",
     "text": [
      "DEBUG:iu_debug:<<<<<< POST analysis_set record jason-buenrostro:Sample-_single-cell-uniform-pipeline To IGVF database with URL https://api.sandbox.igvf.org/analysis_set and this payload:\n",
      "\n",
      "{\n",
      "  \"aliases\": [\n",
      "    \"jason-buenrostro:Sample-_single-cell-uniform-pipeline\"\n",
      "  ],\n",
      "  \"award\": \"/awards/HG011986/\",\n",
      "  \"file_set_type\": \"intermediate analysis\",\n",
      "  \"input_file_sets\": [\n",
      "    \"TSTDS74957974\",\n",
      "    \"TSTDS31000813\"\n",
      "  ],\n",
      "  \"lab\": \"/labs/jason-buenrostro/\",\n",
      "  \"uniform_pipeline_status\": \"preprocessing\"\n",
      "}\n",
      "\n",
      "\n"
     ]
    },
    {
     "name": "stdout",
     "output_type": "stream",
     "text": [
      "2025-09-02 15:37:43,061:iu_debug:\tSuccess.\n"
     ]
    },
    {
     "name": "stderr",
     "output_type": "stream",
     "text": [
      "DEBUG:iu_debug:Success.\n"
     ]
    },
    {
     "name": "stdout",
     "output_type": "stream",
     "text": [
      "2025-09-02 15:37:43,063:iu_debug:\tObject posted with identifier: TSTDS41499750\n"
     ]
    },
    {
     "name": "stderr",
     "output_type": "stream",
     "text": [
      "DEBUG:iu_debug:Object posted with identifier: TSTDS41499750\n",
      "INFO:iu_post:jason-buenrostro:Sample-_single-cell-uniform-pipeline\t\tTSTDS41499750\n"
     ]
    },
    {
     "name": "stdout",
     "output_type": "stream",
     "text": [
      "2025-09-02 15:37:43,067:iu_debug:\tWill not upload file TSTDS41499750 to the portal since upload_file is False\n"
     ]
    },
    {
     "name": "stderr",
     "output_type": "stream",
     "text": [
      "DEBUG:iu_debug:Will not upload file TSTDS41499750 to the portal since upload_file is False\n"
     ]
    },
    {
     "name": "stdout",
     "output_type": "stream",
     "text": [
      "2025-09-02 15:37:43,070:iu_debug:\t\n",
      "IN post().\n"
     ]
    },
    {
     "name": "stderr",
     "output_type": "stream",
     "text": [
      "DEBUG:iu_debug:\n",
      "IN post().\n"
     ]
    },
    {
     "name": "stdout",
     "output_type": "stream",
     "text": [
      "2025-09-02 15:37:43,072:iu_debug:\tValidating the payload against the schema\n"
     ]
    },
    {
     "name": "stderr",
     "output_type": "stream",
     "text": [
      "DEBUG:iu_debug:Validating the payload against the schema\n"
     ]
    },
    {
     "name": "stdout",
     "output_type": "stream",
     "text": [
      "2025-09-02 15:37:43,102:iu_debug:\t<<<<<< POST analysis_set record jason-buenrostro:Sample-_single-cell-uniform-pipeline To IGVF database with URL https://api.sandbox.igvf.org/analysis_set and this payload:\n",
      "\n",
      "{\n",
      "  \"aliases\": [\n",
      "    \"jason-buenrostro:Sample-_single-cell-uniform-pipeline\"\n",
      "  ],\n",
      "  \"award\": \"/awards/HG011986/\",\n",
      "  \"file_set_type\": \"intermediate analysis\",\n",
      "  \"input_file_sets\": [\n",
      "    \"TSTDS20638124\",\n",
      "    \"TSTDS16685999\"\n",
      "  ],\n",
      "  \"lab\": \"/labs/jason-buenrostro/\",\n",
      "  \"uniform_pipeline_status\": \"preprocessing\"\n",
      "}\n",
      "\n",
      "\n"
     ]
    },
    {
     "name": "stderr",
     "output_type": "stream",
     "text": [
      "DEBUG:iu_debug:<<<<<< POST analysis_set record jason-buenrostro:Sample-_single-cell-uniform-pipeline To IGVF database with URL https://api.sandbox.igvf.org/analysis_set and this payload:\n",
      "\n",
      "{\n",
      "  \"aliases\": [\n",
      "    \"jason-buenrostro:Sample-_single-cell-uniform-pipeline\"\n",
      "  ],\n",
      "  \"award\": \"/awards/HG011986/\",\n",
      "  \"file_set_type\": \"intermediate analysis\",\n",
      "  \"input_file_sets\": [\n",
      "    \"TSTDS20638124\",\n",
      "    \"TSTDS16685999\"\n",
      "  ],\n",
      "  \"lab\": \"/labs/jason-buenrostro/\",\n",
      "  \"uniform_pipeline_status\": \"preprocessing\"\n",
      "}\n",
      "\n",
      "\n"
     ]
    },
    {
     "name": "stdout",
     "output_type": "stream",
     "text": [
      "2025-09-02 15:37:43,576:iu_debug:\t{'@type': ['HTTPConflict', 'Error'], 'status': 'error', 'code': 409, 'title': 'Conflict', 'description': 'There was a conflict when trying to complete your request.', 'detail': \"Keys conflict: [('alias', 'jason-buenrostro:Sample-_single-cell-uniform-pipeline')]\"}\n"
     ]
    },
    {
     "name": "stderr",
     "output_type": "stream",
     "text": [
      "DEBUG:iu_debug:{'@type': ['HTTPConflict', 'Error'], 'status': 'error', 'code': 409, 'title': 'Conflict', 'description': 'There was a conflict when trying to complete your request.', 'detail': \"Keys conflict: [('alias', 'jason-buenrostro:Sample-_single-cell-uniform-pipeline')]\"}\n"
     ]
    },
    {
     "name": "stdout",
     "output_type": "stream",
     "text": [
      "2025-09-02 15:37:43,580:iu_debug:\t>>>>>>GET jason-buenrostro:Sample-_single-cell-uniform-pipeline From DACC with URL https://api.sandbox.igvf.org/jason-buenrostro:Sample-_single-cell-uniform-pipeline/?format=json\n"
     ]
    },
    {
     "name": "stderr",
     "output_type": "stream",
     "text": [
      "DEBUG:iu_debug:>>>>>>GET jason-buenrostro:Sample-_single-cell-uniform-pipeline From DACC with URL https://api.sandbox.igvf.org/jason-buenrostro:Sample-_single-cell-uniform-pipeline/?format=json\n"
     ]
    },
    {
     "name": "stdout",
     "output_type": "stream",
     "text": [
      "2025-09-02 15:37:49,518:iu_debug:\tWill not POST 'jason-buenrostro:Sample-_single-cell-uniform-pipeline' since it already exists with aliases '['jason-buenrostro:Sample-_single-cell-uniform-pipeline']'.\n"
     ]
    },
    {
     "name": "stderr",
     "output_type": "stream",
     "text": [
      "ERROR:iu_debug:Will not POST 'jason-buenrostro:Sample-_single-cell-uniform-pipeline' since it already exists with aliases '['jason-buenrostro:Sample-_single-cell-uniform-pipeline']'.\n",
      "ERROR:iu_error:Will not POST 'jason-buenrostro:Sample-_single-cell-uniform-pipeline' since it already exists with aliases '['jason-buenrostro:Sample-_single-cell-uniform-pipeline']'.\n"
     ]
    },
    {
     "name": "stdout",
     "output_type": "stream",
     "text": [
      "2025-09-02 15:37:49,527:iu_debug:\t\n",
      "IN post().\n"
     ]
    },
    {
     "name": "stderr",
     "output_type": "stream",
     "text": [
      "DEBUG:iu_debug:\n",
      "IN post().\n"
     ]
    },
    {
     "name": "stdout",
     "output_type": "stream",
     "text": [
      "2025-09-02 15:37:49,529:iu_debug:\tValidating the payload against the schema\n"
     ]
    },
    {
     "name": "stderr",
     "output_type": "stream",
     "text": [
      "DEBUG:iu_debug:Validating the payload against the schema\n"
     ]
    },
    {
     "name": "stdout",
     "output_type": "stream",
     "text": [
      "2025-09-02 15:37:49,554:iu_debug:\t<<<<<< POST analysis_set record jason-buenrostro:Sample-_single-cell-uniform-pipeline To IGVF database with URL https://api.sandbox.igvf.org/analysis_set and this payload:\n",
      "\n",
      "{\n",
      "  \"aliases\": [\n",
      "    \"jason-buenrostro:Sample-_single-cell-uniform-pipeline\"\n",
      "  ],\n",
      "  \"award\": \"/awards/HG011986/\",\n",
      "  \"file_set_type\": \"intermediate analysis\",\n",
      "  \"input_file_sets\": [\n",
      "    \"TSTDS68628693\",\n",
      "    \"TSTDS69083547\"\n",
      "  ],\n",
      "  \"lab\": \"/labs/jason-buenrostro/\",\n",
      "  \"uniform_pipeline_status\": \"preprocessing\"\n",
      "}\n",
      "\n",
      "\n"
     ]
    },
    {
     "name": "stderr",
     "output_type": "stream",
     "text": [
      "DEBUG:iu_debug:<<<<<< POST analysis_set record jason-buenrostro:Sample-_single-cell-uniform-pipeline To IGVF database with URL https://api.sandbox.igvf.org/analysis_set and this payload:\n",
      "\n",
      "{\n",
      "  \"aliases\": [\n",
      "    \"jason-buenrostro:Sample-_single-cell-uniform-pipeline\"\n",
      "  ],\n",
      "  \"award\": \"/awards/HG011986/\",\n",
      "  \"file_set_type\": \"intermediate analysis\",\n",
      "  \"input_file_sets\": [\n",
      "    \"TSTDS68628693\",\n",
      "    \"TSTDS69083547\"\n",
      "  ],\n",
      "  \"lab\": \"/labs/jason-buenrostro/\",\n",
      "  \"uniform_pipeline_status\": \"preprocessing\"\n",
      "}\n",
      "\n",
      "\n"
     ]
    },
    {
     "name": "stdout",
     "output_type": "stream",
     "text": [
      "2025-09-02 15:37:49,921:iu_debug:\t{'@type': ['HTTPConflict', 'Error'], 'status': 'error', 'code': 409, 'title': 'Conflict', 'description': 'There was a conflict when trying to complete your request.', 'detail': \"Keys conflict: [('alias', 'jason-buenrostro:Sample-_single-cell-uniform-pipeline')]\"}\n"
     ]
    },
    {
     "name": "stderr",
     "output_type": "stream",
     "text": [
      "DEBUG:iu_debug:{'@type': ['HTTPConflict', 'Error'], 'status': 'error', 'code': 409, 'title': 'Conflict', 'description': 'There was a conflict when trying to complete your request.', 'detail': \"Keys conflict: [('alias', 'jason-buenrostro:Sample-_single-cell-uniform-pipeline')]\"}\n"
     ]
    },
    {
     "name": "stdout",
     "output_type": "stream",
     "text": [
      "2025-09-02 15:37:49,925:iu_debug:\t>>>>>>GET jason-buenrostro:Sample-_single-cell-uniform-pipeline From DACC with URL https://api.sandbox.igvf.org/jason-buenrostro:Sample-_single-cell-uniform-pipeline/?format=json\n"
     ]
    },
    {
     "name": "stderr",
     "output_type": "stream",
     "text": [
      "DEBUG:iu_debug:>>>>>>GET jason-buenrostro:Sample-_single-cell-uniform-pipeline From DACC with URL https://api.sandbox.igvf.org/jason-buenrostro:Sample-_single-cell-uniform-pipeline/?format=json\n"
     ]
    },
    {
     "name": "stdout",
     "output_type": "stream",
     "text": [
      "2025-09-02 15:37:55,513:iu_debug:\tWill not POST 'jason-buenrostro:Sample-_single-cell-uniform-pipeline' since it already exists with aliases '['jason-buenrostro:Sample-_single-cell-uniform-pipeline']'.\n"
     ]
    },
    {
     "name": "stderr",
     "output_type": "stream",
     "text": [
      "ERROR:iu_debug:Will not POST 'jason-buenrostro:Sample-_single-cell-uniform-pipeline' since it already exists with aliases '['jason-buenrostro:Sample-_single-cell-uniform-pipeline']'.\n",
      "ERROR:iu_error:Will not POST 'jason-buenrostro:Sample-_single-cell-uniform-pipeline' since it already exists with aliases '['jason-buenrostro:Sample-_single-cell-uniform-pipeline']'.\n"
     ]
    }
   ],
   "source": [
    "foo = ana_tools.post_all_anasets_to_portal(all_input_file_sets=foo_inputs,\n",
    "                                           lab=lab_id,\n",
    "                                           award=award_id,\n",
    "                                           igvf_utils_api=iu_conn_api,\n",
    "                                           igvf_client_api=igvf_client_api)"
   ]
  },
  {
   "cell_type": "code",
   "execution_count": 23,
   "id": "2125f30b-74eb-40a0-b4d2-a92e24254e87",
   "metadata": {},
   "outputs": [
    {
     "data": {
      "text/plain": [
       "[AnaSetCreationResult(accession='TSTDS41499750', input_file_sets=['TSTDS74957974', 'TSTDS31000813'], errors=None),\n",
       " AnaSetCreationResult(accession='TSTDS41499750', input_file_sets=['TSTDS20638124', 'TSTDS16685999'], errors=None),\n",
       " AnaSetCreationResult(accession='TSTDS41499750', input_file_sets=['TSTDS68628693', 'TSTDS69083547'], errors=None)]"
      ]
     },
     "execution_count": 23,
     "metadata": {},
     "output_type": "execute_result"
    }
   ],
   "source": [
    "foo"
   ]
  },
  {
   "cell_type": "code",
   "execution_count": null,
   "id": "4dd98b65-037c-40ef-8beb-ae85379de0fb",
   "metadata": {},
   "outputs": [],
   "source": []
  },
  {
   "cell_type": "markdown",
   "id": "a7cd0412-d914-44f7-ba6a-b6e6f4d6ccde",
   "metadata": {},
   "source": [
    "### Utils #1: Check if a list of lab generated analysis sets have bad audits"
   ]
  },
  {
   "cell_type": "code",
   "execution_count": 19,
   "id": "fa207c86-be06-44b1-b582-4231d41f484e",
   "metadata": {},
   "outputs": [],
   "source": [
    "def get_input_measets(analysis_set_obj: dict, igvf_utils_api):\n",
    "    measet_ids = []\n",
    "    for fileset_obj in analysis_set_obj.get('input_file_sets'):\n",
    "        if fileset_obj['@id'].startswith('/measurement-sets/'):\n",
    "            measet_ids.append(fileset_obj['@id'])\n",
    "    return measet_ids\n",
    "\n",
    "\n",
    "def get_measet_objs(analysis_set_acc: str, igvf_utils_api):\n",
    "    \"\"\"Get a list of measurement set objects from the input_file_sets array.\"\"\"\n",
    "    analysis_set_obj = igvf_utils_api.get(analysis_set_acc)\n",
    "    return [igvf_utils_api.get(measet_id) for measet_id in get_input_measets(analysis_set_obj, igvf_utils_api)]\n",
    "\n",
    "\n",
    "def check_specific_audits(measet_obj: dict):\n",
    "    \"\"\"Check if the measurement sets have audits from a specific list.\"\"\"\n",
    "    relevant_audits = ana_const.EXCLUDED_ERROR_AUDITS + ana_const.EXCLUDED_NONCOMP_AUDITS\n",
    "    all_audits = measet_obj.get('audit', {})\n",
    "    if all_audits:\n",
    "        bad_audits = all_audits.get('ERROR', []) + all_audits.get('NOT_COMPLIANT', [])\n",
    "        if bad_audits:\n",
    "            return any([err['category'] in relevant_audits for err in bad_audits])\n",
    "        else:\n",
    "            return False\n",
    "    else:\n",
    "        return False\n",
    "\n",
    "\n",
    "def check_bad_audits(analysis_set_acc: str, igvf_utils_api):\n",
    "    \"\"\"Run bad audit check on a single analysis set\"\"\"\n",
    "    measet_objs = get_measet_objs(analysis_set_acc, igvf_utils_api)\n",
    "    if any([check_specific_audits(measet_obj) for measet_obj in measet_objs]):\n",
    "        return analysis_set_acc\n",
    "\n",
    "\n",
    "def check_bad_audits_all_anasets(analysis_set_accs: list, igvf_utils_api):\n",
    "    results = [check_bad_audits(analysis_set_acc, igvf_utils_api) for analysis_set_acc in analysis_set_accs]\n",
    "    return [result for result in results if result is not None]"
   ]
  },
  {
   "cell_type": "code",
   "execution_count": 16,
   "id": "6483ac4e-155d-4759-b42b-466f89e8620f",
   "metadata": {},
   "outputs": [
    {
     "data": {
      "text/plain": [
       "25"
      ]
     },
     "execution_count": 16,
     "metadata": {},
     "output_type": "execute_result"
    }
   ],
   "source": [
    "# Lab created AnaSet accs\n",
    "lab_submitted_analysis_sets_file = '/Users/zheweishen/IGVF/IGVF_Repos/sc-pipeline-management/terra_datatables/setup/Buenrostro/buenrostro_bonemarrow_share-seq_20251002/buenrostro_bonemarrow_share-seq_20251002.txt'\n",
    "\n",
    "# Read into a list\n",
    "with open(lab_submitted_analysis_sets_file) as f:\n",
    "    analysis_sets_to_check = [entry.strip() for entry in f.readlines() if not entry.startswith(\"#\")]\n",
    "len(analysis_sets_to_check)"
   ]
  },
  {
   "cell_type": "code",
   "execution_count": 20,
   "id": "0e053637-8f9d-439e-861f-d2950c7d97f6",
   "metadata": {
    "scrolled": true
   },
   "outputs": [
    {
     "name": "stdout",
     "output_type": "stream",
     "text": [
      "2025-10-03 20:53:05,403:iu_debug:\t>>>>>>GET IGVFDS8266AMFG From DACC with URL https://api.data.igvf.org/IGVFDS8266AMFG/?format=json\n",
      "2025-10-03 20:53:05,699:iu_debug:\t>>>>>>GET measurement-sets/IGVFDS7133CHRI From DACC with URL https://api.data.igvf.org/measurement-sets/IGVFDS7133CHRI/?format=json\n",
      "2025-10-03 20:53:05,954:iu_debug:\t>>>>>>GET measurement-sets/IGVFDS5266ONOB From DACC with URL https://api.data.igvf.org/measurement-sets/IGVFDS5266ONOB/?format=json\n",
      "2025-10-03 20:53:06,210:iu_debug:\t>>>>>>GET IGVFDS5502QHAX From DACC with URL https://api.data.igvf.org/IGVFDS5502QHAX/?format=json\n",
      "2025-10-03 20:53:06,532:iu_debug:\t>>>>>>GET measurement-sets/IGVFDS8001MFIY From DACC with URL https://api.data.igvf.org/measurement-sets/IGVFDS8001MFIY/?format=json\n",
      "2025-10-03 20:53:06,786:iu_debug:\t>>>>>>GET measurement-sets/IGVFDS3237WAED From DACC with URL https://api.data.igvf.org/measurement-sets/IGVFDS3237WAED/?format=json\n",
      "2025-10-03 20:53:07,038:iu_debug:\t>>>>>>GET IGVFDS0877TXSK From DACC with URL https://api.data.igvf.org/IGVFDS0877TXSK/?format=json\n",
      "2025-10-03 20:53:07,329:iu_debug:\t>>>>>>GET measurement-sets/IGVFDS7919DUHD From DACC with URL https://api.data.igvf.org/measurement-sets/IGVFDS7919DUHD/?format=json\n",
      "2025-10-03 20:53:07,608:iu_debug:\t>>>>>>GET measurement-sets/IGVFDS4920HAWH From DACC with URL https://api.data.igvf.org/measurement-sets/IGVFDS4920HAWH/?format=json\n",
      "2025-10-03 20:53:07,896:iu_debug:\t>>>>>>GET IGVFDS0766PSLC From DACC with URL https://api.data.igvf.org/IGVFDS0766PSLC/?format=json\n",
      "2025-10-03 20:53:08,190:iu_debug:\t>>>>>>GET measurement-sets/IGVFDS5247NYFJ From DACC with URL https://api.data.igvf.org/measurement-sets/IGVFDS5247NYFJ/?format=json\n",
      "2025-10-03 20:53:08,437:iu_debug:\t>>>>>>GET measurement-sets/IGVFDS3961PPIP From DACC with URL https://api.data.igvf.org/measurement-sets/IGVFDS3961PPIP/?format=json\n",
      "2025-10-03 20:53:08,723:iu_debug:\t>>>>>>GET IGVFDS2323IXVK From DACC with URL https://api.data.igvf.org/IGVFDS2323IXVK/?format=json\n",
      "2025-10-03 20:53:09,014:iu_debug:\t>>>>>>GET measurement-sets/IGVFDS5237LXYL From DACC with URL https://api.data.igvf.org/measurement-sets/IGVFDS5237LXYL/?format=json\n",
      "2025-10-03 20:53:09,258:iu_debug:\t>>>>>>GET measurement-sets/IGVFDS1519SERB From DACC with URL https://api.data.igvf.org/measurement-sets/IGVFDS1519SERB/?format=json\n",
      "2025-10-03 20:53:09,495:iu_debug:\t>>>>>>GET IGVFDS3088WKQF From DACC with URL https://api.data.igvf.org/IGVFDS3088WKQF/?format=json\n",
      "2025-10-03 20:53:09,780:iu_debug:\t>>>>>>GET measurement-sets/IGVFDS4878TLQK From DACC with URL https://api.data.igvf.org/measurement-sets/IGVFDS4878TLQK/?format=json\n",
      "2025-10-03 20:53:10,036:iu_debug:\t>>>>>>GET measurement-sets/IGVFDS1034GEYX From DACC with URL https://api.data.igvf.org/measurement-sets/IGVFDS1034GEYX/?format=json\n",
      "2025-10-03 20:53:10,295:iu_debug:\t>>>>>>GET IGVFDS1720TYKB From DACC with URL https://api.data.igvf.org/IGVFDS1720TYKB/?format=json\n",
      "2025-10-03 20:53:10,589:iu_debug:\t>>>>>>GET measurement-sets/IGVFDS1601YMKN From DACC with URL https://api.data.igvf.org/measurement-sets/IGVFDS1601YMKN/?format=json\n",
      "2025-10-03 20:53:10,846:iu_debug:\t>>>>>>GET measurement-sets/IGVFDS2248KOLH From DACC with URL https://api.data.igvf.org/measurement-sets/IGVFDS2248KOLH/?format=json\n",
      "2025-10-03 20:53:11,096:iu_debug:\t>>>>>>GET IGVFDS0708USNC From DACC with URL https://api.data.igvf.org/IGVFDS0708USNC/?format=json\n",
      "2025-10-03 20:53:11,385:iu_debug:\t>>>>>>GET measurement-sets/IGVFDS3398OXZV From DACC with URL https://api.data.igvf.org/measurement-sets/IGVFDS3398OXZV/?format=json\n",
      "2025-10-03 20:53:11,635:iu_debug:\t>>>>>>GET measurement-sets/IGVFDS4146ZPMG From DACC with URL https://api.data.igvf.org/measurement-sets/IGVFDS4146ZPMG/?format=json\n",
      "2025-10-03 20:53:11,891:iu_debug:\t>>>>>>GET IGVFDS1515YSNX From DACC with URL https://api.data.igvf.org/IGVFDS1515YSNX/?format=json\n",
      "2025-10-03 20:53:12,182:iu_debug:\t>>>>>>GET measurement-sets/IGVFDS3559JQYJ From DACC with URL https://api.data.igvf.org/measurement-sets/IGVFDS3559JQYJ/?format=json\n",
      "2025-10-03 20:53:12,428:iu_debug:\t>>>>>>GET measurement-sets/IGVFDS2791OYQB From DACC with URL https://api.data.igvf.org/measurement-sets/IGVFDS2791OYQB/?format=json\n",
      "2025-10-03 20:53:12,675:iu_debug:\t>>>>>>GET IGVFDS2289UTYS From DACC with URL https://api.data.igvf.org/IGVFDS2289UTYS/?format=json\n",
      "2025-10-03 20:53:12,962:iu_debug:\t>>>>>>GET measurement-sets/IGVFDS2800PFJK From DACC with URL https://api.data.igvf.org/measurement-sets/IGVFDS2800PFJK/?format=json\n",
      "2025-10-03 20:53:13,211:iu_debug:\t>>>>>>GET measurement-sets/IGVFDS1138LJOC From DACC with URL https://api.data.igvf.org/measurement-sets/IGVFDS1138LJOC/?format=json\n",
      "2025-10-03 20:53:13,463:iu_debug:\t>>>>>>GET IGVFDS8880ELYU From DACC with URL https://api.data.igvf.org/IGVFDS8880ELYU/?format=json\n",
      "2025-10-03 20:53:13,745:iu_debug:\t>>>>>>GET measurement-sets/IGVFDS8990INRL From DACC with URL https://api.data.igvf.org/measurement-sets/IGVFDS8990INRL/?format=json\n",
      "2025-10-03 20:53:13,995:iu_debug:\t>>>>>>GET measurement-sets/IGVFDS7393LTPE From DACC with URL https://api.data.igvf.org/measurement-sets/IGVFDS7393LTPE/?format=json\n",
      "2025-10-03 20:53:14,249:iu_debug:\t>>>>>>GET IGVFDS9215JZUG From DACC with URL https://api.data.igvf.org/IGVFDS9215JZUG/?format=json\n",
      "2025-10-03 20:53:14,540:iu_debug:\t>>>>>>GET measurement-sets/IGVFDS4637BCMX From DACC with URL https://api.data.igvf.org/measurement-sets/IGVFDS4637BCMX/?format=json\n",
      "2025-10-03 20:53:14,788:iu_debug:\t>>>>>>GET measurement-sets/IGVFDS1387CFOT From DACC with URL https://api.data.igvf.org/measurement-sets/IGVFDS1387CFOT/?format=json\n",
      "2025-10-03 20:53:15,035:iu_debug:\t>>>>>>GET IGVFDS3084HSGI From DACC with URL https://api.data.igvf.org/IGVFDS3084HSGI/?format=json\n",
      "2025-10-03 20:53:15,439:iu_debug:\t>>>>>>GET measurement-sets/IGVFDS5365VTRX From DACC with URL https://api.data.igvf.org/measurement-sets/IGVFDS5365VTRX/?format=json\n",
      "2025-10-03 20:53:15,687:iu_debug:\t>>>>>>GET measurement-sets/IGVFDS2402LHFH From DACC with URL https://api.data.igvf.org/measurement-sets/IGVFDS2402LHFH/?format=json\n",
      "2025-10-03 20:53:15,948:iu_debug:\t>>>>>>GET IGVFDS2978YJPI From DACC with URL https://api.data.igvf.org/IGVFDS2978YJPI/?format=json\n",
      "2025-10-03 20:53:16,237:iu_debug:\t>>>>>>GET measurement-sets/IGVFDS1267CSNQ From DACC with URL https://api.data.igvf.org/measurement-sets/IGVFDS1267CSNQ/?format=json\n",
      "2025-10-03 20:53:16,469:iu_debug:\t>>>>>>GET measurement-sets/IGVFDS2269KUZQ From DACC with URL https://api.data.igvf.org/measurement-sets/IGVFDS2269KUZQ/?format=json\n",
      "2025-10-03 20:53:16,716:iu_debug:\t>>>>>>GET IGVFDS0546EQNQ From DACC with URL https://api.data.igvf.org/IGVFDS0546EQNQ/?format=json\n",
      "2025-10-03 20:53:17,003:iu_debug:\t>>>>>>GET measurement-sets/IGVFDS7586SUPO From DACC with URL https://api.data.igvf.org/measurement-sets/IGVFDS7586SUPO/?format=json\n",
      "2025-10-03 20:53:17,247:iu_debug:\t>>>>>>GET measurement-sets/IGVFDS5892YXLI From DACC with URL https://api.data.igvf.org/measurement-sets/IGVFDS5892YXLI/?format=json\n",
      "2025-10-03 20:53:17,494:iu_debug:\t>>>>>>GET IGVFDS1030JIBW From DACC with URL https://api.data.igvf.org/IGVFDS1030JIBW/?format=json\n",
      "2025-10-03 20:53:17,783:iu_debug:\t>>>>>>GET measurement-sets/IGVFDS6493BIXB From DACC with URL https://api.data.igvf.org/measurement-sets/IGVFDS6493BIXB/?format=json\n",
      "2025-10-03 20:53:18,029:iu_debug:\t>>>>>>GET measurement-sets/IGVFDS0726CKKN From DACC with URL https://api.data.igvf.org/measurement-sets/IGVFDS0726CKKN/?format=json\n",
      "2025-10-03 20:53:18,275:iu_debug:\t>>>>>>GET IGVFDS5491XYDW From DACC with URL https://api.data.igvf.org/IGVFDS5491XYDW/?format=json\n",
      "2025-10-03 20:53:18,555:iu_debug:\t>>>>>>GET measurement-sets/IGVFDS5668ABKL From DACC with URL https://api.data.igvf.org/measurement-sets/IGVFDS5668ABKL/?format=json\n",
      "2025-10-03 20:53:18,807:iu_debug:\t>>>>>>GET measurement-sets/IGVFDS8346OZIZ From DACC with URL https://api.data.igvf.org/measurement-sets/IGVFDS8346OZIZ/?format=json\n",
      "2025-10-03 20:53:19,055:iu_debug:\t>>>>>>GET IGVFDS9624VHPA From DACC with URL https://api.data.igvf.org/IGVFDS9624VHPA/?format=json\n",
      "2025-10-03 20:53:19,341:iu_debug:\t>>>>>>GET measurement-sets/IGVFDS9776SMDQ From DACC with URL https://api.data.igvf.org/measurement-sets/IGVFDS9776SMDQ/?format=json\n",
      "2025-10-03 20:53:19,590:iu_debug:\t>>>>>>GET measurement-sets/IGVFDS8220TVLN From DACC with URL https://api.data.igvf.org/measurement-sets/IGVFDS8220TVLN/?format=json\n",
      "2025-10-03 20:53:19,844:iu_debug:\t>>>>>>GET IGVFDS3088KHBP From DACC with URL https://api.data.igvf.org/IGVFDS3088KHBP/?format=json\n",
      "2025-10-03 20:53:20,129:iu_debug:\t>>>>>>GET measurement-sets/IGVFDS0264CFFS From DACC with URL https://api.data.igvf.org/measurement-sets/IGVFDS0264CFFS/?format=json\n",
      "2025-10-03 20:53:20,372:iu_debug:\t>>>>>>GET measurement-sets/IGVFDS8905OYNA From DACC with URL https://api.data.igvf.org/measurement-sets/IGVFDS8905OYNA/?format=json\n",
      "2025-10-03 20:53:20,608:iu_debug:\t>>>>>>GET IGVFDS0688LSXY From DACC with URL https://api.data.igvf.org/IGVFDS0688LSXY/?format=json\n",
      "2025-10-03 20:53:20,884:iu_debug:\t>>>>>>GET measurement-sets/IGVFDS1199VPTM From DACC with URL https://api.data.igvf.org/measurement-sets/IGVFDS1199VPTM/?format=json\n",
      "2025-10-03 20:53:21,129:iu_debug:\t>>>>>>GET measurement-sets/IGVFDS8366JHMT From DACC with URL https://api.data.igvf.org/measurement-sets/IGVFDS8366JHMT/?format=json\n",
      "2025-10-03 20:53:21,369:iu_debug:\t>>>>>>GET IGVFDS6148TPMB From DACC with URL https://api.data.igvf.org/IGVFDS6148TPMB/?format=json\n",
      "2025-10-03 20:53:21,664:iu_debug:\t>>>>>>GET measurement-sets/IGVFDS2476NYCP From DACC with URL https://api.data.igvf.org/measurement-sets/IGVFDS2476NYCP/?format=json\n",
      "2025-10-03 20:53:21,918:iu_debug:\t>>>>>>GET measurement-sets/IGVFDS4496CBBT From DACC with URL https://api.data.igvf.org/measurement-sets/IGVFDS4496CBBT/?format=json\n",
      "2025-10-03 20:53:22,164:iu_debug:\t>>>>>>GET IGVFDS7840TZOM From DACC with URL https://api.data.igvf.org/IGVFDS7840TZOM/?format=json\n",
      "2025-10-03 20:53:22,449:iu_debug:\t>>>>>>GET measurement-sets/IGVFDS1873JMKU From DACC with URL https://api.data.igvf.org/measurement-sets/IGVFDS1873JMKU/?format=json\n",
      "2025-10-03 20:53:22,694:iu_debug:\t>>>>>>GET measurement-sets/IGVFDS7489XUHT From DACC with URL https://api.data.igvf.org/measurement-sets/IGVFDS7489XUHT/?format=json\n",
      "2025-10-03 20:53:22,949:iu_debug:\t>>>>>>GET IGVFDS5034STXV From DACC with URL https://api.data.igvf.org/IGVFDS5034STXV/?format=json\n",
      "2025-10-03 20:53:23,241:iu_debug:\t>>>>>>GET measurement-sets/IGVFDS3642NEVV From DACC with URL https://api.data.igvf.org/measurement-sets/IGVFDS3642NEVV/?format=json\n",
      "2025-10-03 20:53:23,482:iu_debug:\t>>>>>>GET measurement-sets/IGVFDS3189UXGY From DACC with URL https://api.data.igvf.org/measurement-sets/IGVFDS3189UXGY/?format=json\n",
      "2025-10-03 20:53:23,730:iu_debug:\t>>>>>>GET IGVFDS4485WTHT From DACC with URL https://api.data.igvf.org/IGVFDS4485WTHT/?format=json\n",
      "2025-10-03 20:53:24,025:iu_debug:\t>>>>>>GET measurement-sets/IGVFDS8383ZNKU From DACC with URL https://api.data.igvf.org/measurement-sets/IGVFDS8383ZNKU/?format=json\n",
      "2025-10-03 20:53:24,275:iu_debug:\t>>>>>>GET measurement-sets/IGVFDS4563BCFV From DACC with URL https://api.data.igvf.org/measurement-sets/IGVFDS4563BCFV/?format=json\n",
      "2025-10-03 20:53:24,593:iu_debug:\t>>>>>>GET IGVFDS1322AXNZ From DACC with URL https://api.data.igvf.org/IGVFDS1322AXNZ/?format=json\n",
      "2025-10-03 20:53:24,877:iu_debug:\t>>>>>>GET measurement-sets/IGVFDS9565KMHX From DACC with URL https://api.data.igvf.org/measurement-sets/IGVFDS9565KMHX/?format=json\n",
      "2025-10-03 20:53:25,136:iu_debug:\t>>>>>>GET measurement-sets/IGVFDS3597FNVD From DACC with URL https://api.data.igvf.org/measurement-sets/IGVFDS3597FNVD/?format=json\n"
     ]
    }
   ],
   "source": [
    "# Get analysis sets with audits not compatible with scPipe\n",
    "anasets_with_bad_audits = check_bad_audits_all_anasets(analysis_set_accs=analysis_sets_to_check,\n",
    "                                                       igvf_utils_api=iu_conn_api)"
   ]
  },
  {
   "cell_type": "code",
   "execution_count": 22,
   "id": "9bd130fc-5111-40d1-9ead-24ad2b7caf7b",
   "metadata": {},
   "outputs": [
    {
     "data": {
      "text/plain": [
       "25"
      ]
     },
     "execution_count": 22,
     "metadata": {},
     "output_type": "execute_result"
    }
   ],
   "source": [
    "len(anasets_with_bad_audits)"
   ]
  },
  {
   "cell_type": "code",
   "execution_count": null,
   "id": "405a96fc-15c1-4be1-9cc9-35ee2e4a52dc",
   "metadata": {},
   "outputs": [],
   "source": []
  },
  {
   "cell_type": "code",
   "execution_count": null,
   "id": "e764a1d2-5d03-454b-9ba0-2fbaea2a1445",
   "metadata": {},
   "outputs": [],
   "source": []
  },
  {
   "cell_type": "markdown",
   "id": "3d250c6b-5205-474e-bf48-146f1efade2f",
   "metadata": {
    "jp-MarkdownHeadingCollapsed": true
   },
   "source": [
    "### Utils #2: Rm processed data"
   ]
  },
  {
   "cell_type": "code",
   "execution_count": 3,
   "id": "94584280-fb36-4a24-943c-eeca0ae3d5e1",
   "metadata": {},
   "outputs": [
    {
     "name": "stdout",
     "output_type": "stream",
     "text": [
      "132\n"
     ]
    }
   ],
   "source": [
    "with open('/Users/zheweishen/IGVF/IGVF_Repos/sc-pipeline-management/terra_datatables/setup/Mortazavi/mortazavi_parse_trem2-F1_07222025/mortazavi_parse_trem2-F1_07222025.txt') as f:\n",
    "    mortazavi_trem2F1_plate_anasets = [entry.strip() for entry in f.readlines()]\n",
    "print(len(mortazavi_trem2F1_plate_anasets))"
   ]
  },
  {
   "cell_type": "code",
   "execution_count": 8,
   "id": "26cf9c02-055c-4cdc-b997-7d9d972b37c1",
   "metadata": {},
   "outputs": [],
   "source": [
    "# Bad analysis sets\n",
    "input_params_tbl = pd.read_csv('/Users/zheweishen/IGVF/IGVF_Repos/sc-pipeline-management/terra_datatables/input/07222025/mortazavi_parse_trem2-F1_07222025/single-cell_uniform_pipeline_input_table_2025-07-22-18-06-26_withGSpath.tsv', sep='\\t')\n",
    "bad_analysis_sets = input_params_tbl[input_params_tbl['possible_errors'].str.startswith('Error', na=False)]['analysis_set_acc'].to_list()"
   ]
  },
  {
   "cell_type": "code",
   "execution_count": 15,
   "id": "7eb50db8-eb62-43ae-9fe8-5e90f82ccf49",
   "metadata": {},
   "outputs": [
    {
     "data": {
      "text/plain": [
       "119"
      ]
     },
     "execution_count": 15,
     "metadata": {},
     "output_type": "execute_result"
    }
   ],
   "source": [
    "# Good list\n",
    "good_list = list(set(mortazavi_trem2F1_plate_anasets) - set(bad_analysis_sets))\n",
    "len(good_list)"
   ]
  },
  {
   "cell_type": "code",
   "execution_count": 16,
   "id": "dbbdc20d-da9f-4859-aefe-353f4564aa78",
   "metadata": {},
   "outputs": [],
   "source": [
    "# Runnable \n",
    "updated_output_file = '/Users/zheweishen/IGVF/IGVF_Repos/sc-pipeline-management/terra_datatables/setup/Mortazavi/mortazavi_parse_trem2-F1_07222025/BAD_mortazavi_parse_trem2-F1_07222025.txt'\n",
    "\n",
    "with open(updated_output_file, 'w') as f:\n",
    "    for accession in bad_analysis_sets:\n",
    "        f.writelines(f'{accession}\\n')"
   ]
  },
  {
   "cell_type": "code",
   "execution_count": 13,
   "id": "8e555bbb-102b-459f-b3d7-94eb01c9dddf",
   "metadata": {},
   "outputs": [],
   "source": []
  },
  {
   "cell_type": "markdown",
   "id": "6c64cb38-c612-47bd-bb8f-fd05e4b3a059",
   "metadata": {
    "jp-MarkdownHeadingCollapsed": true
   },
   "source": [
    "### Utils #3: Count measurement sets"
   ]
  },
  {
   "cell_type": "code",
   "execution_count": 5,
   "id": "dff66e10-7e66-41f6-8918-e29399bbc8d6",
   "metadata": {},
   "outputs": [],
   "source": [
    "def calc_input_seqfile_sizes_and_numbers(analysis_sets: list[str], igvf_client_api):\n",
    "    \"\"\"Check the total runnable seqfile size and file count\"\"\"\n",
    "    total_file_sizes_by_anasets = {}\n",
    "    for anaset in analysis_sets:\n",
    "        curr_file_size = 0\n",
    "        curr_file_cnt = 0\n",
    "        anaset_obj = igvf_client_api.analysis_sets(anaset).graph[0]\n",
    "        measurement_sets_objs = [igvf_api.get_by_id(fileset).actual_instance for fileset in anaset_obj.input_file_sets if fileset.startswith('/measurement-sets/')]\n",
    "        for measurement_set_obj in measurement_sets_objs:\n",
    "            seq_files = [file for file in measurement_set_obj.files if file.startswith('/sequence-files/')]\n",
    "            curr_file_cnt += len(seq_files)\n",
    "            for seq_file in seq_files:\n",
    "                seq_file_obj = igvf_api.get_by_id(seq_file).actual_instance\n",
    "                if seq_file_obj.read_names:\n",
    "                    curr_file_size += seq_file_obj.file_size\n",
    "        total_file_sizes_by_anasets[anaset] = [str(round((curr_file_size / (1024 **3)), 2))+'GB', curr_file_cnt]\n",
    "    return total_file_sizes_by_anasets\n",
    "\n",
    "def calc_input_measets_cnts(analysis_set_accessions: list[str], igvf_client_api):\n",
    "    output_res = []\n",
    "    for anaset_acc in analysis_set_accessions:\n",
    "        anaset_obj = igvf_client_api.get_by_id(f'/analysis-sets/{anaset_acc}').actual_instance\n",
    "        input_measet_ids = [file_set_id for file_set_id in anaset_obj.input_file_sets if file_set_id.startswith('/measurement-sets/')]\n",
    "        output_res.append((anaset_acc, len(input_measet_ids)))\n",
    "    return pd.DataFrame(output_res, columns=['Analysis Set Accession', 'Total Input Measurement Sets'])"
   ]
  },
  {
   "cell_type": "code",
   "execution_count": 12,
   "id": "9cadf133-b235-43c4-9a06-6ab09877a852",
   "metadata": {},
   "outputs": [
    {
     "data": {
      "text/plain": [
       "48"
      ]
     },
     "execution_count": 12,
     "metadata": {},
     "output_type": "execute_result"
    }
   ],
   "source": [
    "# Starter analysis set list file\n",
    "query_anaset_acc_setup_file = '/Users/zheweishen/IGVF/IGVF_Repos/sc-pipeline-management/terra_datatables/setup/Satpathy/satpathy_MULTI-seq_20250716/satpathy_MULTI-seq_20250716.txt'\n",
    "\n",
    "# Get the list\n",
    "with open(query_anaset_acc_setup_file) as f:\n",
    "    query_anaset_acc_list = [entry.strip() for entry in f.readlines()]\n",
    "len(query_anaset_acc_list)"
   ]
  },
  {
   "cell_type": "code",
   "execution_count": 14,
   "id": "91b250d1-6f97-489b-b544-38608ed226fb",
   "metadata": {},
   "outputs": [
    {
     "data": {
      "text/html": [
       "<div>\n",
       "<style scoped>\n",
       "    .dataframe tbody tr th:only-of-type {\n",
       "        vertical-align: middle;\n",
       "    }\n",
       "\n",
       "    .dataframe tbody tr th {\n",
       "        vertical-align: top;\n",
       "    }\n",
       "\n",
       "    .dataframe thead th {\n",
       "        text-align: right;\n",
       "    }\n",
       "</style>\n",
       "<table border=\"1\" class=\"dataframe\">\n",
       "  <thead>\n",
       "    <tr style=\"text-align: right;\">\n",
       "      <th></th>\n",
       "      <th>Analysis Set Accession</th>\n",
       "      <th>Total Input Measurement Sets</th>\n",
       "    </tr>\n",
       "  </thead>\n",
       "  <tbody>\n",
       "    <tr>\n",
       "      <th>0</th>\n",
       "      <td>IGVFDS8997FOWM</td>\n",
       "      <td>2</td>\n",
       "    </tr>\n",
       "    <tr>\n",
       "      <th>1</th>\n",
       "      <td>IGVFDS2543QAMJ</td>\n",
       "      <td>2</td>\n",
       "    </tr>\n",
       "    <tr>\n",
       "      <th>2</th>\n",
       "      <td>IGVFDS6955JCTX</td>\n",
       "      <td>2</td>\n",
       "    </tr>\n",
       "    <tr>\n",
       "      <th>3</th>\n",
       "      <td>IGVFDS4450VKHD</td>\n",
       "      <td>2</td>\n",
       "    </tr>\n",
       "    <tr>\n",
       "      <th>4</th>\n",
       "      <td>IGVFDS4364HEPW</td>\n",
       "      <td>2</td>\n",
       "    </tr>\n",
       "    <tr>\n",
       "      <th>5</th>\n",
       "      <td>IGVFDS0443IFQY</td>\n",
       "      <td>2</td>\n",
       "    </tr>\n",
       "    <tr>\n",
       "      <th>6</th>\n",
       "      <td>IGVFDS8327WMFU</td>\n",
       "      <td>2</td>\n",
       "    </tr>\n",
       "    <tr>\n",
       "      <th>7</th>\n",
       "      <td>IGVFDS3174HEKS</td>\n",
       "      <td>2</td>\n",
       "    </tr>\n",
       "    <tr>\n",
       "      <th>8</th>\n",
       "      <td>IGVFDS0706KKYL</td>\n",
       "      <td>2</td>\n",
       "    </tr>\n",
       "    <tr>\n",
       "      <th>9</th>\n",
       "      <td>IGVFDS1101ACFG</td>\n",
       "      <td>2</td>\n",
       "    </tr>\n",
       "    <tr>\n",
       "      <th>10</th>\n",
       "      <td>IGVFDS4823WFZG</td>\n",
       "      <td>2</td>\n",
       "    </tr>\n",
       "    <tr>\n",
       "      <th>11</th>\n",
       "      <td>IGVFDS0055XVXJ</td>\n",
       "      <td>2</td>\n",
       "    </tr>\n",
       "    <tr>\n",
       "      <th>12</th>\n",
       "      <td>IGVFDS6430MYNQ</td>\n",
       "      <td>2</td>\n",
       "    </tr>\n",
       "    <tr>\n",
       "      <th>13</th>\n",
       "      <td>IGVFDS9272ISSJ</td>\n",
       "      <td>2</td>\n",
       "    </tr>\n",
       "    <tr>\n",
       "      <th>14</th>\n",
       "      <td>IGVFDS0969WZLV</td>\n",
       "      <td>2</td>\n",
       "    </tr>\n",
       "    <tr>\n",
       "      <th>15</th>\n",
       "      <td>IGVFDS5137XCJI</td>\n",
       "      <td>2</td>\n",
       "    </tr>\n",
       "    <tr>\n",
       "      <th>16</th>\n",
       "      <td>IGVFDS4807SFAP</td>\n",
       "      <td>2</td>\n",
       "    </tr>\n",
       "    <tr>\n",
       "      <th>17</th>\n",
       "      <td>IGVFDS9232XJKS</td>\n",
       "      <td>2</td>\n",
       "    </tr>\n",
       "    <tr>\n",
       "      <th>18</th>\n",
       "      <td>IGVFDS9481ZLVJ</td>\n",
       "      <td>2</td>\n",
       "    </tr>\n",
       "    <tr>\n",
       "      <th>19</th>\n",
       "      <td>IGVFDS8858NBVJ</td>\n",
       "      <td>2</td>\n",
       "    </tr>\n",
       "    <tr>\n",
       "      <th>20</th>\n",
       "      <td>IGVFDS7943UMGA</td>\n",
       "      <td>2</td>\n",
       "    </tr>\n",
       "    <tr>\n",
       "      <th>21</th>\n",
       "      <td>IGVFDS2682EQNX</td>\n",
       "      <td>2</td>\n",
       "    </tr>\n",
       "    <tr>\n",
       "      <th>22</th>\n",
       "      <td>IGVFDS8371VSDR</td>\n",
       "      <td>2</td>\n",
       "    </tr>\n",
       "    <tr>\n",
       "      <th>23</th>\n",
       "      <td>IGVFDS3599SNDR</td>\n",
       "      <td>2</td>\n",
       "    </tr>\n",
       "    <tr>\n",
       "      <th>24</th>\n",
       "      <td>IGVFDS6133VLCR</td>\n",
       "      <td>2</td>\n",
       "    </tr>\n",
       "    <tr>\n",
       "      <th>25</th>\n",
       "      <td>IGVFDS5497CMDG</td>\n",
       "      <td>2</td>\n",
       "    </tr>\n",
       "    <tr>\n",
       "      <th>26</th>\n",
       "      <td>IGVFDS1334RFWQ</td>\n",
       "      <td>2</td>\n",
       "    </tr>\n",
       "    <tr>\n",
       "      <th>27</th>\n",
       "      <td>IGVFDS9874ETQO</td>\n",
       "      <td>2</td>\n",
       "    </tr>\n",
       "    <tr>\n",
       "      <th>28</th>\n",
       "      <td>IGVFDS7274IPQB</td>\n",
       "      <td>2</td>\n",
       "    </tr>\n",
       "    <tr>\n",
       "      <th>29</th>\n",
       "      <td>IGVFDS5113UOGB</td>\n",
       "      <td>2</td>\n",
       "    </tr>\n",
       "    <tr>\n",
       "      <th>30</th>\n",
       "      <td>IGVFDS5417HJRJ</td>\n",
       "      <td>2</td>\n",
       "    </tr>\n",
       "    <tr>\n",
       "      <th>31</th>\n",
       "      <td>IGVFDS4196EOXN</td>\n",
       "      <td>2</td>\n",
       "    </tr>\n",
       "    <tr>\n",
       "      <th>32</th>\n",
       "      <td>IGVFDS4754VPWL</td>\n",
       "      <td>2</td>\n",
       "    </tr>\n",
       "    <tr>\n",
       "      <th>33</th>\n",
       "      <td>IGVFDS3359UDWA</td>\n",
       "      <td>2</td>\n",
       "    </tr>\n",
       "    <tr>\n",
       "      <th>34</th>\n",
       "      <td>IGVFDS3664HDAJ</td>\n",
       "      <td>2</td>\n",
       "    </tr>\n",
       "    <tr>\n",
       "      <th>35</th>\n",
       "      <td>IGVFDS4741JYNZ</td>\n",
       "      <td>2</td>\n",
       "    </tr>\n",
       "    <tr>\n",
       "      <th>36</th>\n",
       "      <td>IGVFDS7343XCMH</td>\n",
       "      <td>2</td>\n",
       "    </tr>\n",
       "    <tr>\n",
       "      <th>37</th>\n",
       "      <td>IGVFDS2908FLTN</td>\n",
       "      <td>2</td>\n",
       "    </tr>\n",
       "    <tr>\n",
       "      <th>38</th>\n",
       "      <td>IGVFDS8574WBQQ</td>\n",
       "      <td>2</td>\n",
       "    </tr>\n",
       "    <tr>\n",
       "      <th>39</th>\n",
       "      <td>IGVFDS0787FDIZ</td>\n",
       "      <td>2</td>\n",
       "    </tr>\n",
       "    <tr>\n",
       "      <th>40</th>\n",
       "      <td>IGVFDS9006OWNQ</td>\n",
       "      <td>2</td>\n",
       "    </tr>\n",
       "    <tr>\n",
       "      <th>41</th>\n",
       "      <td>IGVFDS6188JKXS</td>\n",
       "      <td>2</td>\n",
       "    </tr>\n",
       "    <tr>\n",
       "      <th>42</th>\n",
       "      <td>IGVFDS4370WWLZ</td>\n",
       "      <td>2</td>\n",
       "    </tr>\n",
       "    <tr>\n",
       "      <th>43</th>\n",
       "      <td>IGVFDS1612ZNCA</td>\n",
       "      <td>2</td>\n",
       "    </tr>\n",
       "    <tr>\n",
       "      <th>44</th>\n",
       "      <td>IGVFDS7544ONUZ</td>\n",
       "      <td>2</td>\n",
       "    </tr>\n",
       "    <tr>\n",
       "      <th>45</th>\n",
       "      <td>IGVFDS1244UUGQ</td>\n",
       "      <td>2</td>\n",
       "    </tr>\n",
       "    <tr>\n",
       "      <th>46</th>\n",
       "      <td>IGVFDS0016QGNO</td>\n",
       "      <td>2</td>\n",
       "    </tr>\n",
       "    <tr>\n",
       "      <th>47</th>\n",
       "      <td>IGVFDS0033HIMW</td>\n",
       "      <td>2</td>\n",
       "    </tr>\n",
       "  </tbody>\n",
       "</table>\n",
       "</div>"
      ],
      "text/plain": [
       "   Analysis Set Accession  Total Input Measurement Sets\n",
       "0          IGVFDS8997FOWM                             2\n",
       "1          IGVFDS2543QAMJ                             2\n",
       "2          IGVFDS6955JCTX                             2\n",
       "3          IGVFDS4450VKHD                             2\n",
       "4          IGVFDS4364HEPW                             2\n",
       "5          IGVFDS0443IFQY                             2\n",
       "6          IGVFDS8327WMFU                             2\n",
       "7          IGVFDS3174HEKS                             2\n",
       "8          IGVFDS0706KKYL                             2\n",
       "9          IGVFDS1101ACFG                             2\n",
       "10         IGVFDS4823WFZG                             2\n",
       "11         IGVFDS0055XVXJ                             2\n",
       "12         IGVFDS6430MYNQ                             2\n",
       "13         IGVFDS9272ISSJ                             2\n",
       "14         IGVFDS0969WZLV                             2\n",
       "15         IGVFDS5137XCJI                             2\n",
       "16         IGVFDS4807SFAP                             2\n",
       "17         IGVFDS9232XJKS                             2\n",
       "18         IGVFDS9481ZLVJ                             2\n",
       "19         IGVFDS8858NBVJ                             2\n",
       "20         IGVFDS7943UMGA                             2\n",
       "21         IGVFDS2682EQNX                             2\n",
       "22         IGVFDS8371VSDR                             2\n",
       "23         IGVFDS3599SNDR                             2\n",
       "24         IGVFDS6133VLCR                             2\n",
       "25         IGVFDS5497CMDG                             2\n",
       "26         IGVFDS1334RFWQ                             2\n",
       "27         IGVFDS9874ETQO                             2\n",
       "28         IGVFDS7274IPQB                             2\n",
       "29         IGVFDS5113UOGB                             2\n",
       "30         IGVFDS5417HJRJ                             2\n",
       "31         IGVFDS4196EOXN                             2\n",
       "32         IGVFDS4754VPWL                             2\n",
       "33         IGVFDS3359UDWA                             2\n",
       "34         IGVFDS3664HDAJ                             2\n",
       "35         IGVFDS4741JYNZ                             2\n",
       "36         IGVFDS7343XCMH                             2\n",
       "37         IGVFDS2908FLTN                             2\n",
       "38         IGVFDS8574WBQQ                             2\n",
       "39         IGVFDS0787FDIZ                             2\n",
       "40         IGVFDS9006OWNQ                             2\n",
       "41         IGVFDS6188JKXS                             2\n",
       "42         IGVFDS4370WWLZ                             2\n",
       "43         IGVFDS1612ZNCA                             2\n",
       "44         IGVFDS7544ONUZ                             2\n",
       "45         IGVFDS1244UUGQ                             2\n",
       "46         IGVFDS0016QGNO                             2\n",
       "47         IGVFDS0033HIMW                             2"
      ]
     },
     "execution_count": 14,
     "metadata": {},
     "output_type": "execute_result"
    }
   ],
   "source": [
    "# Count\n",
    "count_res = calc_input_measets_cnts(query_anaset_acc_list, igvf_client_api)\n",
    "count_res"
   ]
  },
  {
   "cell_type": "code",
   "execution_count": 15,
   "id": "13b82ccf-3b31-41e4-b871-b350772fa6b7",
   "metadata": {},
   "outputs": [
    {
     "data": {
      "text/plain": [
       "Analysis Set Accession          IGVFDS8997FOWMIGVFDS2543QAMJIGVFDS6955JCTXIGVF...\n",
       "Total Input Measurement Sets                                                   96\n",
       "dtype: object"
      ]
     },
     "execution_count": 15,
     "metadata": {},
     "output_type": "execute_result"
    }
   ],
   "source": [
    "count_res.sum()"
   ]
  },
  {
   "cell_type": "code",
   "execution_count": 16,
   "id": "fa12f758-fd29-4332-b05e-7930facaa822",
   "metadata": {},
   "outputs": [
    {
     "data": {
      "text/plain": [
       "88"
      ]
     },
     "execution_count": 16,
     "metadata": {},
     "output_type": "execute_result"
    }
   ],
   "source": [
    "44*2"
   ]
  },
  {
   "cell_type": "code",
   "execution_count": null,
   "id": "43200b30-4c42-4a6d-bfc9-df9a5e1926ae",
   "metadata": {},
   "outputs": [],
   "source": []
  },
  {
   "cell_type": "code",
   "execution_count": null,
   "id": "abde7e8b-8882-48cf-b03b-5cde8f95cce5",
   "metadata": {},
   "outputs": [],
   "source": []
  },
  {
   "cell_type": "markdown",
   "id": "fa442118-7959-474e-9e65-7761f8ee967b",
   "metadata": {},
   "source": [
    "### Utils #4: convert aliases to accessions"
   ]
  },
  {
   "cell_type": "code",
   "execution_count": 5,
   "id": "b7bcc9bc-b723-49fc-85b2-c7b4f97267d2",
   "metadata": {},
   "outputs": [],
   "source": [
    "with open(\"/Users/zheweishen/IGVF/IGVF_Repos/sc-pipeline-management/terra_datatables/setup/Buenrostro/buenrostro_bonemarrow_share-seq_20251002/aliases_buenrostro_bonemarrow_share-seq_20251002.txt\") as f:\n",
    "    list_of_aliases = [entry.strip() for entry in f.readlines()]"
   ]
  },
  {
   "cell_type": "code",
   "execution_count": 6,
   "id": "c0632fc2-2d2c-4597-b71d-c8663be4de51",
   "metadata": {
    "scrolled": true
   },
   "outputs": [
    {
     "data": {
      "text/plain": [
       "['buenrostro-bernstein:AnalysisSet_BioSam-4563_SS-PKR-1',\n",
       " 'buenrostro-bernstein:AnalysisSet_BioSam-4564_SS-PKR-1',\n",
       " 'buenrostro-bernstein:AnalysisSet_BioSam-4565_SS-PKR-1',\n",
       " 'buenrostro-bernstein:AnalysisSet_BioSam-4566_SS-PKR-1',\n",
       " 'buenrostro-bernstein:AnalysisSet_BioSam-4567_SS-PKR-1',\n",
       " 'buenrostro-bernstein:AnalysisSet_BioSam-4568_SS-PKR-1',\n",
       " 'buenrostro-bernstein:AnalysisSet_BioSam-4563_SS-PKR-2',\n",
       " 'buenrostro-bernstein:AnalysisSet_BioSam-4564_SS-PKR-2',\n",
       " 'buenrostro-bernstein:AnalysisSet_BioSam-4565_SS-PKR-2',\n",
       " 'buenrostro-bernstein:AnalysisSet_BioSam-4566_SS-PKR-2',\n",
       " 'buenrostro-bernstein:AnalysisSet_BioSam-4567_SS-PKR-2',\n",
       " 'buenrostro-bernstein:AnalysisSet_BioSam-4568_SS-PKR-2',\n",
       " 'buenrostro-bernstein:AnalysisSet_BioSam-4887_SS-PKR-212',\n",
       " 'buenrostro-bernstein:AnalysisSet_BioSam-4563_SS-PKR-3',\n",
       " 'buenrostro-bernstein:AnalysisSet_BioSam-4564_SS-PKR-3',\n",
       " 'buenrostro-bernstein:AnalysisSet_BioSam-4565_SS-PKR-3',\n",
       " 'buenrostro-bernstein:AnalysisSet_BioSam-4566_SS-PKR-3',\n",
       " 'buenrostro-bernstein:AnalysisSet_BioSam-4567_SS-PKR-3',\n",
       " 'buenrostro-bernstein:AnalysisSet_BioSam-4568_SS-PKR-3',\n",
       " 'buenrostro-bernstein:AnalysisSet_BioSam-4563_SS-PKR-4',\n",
       " 'buenrostro-bernstein:AnalysisSet_BioSam-4564_SS-PKR-4',\n",
       " 'buenrostro-bernstein:AnalysisSet_BioSam-4565_SS-PKR-4',\n",
       " 'buenrostro-bernstein:AnalysisSet_BioSam-4566_SS-PKR-4',\n",
       " 'buenrostro-bernstein:AnalysisSet_BioSam-4567_SS-PKR-4',\n",
       " 'buenrostro-bernstein:AnalysisSet_BioSam-4568_SS-PKR-4',\n",
       " 'buenrostro-bernstein:AnalysisSet_BioSam-4563_SS-PKR-5',\n",
       " 'buenrostro-bernstein:AnalysisSet_BioSam-4564_SS-PKR-5',\n",
       " 'buenrostro-bernstein:AnalysisSet_BioSam-4565_SS-PKR-5',\n",
       " 'buenrostro-bernstein:AnalysisSet_BioSam-4566_SS-PKR-5',\n",
       " 'buenrostro-bernstein:AnalysisSet_BioSam-4567_SS-PKR-5',\n",
       " 'buenrostro-bernstein:AnalysisSet_BioSam-4568_SS-PKR-5',\n",
       " 'buenrostro-bernstein:AnalysisSet_BioSam-4563_SS-PKR-6',\n",
       " 'buenrostro-bernstein:AnalysisSet_BioSam-4564_SS-PKR-6',\n",
       " 'buenrostro-bernstein:AnalysisSet_BioSam-4565_SS-PKR-6',\n",
       " 'buenrostro-bernstein:AnalysisSet_BioSam-4566_SS-PKR-6',\n",
       " 'buenrostro-bernstein:AnalysisSet_BioSam-4567_SS-PKR-6',\n",
       " 'buenrostro-bernstein:AnalysisSet_BioSam-4568_SS-PKR-6',\n",
       " 'buenrostro-bernstein:AnalysisSet_BioSam-4563_SS-PKR-7',\n",
       " 'buenrostro-bernstein:AnalysisSet_BioSam-4564_SS-PKR-7',\n",
       " 'buenrostro-bernstein:AnalysisSet_BioSam-4565_SS-PKR-7',\n",
       " 'buenrostro-bernstein:AnalysisSet_BioSam-4566_SS-PKR-7',\n",
       " 'buenrostro-bernstein:AnalysisSet_BioSam-4567_SS-PKR-7',\n",
       " 'buenrostro-bernstein:AnalysisSet_BioSam-4568_SS-PKR-7',\n",
       " 'buenrostro-bernstein:AnalysisSet_BioSam-4563_SS-PKR-8',\n",
       " 'buenrostro-bernstein:AnalysisSet_BioSam-4564_SS-PKR-8',\n",
       " 'buenrostro-bernstein:AnalysisSet_BioSam-4565_SS-PKR-8',\n",
       " 'buenrostro-bernstein:AnalysisSet_BioSam-4566_SS-PKR-8',\n",
       " 'buenrostro-bernstein:AnalysisSet_BioSam-4567_SS-PKR-8',\n",
       " 'buenrostro-bernstein:AnalysisSet_BioSam-4568_SS-PKR-8']"
      ]
     },
     "execution_count": 6,
     "metadata": {},
     "output_type": "execute_result"
    }
   ],
   "source": [
    "list_of_aliases"
   ]
  },
  {
   "cell_type": "code",
   "execution_count": 11,
   "id": "d8a3ef2e-687c-45fc-a26e-540570e4c31a",
   "metadata": {},
   "outputs": [],
   "source": [
    "# Query portal\n",
    "converted_accessions = []\n",
    "\n",
    "all_relevant_anasets = igvf_client_api.analysis_sets(aliases=list_of_aliases).graph\n",
    "for anaset in all_relevant_anasets:\n",
    "    converted_accessions.append(anaset.accession)\n",
    "    "
   ]
  },
  {
   "cell_type": "code",
   "execution_count": 14,
   "id": "61f8cb8c-3ce6-4810-8e96-7a935d47d6a6",
   "metadata": {},
   "outputs": [],
   "source": [
    "# with open(\"/Users/zheweishen/IGVF/IGVF_Repos/sc-pipeline-management/terra_datatables/setup/Buenrostro/buenrostro_bonemarrow_share-seq_20251002/buenrostro_bonemarrow_share-seq_20251002.txt\", \"w\") as f:\n",
    "#     for acc in converted_accessions:\n",
    "#         f.writelines(f'{acc}\\n')"
   ]
  },
  {
   "cell_type": "code",
   "execution_count": null,
   "id": "3c49db6e-2d56-4a41-8992-f14d82398b2a",
   "metadata": {},
   "outputs": [],
   "source": []
  }
 ],
 "metadata": {
  "kernelspec": {
   "display_name": "Python 3 (ipykernel)",
   "language": "python",
   "name": "python3"
  },
  "language_info": {
   "codemirror_mode": {
    "name": "ipython",
    "version": 3
   },
   "file_extension": ".py",
   "mimetype": "text/x-python",
   "name": "python",
   "nbconvert_exporter": "python",
   "pygments_lexer": "ipython3",
   "version": "3.11.9"
  }
 },
 "nbformat": 4,
 "nbformat_minor": 5
}
