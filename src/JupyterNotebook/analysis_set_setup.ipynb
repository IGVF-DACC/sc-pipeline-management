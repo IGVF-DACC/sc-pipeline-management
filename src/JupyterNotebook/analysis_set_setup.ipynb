{
 "cells": [
  {
   "cell_type": "code",
   "execution_count": 1,
   "id": "6c58d23b-c505-45ec-b79d-d1fad8182c9b",
   "metadata": {},
   "outputs": [
    {
     "name": "stdout",
     "output_type": "stream",
     "text": [
      "Changed working directory to: /Users/zheweishen/IGVF/IGVF_Repos/sc-pipeline-management\n",
      "Setup complete!\n"
     ]
    }
   ],
   "source": [
    "# Cell 1: Setup working directory and paths\n",
    "import sys\n",
    "import os\n",
    "\n",
    "# Change to the project root directory\n",
    "project_root = '/Users/zheweishen/IGVF/IGVF_Repos/sc-pipeline-management/'\n",
    "os.chdir(project_root)\n",
    "print(f\"Changed working directory to: {os.getcwd()}\")\n",
    "\n",
    "# Add paths to sys.path\n",
    "src_path = os.path.join(project_root, 'src')\n",
    "if project_root not in sys.path:\n",
    "    sys.path.insert(0, project_root)\n",
    "if src_path not in sys.path:\n",
    "    sys.path.insert(0, src_path)\n",
    "\n",
    "\n",
    "print(\"Setup complete!\")"
   ]
  },
  {
   "cell_type": "code",
   "execution_count": 2,
   "id": "91c3a1cf-2478-4bce-b2c8-ec10fbbea38a",
   "metadata": {},
   "outputs": [],
   "source": [
    "import sc_pipe_management.wranger_utils.analysis_set_setup_utils as ana_tools\n",
    "import sc_pipe_management.igvf_and_terra_api_tools as api_tools\n",
    "import json\n",
    "import datetime\n",
    "import pandas as pd\n",
    "import importlib"
   ]
  },
  {
   "cell_type": "code",
   "execution_count": 17,
   "id": "f2e76ba9-112c-490d-a9f0-c88003fbc3b5",
   "metadata": {},
   "outputs": [
    {
     "data": {
      "text/plain": [
       "<module 'sc_pipe_management.wranger_utils.analysis_set_setup_utils' from '/Users/zheweishen/IGVF/IGVF_Repos/sc-pipeline-management/src/sc_pipe_management/wranger_utils/analysis_set_setup_utils.py'>"
      ]
     },
     "execution_count": 17,
     "metadata": {},
     "output_type": "execute_result"
    }
   ],
   "source": [
    "importlib.reload(ana_tools)"
   ]
  },
  {
   "cell_type": "markdown",
   "id": "2528becf-8dc4-468a-95a3-a3b30ec29642",
   "metadata": {},
   "source": [
    "### Set up APIs"
   ]
  },
  {
   "cell_type": "code",
   "execution_count": 21,
   "id": "e3a5711f-83f8-4b17-a038-440e11caa197",
   "metadata": {},
   "outputs": [
    {
     "name": "stdout",
     "output_type": "stream",
     "text": [
      "2025-09-02 15:37:25,138:iu_debug:\tsubmission=False: In non-submission mode.\n"
     ]
    },
    {
     "name": "stderr",
     "output_type": "stream",
     "text": [
      "DEBUG:iu_debug:submission=False: In non-submission mode.\n"
     ]
    }
   ],
   "source": [
    "# Set up API (or 'https://api.staging.igvf.org')\n",
    "igvf_endpt = 'sandbox'\n",
    "igvf_keys = api_tools.set_up_api_keys(igvf_endpoint=igvf_endpt)\n",
    "igvf_client_api = api_tools.get_igvf_client_auth(igvf_api_keys=igvf_keys, igvf_endpoint=igvf_endpt)\n",
    "iu_conn_api = api_tools.get_igvf_utils_connection(igvf_api_keys=igvf_keys, igvf_utils_mode=igvf_endpt)"
   ]
  },
  {
   "cell_type": "code",
   "execution_count": null,
   "id": "f347ec87-47fa-45b8-b1bf-bb77aeb8d06f",
   "metadata": {},
   "outputs": [],
   "source": []
  },
  {
   "cell_type": "markdown",
   "id": "0867eb89-0d58-4903-8f9b-32408f49b44b",
   "metadata": {},
   "source": [
    "### Set up placeholder analysis sets"
   ]
  },
  {
   "cell_type": "markdown",
   "id": "169cc163-b739-4b1d-9544-5439149c0e6f",
   "metadata": {},
   "source": [
    "#### Step 1: IGVF portal query"
   ]
  },
  {
   "cell_type": "code",
   "execution_count": 4,
   "id": "45fe96d3-eb2d-4d36-87bc-0d7232cb3376",
   "metadata": {},
   "outputs": [],
   "source": [
    "# Set up query info\n",
    "lab_id = '/labs/jason-buenrostro/'\n",
    "award_id = '/awards/HG011986/'\n",
    "preferred_assay_titles = ['SHARE-seq']\n",
    "statues = ['released']\n",
    "sample_names = ['colon', 'colonic epithelium', 'colon epithelial cell']\n",
    "query_limit = 'all'"
   ]
  },
  {
   "cell_type": "code",
   "execution_count": 5,
   "id": "5c0db911-6a8f-4fdb-a5cc-2e21819b0ca6",
   "metadata": {},
   "outputs": [
    {
     "data": {
      "text/plain": [
       "{'status': ['released'],\n",
       " 'lab.@id': '/labs/jason-buenrostro/',\n",
       " 'award.@id': '/awards/HG011986/',\n",
       " 'preferred_assay_titles': ['SHARE-seq'],\n",
       " 'audit.NOT_COMPLIANT.category!': ['missing sequence specification',\n",
       "  'missing barcode replacement file',\n",
       "  'missing read names',\n",
       "  'missing barcode onlist'],\n",
       " 'audit.ERROR.category!': ['upload status not validated',\n",
       "  'unexpected barcode onlist',\n",
       "  'inconsistent sequence specifications',\n",
       "  'inconsistent preferred assay titles'],\n",
       " 'samples.sample_terms.term_name': ['colon',\n",
       "  'colonic epithelium',\n",
       "  'colon epithelial cell']}"
      ]
     },
     "execution_count": 5,
     "metadata": {},
     "output_type": "execute_result"
    }
   ],
   "source": [
    "# Set up query params\n",
    "query_params = ana_tools.generate_filtered_fields(lab_id=lab_id,\n",
    "                                                  award_id=award_id,\n",
    "                                                  preferred_assay_titles=preferred_assay_titles,\n",
    "                                                  statues=statues,\n",
    "                                                  sample_names=sample_names)\n",
    "query_params"
   ]
  },
  {
   "cell_type": "code",
   "execution_count": 6,
   "id": "da8d8cfe-3300-479b-9225-6f5520fc64e2",
   "metadata": {},
   "outputs": [],
   "source": [
    "# Query the website for measurement sets meeting the criteria\n",
    "query_res = ana_tools.query_for_measets(filtered_fields=query_params,\n",
    "                                        igvf_client_api=igvf_client_api,\n",
    "                                        limit=query_limit)"
   ]
  },
  {
   "cell_type": "code",
   "execution_count": 7,
   "id": "761bbb2c-d725-4b5b-955d-3f97ebec3136",
   "metadata": {},
   "outputs": [
    {
     "data": {
      "text/plain": [
       "39"
      ]
     },
     "execution_count": 7,
     "metadata": {},
     "output_type": "execute_result"
    }
   ],
   "source": [
    "len(query_res)"
   ]
  },
  {
   "cell_type": "code",
   "execution_count": null,
   "id": "89daa72b-7e9e-466a-a483-1bda1d13be43",
   "metadata": {},
   "outputs": [],
   "source": []
  },
  {
   "cell_type": "markdown",
   "id": "5b58da1b-c2a3-4a15-b406-5addf2d0d6fc",
   "metadata": {},
   "source": [
    "#### Step 2: Generate input_file_sets arrays to make new analysis sets"
   ]
  },
  {
   "cell_type": "code",
   "execution_count": 18,
   "id": "906044e3-6682-48fc-9c9c-92afa1fc0c96",
   "metadata": {},
   "outputs": [],
   "source": [
    "# Make input file sets arrays\n",
    "new_input_file_sets_arrays = ana_tools.get_all_input_file_sets(query_res=query_res,\n",
    "                                                               igvf_client_api=igvf_client_api)"
   ]
  },
  {
   "cell_type": "code",
   "execution_count": 19,
   "id": "55caec4c-f91f-49c2-b44c-3f2655f23c38",
   "metadata": {},
   "outputs": [
    {
     "data": {
      "text/plain": [
       "1"
      ]
     },
     "execution_count": 19,
     "metadata": {},
     "output_type": "execute_result"
    }
   ],
   "source": [
    "len(new_input_file_sets_arrays)"
   ]
  },
  {
   "cell_type": "code",
   "execution_count": 10,
   "id": "cb65ca47-54d8-4c5f-bcb7-cfb8460f3bc6",
   "metadata": {},
   "outputs": [
    {
     "name": "stdout",
     "output_type": "stream",
     "text": [
      "['/measurement-sets/IGVFDS1130NULC/', '/measurement-sets/IGVFDS1680VACI/', '/measurement-sets/IGVFDS3212RENM/', '/measurement-sets/IGVFDS4205JWPE/']\n"
     ]
    }
   ],
   "source": [
    "# Hand check a few just to be sure\n",
    "for pair in new_input_file_sets_arrays:\n",
    "    print(pair)"
   ]
  },
  {
   "cell_type": "code",
   "execution_count": null,
   "id": "8939898d-4372-493c-8fd2-fb987d896aa9",
   "metadata": {},
   "outputs": [],
   "source": []
  },
  {
   "cell_type": "code",
   "execution_count": null,
   "id": "76a94cbb-1c21-4310-a911-c2176607ec0b",
   "metadata": {},
   "outputs": [],
   "source": []
  },
  {
   "cell_type": "markdown",
   "id": "55c8533a-4735-41f1-bca8-e6c950d207ce",
   "metadata": {},
   "source": [
    "#### Step 3: Create payload and submit to portal"
   ]
  },
  {
   "cell_type": "code",
   "execution_count": 15,
   "id": "6dfbd609-8e7f-4269-97b0-8703ca00806f",
   "metadata": {
    "scrolled": true
   },
   "outputs": [
    {
     "name": "stdout",
     "output_type": "stream",
     "text": [
      "2025-09-02 15:28:34,567:iu_debug:\t\n",
      "IN post().\n"
     ]
    },
    {
     "name": "stderr",
     "output_type": "stream",
     "text": [
      "DEBUG:iu_debug:\n",
      "IN post().\n"
     ]
    },
    {
     "name": "stdout",
     "output_type": "stream",
     "text": [
      "2025-09-02 15:28:34,570:iu_debug:\tValidating the payload against the schema\n"
     ]
    },
    {
     "name": "stderr",
     "output_type": "stream",
     "text": [
      "DEBUG:iu_debug:Validating the payload against the schema\n"
     ]
    },
    {
     "name": "stdout",
     "output_type": "stream",
     "text": [
      "2025-09-02 15:28:34,591:iu_debug:\t<<<<<< POST analysis_set record jason-buenrostro:Sample-IGVFSM7017UXAA_single-cell-uniform-pipeline To IGVF database with URL https://api.staging.igvf.org/analysis_set and this payload:\n",
      "\n",
      "{\n",
      "  \"aliases\": [\n",
      "    \"jason-buenrostro:Sample-IGVFSM7017UXAA_single-cell-uniform-pipeline\"\n",
      "  ],\n",
      "  \"award\": \"/awards/HG011986/\",\n",
      "  \"file_set_type\": \"intermediate analysis\",\n",
      "  \"input_file_sets\": [\n",
      "    \"/measurement-sets/IGVFDS1130NULC/\",\n",
      "    \"/measurement-sets/IGVFDS1680VACI/\",\n",
      "    \"/measurement-sets/IGVFDS3212RENM/\",\n",
      "    \"/measurement-sets/IGVFDS4205JWPE/\"\n",
      "  ],\n",
      "  \"lab\": \"/labs/jason-buenrostro/\",\n",
      "  \"uniform_pipeline_status\": \"preprocessing\"\n",
      "}\n",
      "\n",
      "\n"
     ]
    },
    {
     "name": "stderr",
     "output_type": "stream",
     "text": [
      "DEBUG:iu_debug:<<<<<< POST analysis_set record jason-buenrostro:Sample-IGVFSM7017UXAA_single-cell-uniform-pipeline To IGVF database with URL https://api.staging.igvf.org/analysis_set and this payload:\n",
      "\n",
      "{\n",
      "  \"aliases\": [\n",
      "    \"jason-buenrostro:Sample-IGVFSM7017UXAA_single-cell-uniform-pipeline\"\n",
      "  ],\n",
      "  \"award\": \"/awards/HG011986/\",\n",
      "  \"file_set_type\": \"intermediate analysis\",\n",
      "  \"input_file_sets\": [\n",
      "    \"/measurement-sets/IGVFDS1130NULC/\",\n",
      "    \"/measurement-sets/IGVFDS1680VACI/\",\n",
      "    \"/measurement-sets/IGVFDS3212RENM/\",\n",
      "    \"/measurement-sets/IGVFDS4205JWPE/\"\n",
      "  ],\n",
      "  \"lab\": \"/labs/jason-buenrostro/\",\n",
      "  \"uniform_pipeline_status\": \"preprocessing\"\n",
      "}\n",
      "\n",
      "\n"
     ]
    },
    {
     "name": "stdout",
     "output_type": "stream",
     "text": [
      "2025-09-02 15:28:35,026:iu_debug:\t{'@type': ['HTTPConflict', 'Error'], 'status': 'error', 'code': 409, 'title': 'Conflict', 'description': 'There was a conflict when trying to complete your request.', 'detail': \"Keys conflict: [('alias', 'jason-buenrostro:Sample-IGVFSM7017UXAA_single-cell-uniform-pipeline')]\"}\n"
     ]
    },
    {
     "name": "stderr",
     "output_type": "stream",
     "text": [
      "DEBUG:iu_debug:{'@type': ['HTTPConflict', 'Error'], 'status': 'error', 'code': 409, 'title': 'Conflict', 'description': 'There was a conflict when trying to complete your request.', 'detail': \"Keys conflict: [('alias', 'jason-buenrostro:Sample-IGVFSM7017UXAA_single-cell-uniform-pipeline')]\"}\n"
     ]
    },
    {
     "name": "stdout",
     "output_type": "stream",
     "text": [
      "2025-09-02 15:28:35,029:iu_debug:\t>>>>>>GET jason-buenrostro:Sample-IGVFSM7017UXAA_single-cell-uniform-pipeline From DACC with URL https://api.staging.igvf.org/jason-buenrostro:Sample-IGVFSM7017UXAA_single-cell-uniform-pipeline/?format=json\n"
     ]
    },
    {
     "name": "stderr",
     "output_type": "stream",
     "text": [
      "DEBUG:iu_debug:>>>>>>GET jason-buenrostro:Sample-IGVFSM7017UXAA_single-cell-uniform-pipeline From DACC with URL https://api.staging.igvf.org/jason-buenrostro:Sample-IGVFSM7017UXAA_single-cell-uniform-pipeline/?format=json\n"
     ]
    },
    {
     "name": "stdout",
     "output_type": "stream",
     "text": [
      "2025-09-02 15:28:35,409:iu_debug:\tWill not POST 'jason-buenrostro:Sample-IGVFSM7017UXAA_single-cell-uniform-pipeline' since it already exists with aliases '['jason-buenrostro:Sample-IGVFSM7017UXAA_single-cell-uniform-pipeline']'.\n"
     ]
    },
    {
     "name": "stderr",
     "output_type": "stream",
     "text": [
      "ERROR:iu_debug:Will not POST 'jason-buenrostro:Sample-IGVFSM7017UXAA_single-cell-uniform-pipeline' since it already exists with aliases '['jason-buenrostro:Sample-IGVFSM7017UXAA_single-cell-uniform-pipeline']'.\n",
      "ERROR:iu_error:Will not POST 'jason-buenrostro:Sample-IGVFSM7017UXAA_single-cell-uniform-pipeline' since it already exists with aliases '['jason-buenrostro:Sample-IGVFSM7017UXAA_single-cell-uniform-pipeline']'.\n"
     ]
    }
   ],
   "source": [
    "# Create payload\n",
    "new_analysis_sets_accessioned = ana_tools.post_all_anasets_to_portal(all_input_file_sets=new_input_file_sets_arrays,\n",
    "                                                                     lab=lab_id,\n",
    "                                                                     award=award_id,\n",
    "                                                                     igvf_utils_api=iu_conn_api,\n",
    "                                                                     igvf_client_api=igvf_client_api)"
   ]
  },
  {
   "cell_type": "code",
   "execution_count": 16,
   "id": "f2a32a66-e04a-441c-aa3a-6a75d944b489",
   "metadata": {},
   "outputs": [
    {
     "data": {
      "text/plain": [
       "1"
      ]
     },
     "execution_count": 16,
     "metadata": {},
     "output_type": "execute_result"
    }
   ],
   "source": [
    "len(new_analysis_sets_accessioned)"
   ]
  },
  {
   "cell_type": "code",
   "execution_count": 17,
   "id": "4e906052-a17b-46a6-ad33-365429797912",
   "metadata": {},
   "outputs": [
    {
     "data": {
      "text/plain": [
       "[AnaSetCreationResult(accession='TSTDS14505600', input_file_sets=['/measurement-sets/IGVFDS1130NULC/', '/measurement-sets/IGVFDS1680VACI/', '/measurement-sets/IGVFDS3212RENM/', '/measurement-sets/IGVFDS4205JWPE/'], errors=None)]"
      ]
     },
     "execution_count": 17,
     "metadata": {},
     "output_type": "execute_result"
    }
   ],
   "source": [
    "new_analysis_sets_accessioned"
   ]
  },
  {
   "cell_type": "code",
   "execution_count": null,
   "id": "de95b793-15a0-439e-a515-5acc07a0154f",
   "metadata": {},
   "outputs": [],
   "source": []
  },
  {
   "cell_type": "code",
   "execution_count": null,
   "id": "0ccd5205-bfe7-40ee-b7cb-4cd09460952f",
   "metadata": {},
   "outputs": [],
   "source": []
  },
  {
   "cell_type": "markdown",
   "id": "e82ecc76-60d7-4eb4-90a0-c15f23d16328",
   "metadata": {},
   "source": [
    "#### Step 4: Output file to a txt"
   ]
  },
  {
   "cell_type": "code",
   "execution_count": null,
   "id": "529bc06d-d8a7-4315-9f82-07748fc01f14",
   "metadata": {},
   "outputs": [],
   "source": []
  },
  {
   "cell_type": "code",
   "execution_count": 18,
   "id": "b7de8f26-ba23-449a-bb85-9195bcdaa842",
   "metadata": {},
   "outputs": [
    {
     "data": {
      "text/plain": [
       "'/Users/zheweishen/IGVF/IGVF_Repos/sc-pipeline-management/terra_datatables/setup/Buenrostro/buenrostro_released_SHARE-seq_colon_20250902/buenrostro_released_SHARE-seq_colon_20250902.txt'"
      ]
     },
     "execution_count": 18,
     "metadata": {},
     "output_type": "execute_result"
    }
   ],
   "source": [
    "ana_tools.write_anaset_accs_to_file(portal_post_res=new_analysis_sets_accessioned,\n",
    "                                    lab_id=lab_id,\n",
    "                                    preferred_assay_titles=preferred_assay_titles,\n",
    "                                    additional_desc='colon',\n",
    "                                    release_statuses=statues)"
   ]
  },
  {
   "cell_type": "code",
   "execution_count": null,
   "id": "fad6f830-3d85-415f-ae53-0b3af8e01fad",
   "metadata": {},
   "outputs": [],
   "source": []
  },
  {
   "cell_type": "code",
   "execution_count": null,
   "id": "137069a5-04ff-4447-8c5d-ceebfd091c8d",
   "metadata": {},
   "outputs": [],
   "source": []
  },
  {
   "cell_type": "markdown",
   "id": "d71c0589-333f-4f62-8c4b-a09e49db8aca",
   "metadata": {},
   "source": [
    "##"
   ]
  },
  {
   "cell_type": "markdown",
   "id": "a7cd0412-d914-44f7-ba6a-b6e6f4d6ccde",
   "metadata": {
    "jp-MarkdownHeadingCollapsed": true
   },
   "source": [
    "### Utils #1: Check if a list of lab generated analysis sets have bad audits"
   ]
  },
  {
   "cell_type": "code",
   "execution_count": 3,
   "id": "fa207c86-be06-44b1-b582-4231d41f484e",
   "metadata": {},
   "outputs": [],
   "source": [
    "def get_input_measets(analysis_set_obj: dict, igvf_utils_api):\n",
    "    measet_ids = []\n",
    "    for fileset_obj in analysis_set_obj.get('input_file_sets'):\n",
    "        if fileset_obj['@id'].startswith('/measurement-sets/'):\n",
    "            measet_ids.append(fileset_obj['@id'])\n",
    "    return measet_ids\n",
    "\n",
    "\n",
    "def get_measet_objs(analysis_set_acc: str, igvf_utils_api):\n",
    "    \"\"\"Get a list of measurement set objects from the input_file_sets array.\"\"\"\n",
    "    analysis_set_obj = igvf_utils_api.get(analysis_set_acc)\n",
    "    return [igvf_utils_api.get(measet_id) for measet_id in get_input_measets(analysis_set_obj, igvf_utils_api)]\n",
    "\n",
    "\n",
    "def check_specific_audits(measet_obj: dict):\n",
    "    \"\"\"Check if the measurement sets have audits from a specific list.\"\"\"\n",
    "    relevant_audits = ana_tools.EXCLUDED_ERROR_AUDITS + ana_tools.EXCLUDED_NONCOMP_AUDITS\n",
    "    all_audits = measet_obj.get('audit', {})\n",
    "    if all_audits:\n",
    "        bad_audits = all_audits.get('ERROR', []) + all_audits.get('NOT_COMPLIANT', [])\n",
    "        if bad_audits:\n",
    "            return any([err['category'] in relevant_audits for err in bad_audits])\n",
    "        else:\n",
    "            return False\n",
    "    else:\n",
    "        return False\n",
    "\n",
    "\n",
    "def check_bad_audits(analysis_set_acc: str, igvf_utils_api):\n",
    "    \"\"\"Run bad audit check on a single analysis set\"\"\"\n",
    "    measet_objs = get_measet_objs(analysis_set_acc, igvf_utils_api)\n",
    "    if any([check_specific_audits(measet_obj) for measet_obj in measet_objs]):\n",
    "        return analysis_set_acc\n",
    "\n",
    "\n",
    "def check_bad_audits_all_anasets(analysis_set_accs: list, igvf_utils_api):\n",
    "    results = [check_bad_audits(analysis_set_acc, igvf_utils_api) for analysis_set_acc in analysis_set_accs]\n",
    "    return [result for result in results if result is not None]"
   ]
  },
  {
   "cell_type": "code",
   "execution_count": 4,
   "id": "6483ac4e-155d-4759-b42b-466f89e8620f",
   "metadata": {},
   "outputs": [
    {
     "data": {
      "text/plain": [
       "291"
      ]
     },
     "execution_count": 4,
     "metadata": {},
     "output_type": "execute_result"
    }
   ],
   "source": [
    "# Lab created AnaSet accs\n",
    "lab_submitted_analysis_sets_file = '/Users/zheweishen/Desktop/all_mortazavi_asof_07292025.txt'\n",
    "\n",
    "# Read into a list\n",
    "with open(lab_submitted_analysis_sets_file) as f:\n",
    "    analysis_sets_to_check = [entry.strip() for entry in f.readlines() if not entry.startswith(\"#\")]\n",
    "len(analysis_sets_to_check)"
   ]
  },
  {
   "cell_type": "code",
   "execution_count": 7,
   "id": "0e053637-8f9d-439e-861f-d2950c7d97f6",
   "metadata": {
    "scrolled": true
   },
   "outputs": [
    {
     "name": "stdout",
     "output_type": "stream",
     "text": [
      "2025-07-29 15:30:30,631:iu_debug:\t>>>>>>GET IGVFDS5339UKYM From DACC with URL https://api.data.igvf.org/IGVFDS5339UKYM/?format=json\n",
      "2025-07-29 15:30:30,944:iu_debug:\t>>>>>>GET measurement-sets/IGVFDS2518GBBZ From DACC with URL https://api.data.igvf.org/measurement-sets/IGVFDS2518GBBZ/?format=json\n",
      "2025-07-29 15:30:31,173:iu_debug:\t>>>>>>GET measurement-sets/IGVFDS1623TJCL From DACC with URL https://api.data.igvf.org/measurement-sets/IGVFDS1623TJCL/?format=json\n",
      "2\n",
      "2025-07-29 15:30:31,394:iu_debug:\t>>>>>>GET IGVFDS5530HYKI From DACC with URL https://api.data.igvf.org/IGVFDS5530HYKI/?format=json\n",
      "2025-07-29 15:30:31,688:iu_debug:\t>>>>>>GET measurement-sets/IGVFDS6433BHLG From DACC with URL https://api.data.igvf.org/measurement-sets/IGVFDS6433BHLG/?format=json\n",
      "2025-07-29 15:30:31,905:iu_debug:\t>>>>>>GET measurement-sets/IGVFDS5820QLWL From DACC with URL https://api.data.igvf.org/measurement-sets/IGVFDS5820QLWL/?format=json\n",
      "2\n",
      "2025-07-29 15:30:32,128:iu_debug:\t>>>>>>GET IGVFDS9065BVVU From DACC with URL https://api.data.igvf.org/IGVFDS9065BVVU/?format=json\n",
      "2025-07-29 15:30:32,446:iu_debug:\t>>>>>>GET measurement-sets/IGVFDS0128SBCV From DACC with URL https://api.data.igvf.org/measurement-sets/IGVFDS0128SBCV/?format=json\n",
      "1\n",
      "2025-07-29 15:30:32,684:iu_debug:\t>>>>>>GET IGVFDS0428HJTV From DACC with URL https://api.data.igvf.org/IGVFDS0428HJTV/?format=json\n",
      "2025-07-29 15:30:32,993:iu_debug:\t>>>>>>GET measurement-sets/IGVFDS4965OCLD From DACC with URL https://api.data.igvf.org/measurement-sets/IGVFDS4965OCLD/?format=json\n",
      "1\n",
      "2025-07-29 15:30:33,257:iu_debug:\t>>>>>>GET IGVFDS9522PSDR From DACC with URL https://api.data.igvf.org/IGVFDS9522PSDR/?format=json\n",
      "2025-07-29 15:30:33,587:iu_debug:\t>>>>>>GET measurement-sets/IGVFDS9706CAUA From DACC with URL https://api.data.igvf.org/measurement-sets/IGVFDS9706CAUA/?format=json\n",
      "1\n",
      "2025-07-29 15:30:33,841:iu_debug:\t>>>>>>GET IGVFDS4005EVEH From DACC with URL https://api.data.igvf.org/IGVFDS4005EVEH/?format=json\n",
      "2025-07-29 15:30:34,156:iu_debug:\t>>>>>>GET measurement-sets/IGVFDS8787HYOO From DACC with URL https://api.data.igvf.org/measurement-sets/IGVFDS8787HYOO/?format=json\n",
      "1\n",
      "2025-07-29 15:30:34,408:iu_debug:\t>>>>>>GET IGVFDS4482QAFG From DACC with URL https://api.data.igvf.org/IGVFDS4482QAFG/?format=json\n",
      "2025-07-29 15:30:34,702:iu_debug:\t>>>>>>GET measurement-sets/IGVFDS6024VDGR From DACC with URL https://api.data.igvf.org/measurement-sets/IGVFDS6024VDGR/?format=json\n",
      "1\n",
      "2025-07-29 15:30:34,946:iu_debug:\t>>>>>>GET IGVFDS0814QJPV From DACC with URL https://api.data.igvf.org/IGVFDS0814QJPV/?format=json\n",
      "2025-07-29 15:30:35,267:iu_debug:\t>>>>>>GET measurement-sets/IGVFDS7547GPOE From DACC with URL https://api.data.igvf.org/measurement-sets/IGVFDS7547GPOE/?format=json\n",
      "1\n",
      "2025-07-29 15:30:35,520:iu_debug:\t>>>>>>GET IGVFDS2940UCFA From DACC with URL https://api.data.igvf.org/IGVFDS2940UCFA/?format=json\n",
      "2025-07-29 15:30:35,854:iu_debug:\t>>>>>>GET measurement-sets/IGVFDS2690TFKE From DACC with URL https://api.data.igvf.org/measurement-sets/IGVFDS2690TFKE/?format=json\n",
      "1\n",
      "2025-07-29 15:30:36,148:iu_debug:\t>>>>>>GET IGVFDS6063OSKU From DACC with URL https://api.data.igvf.org/IGVFDS6063OSKU/?format=json\n",
      "2025-07-29 15:30:36,454:iu_debug:\t>>>>>>GET measurement-sets/IGVFDS9312DVIC From DACC with URL https://api.data.igvf.org/measurement-sets/IGVFDS9312DVIC/?format=json\n",
      "1\n",
      "2025-07-29 15:30:36,737:iu_debug:\t>>>>>>GET IGVFDS3790AWDD From DACC with URL https://api.data.igvf.org/IGVFDS3790AWDD/?format=json\n",
      "2025-07-29 15:30:37,039:iu_debug:\t>>>>>>GET measurement-sets/IGVFDS1440FXHP From DACC with URL https://api.data.igvf.org/measurement-sets/IGVFDS1440FXHP/?format=json\n",
      "1\n",
      "2025-07-29 15:30:37,303:iu_debug:\t>>>>>>GET IGVFDS9458EPNT From DACC with URL https://api.data.igvf.org/IGVFDS9458EPNT/?format=json\n",
      "2025-07-29 15:30:37,617:iu_debug:\t>>>>>>GET measurement-sets/IGVFDS7956QADX From DACC with URL https://api.data.igvf.org/measurement-sets/IGVFDS7956QADX/?format=json\n",
      "1\n",
      "2025-07-29 15:30:37,863:iu_debug:\t>>>>>>GET IGVFDS7298EOPX From DACC with URL https://api.data.igvf.org/IGVFDS7298EOPX/?format=json\n",
      "2025-07-29 15:30:38,186:iu_debug:\t>>>>>>GET measurement-sets/IGVFDS6875UROA From DACC with URL https://api.data.igvf.org/measurement-sets/IGVFDS6875UROA/?format=json\n",
      "1\n",
      "2025-07-29 15:30:38,453:iu_debug:\t>>>>>>GET IGVFDS2612OEOZ From DACC with URL https://api.data.igvf.org/IGVFDS2612OEOZ/?format=json\n",
      "2025-07-29 15:30:38,762:iu_debug:\t>>>>>>GET measurement-sets/IGVFDS9566NPOH From DACC with URL https://api.data.igvf.org/measurement-sets/IGVFDS9566NPOH/?format=json\n",
      "1\n",
      "2025-07-29 15:30:39,026:iu_debug:\t>>>>>>GET IGVFDS5184SSTX From DACC with URL https://api.data.igvf.org/IGVFDS5184SSTX/?format=json\n",
      "2025-07-29 15:30:39,341:iu_debug:\t>>>>>>GET measurement-sets/IGVFDS0005ORLJ From DACC with URL https://api.data.igvf.org/measurement-sets/IGVFDS0005ORLJ/?format=json\n",
      "1\n",
      "2025-07-29 15:30:39,615:iu_debug:\t>>>>>>GET IGVFDS3679XRSF From DACC with URL https://api.data.igvf.org/IGVFDS3679XRSF/?format=json\n",
      "2025-07-29 15:30:39,924:iu_debug:\t>>>>>>GET measurement-sets/IGVFDS6964GFPC From DACC with URL https://api.data.igvf.org/measurement-sets/IGVFDS6964GFPC/?format=json\n",
      "1\n",
      "2025-07-29 15:30:40,163:iu_debug:\t>>>>>>GET IGVFDS3263SSLX From DACC with URL https://api.data.igvf.org/IGVFDS3263SSLX/?format=json\n",
      "2025-07-29 15:30:40,470:iu_debug:\t>>>>>>GET measurement-sets/IGVFDS5906VZBV From DACC with URL https://api.data.igvf.org/measurement-sets/IGVFDS5906VZBV/?format=json\n",
      "1\n",
      "2025-07-29 15:30:40,722:iu_debug:\t>>>>>>GET IGVFDS2584BUNL From DACC with URL https://api.data.igvf.org/IGVFDS2584BUNL/?format=json\n",
      "2025-07-29 15:30:41,026:iu_debug:\t>>>>>>GET measurement-sets/IGVFDS2058QARC From DACC with URL https://api.data.igvf.org/measurement-sets/IGVFDS2058QARC/?format=json\n",
      "1\n",
      "2025-07-29 15:30:41,411:iu_debug:\t>>>>>>GET IGVFDS2854LIDW From DACC with URL https://api.data.igvf.org/IGVFDS2854LIDW/?format=json\n",
      "2025-07-29 15:30:41,703:iu_debug:\t>>>>>>GET measurement-sets/IGVFDS6102WMDF From DACC with URL https://api.data.igvf.org/measurement-sets/IGVFDS6102WMDF/?format=json\n",
      "1\n",
      "2025-07-29 15:30:41,944:iu_debug:\t>>>>>>GET IGVFDS1217OLJZ From DACC with URL https://api.data.igvf.org/IGVFDS1217OLJZ/?format=json\n",
      "2025-07-29 15:30:42,237:iu_debug:\t>>>>>>GET measurement-sets/IGVFDS5512NECU From DACC with URL https://api.data.igvf.org/measurement-sets/IGVFDS5512NECU/?format=json\n",
      "1\n",
      "2025-07-29 15:30:42,478:iu_debug:\t>>>>>>GET IGVFDS5790TLOM From DACC with URL https://api.data.igvf.org/IGVFDS5790TLOM/?format=json\n",
      "2025-07-29 15:30:42,771:iu_debug:\t>>>>>>GET measurement-sets/IGVFDS7630FUMT From DACC with URL https://api.data.igvf.org/measurement-sets/IGVFDS7630FUMT/?format=json\n",
      "1\n",
      "2025-07-29 15:30:43,007:iu_debug:\t>>>>>>GET IGVFDS1609ESBN From DACC with URL https://api.data.igvf.org/IGVFDS1609ESBN/?format=json\n",
      "2025-07-29 15:30:43,298:iu_debug:\t>>>>>>GET measurement-sets/IGVFDS3302FHKC From DACC with URL https://api.data.igvf.org/measurement-sets/IGVFDS3302FHKC/?format=json\n",
      "1\n",
      "2025-07-29 15:30:43,539:iu_debug:\t>>>>>>GET IGVFDS7456CBKT From DACC with URL https://api.data.igvf.org/IGVFDS7456CBKT/?format=json\n",
      "2025-07-29 15:30:43,835:iu_debug:\t>>>>>>GET measurement-sets/IGVFDS9962UVBO From DACC with URL https://api.data.igvf.org/measurement-sets/IGVFDS9962UVBO/?format=json\n",
      "1\n",
      "2025-07-29 15:30:44,077:iu_debug:\t>>>>>>GET IGVFDS3572THZO From DACC with URL https://api.data.igvf.org/IGVFDS3572THZO/?format=json\n",
      "2025-07-29 15:30:44,383:iu_debug:\t>>>>>>GET measurement-sets/IGVFDS6345NYTC From DACC with URL https://api.data.igvf.org/measurement-sets/IGVFDS6345NYTC/?format=json\n",
      "1\n",
      "2025-07-29 15:30:44,615:iu_debug:\t>>>>>>GET IGVFDS8758JUDO From DACC with URL https://api.data.igvf.org/IGVFDS8758JUDO/?format=json\n",
      "2025-07-29 15:30:44,904:iu_debug:\t>>>>>>GET measurement-sets/IGVFDS5939OGHF From DACC with URL https://api.data.igvf.org/measurement-sets/IGVFDS5939OGHF/?format=json\n",
      "1\n",
      "2025-07-29 15:30:45,131:iu_debug:\t>>>>>>GET IGVFDS1726PNRG From DACC with URL https://api.data.igvf.org/IGVFDS1726PNRG/?format=json\n",
      "2025-07-29 15:30:45,414:iu_debug:\t>>>>>>GET measurement-sets/IGVFDS1381GERK From DACC with URL https://api.data.igvf.org/measurement-sets/IGVFDS1381GERK/?format=json\n",
      "1\n",
      "2025-07-29 15:30:45,645:iu_debug:\t>>>>>>GET IGVFDS6562NDNQ From DACC with URL https://api.data.igvf.org/IGVFDS6562NDNQ/?format=json\n",
      "2025-07-29 15:30:45,928:iu_debug:\t>>>>>>GET measurement-sets/IGVFDS5205JRNX From DACC with URL https://api.data.igvf.org/measurement-sets/IGVFDS5205JRNX/?format=json\n",
      "1\n",
      "2025-07-29 15:30:46,156:iu_debug:\t>>>>>>GET IGVFDS5167UVTO From DACC with URL https://api.data.igvf.org/IGVFDS5167UVTO/?format=json\n",
      "2025-07-29 15:30:46,440:iu_debug:\t>>>>>>GET measurement-sets/IGVFDS2553TFCV From DACC with URL https://api.data.igvf.org/measurement-sets/IGVFDS2553TFCV/?format=json\n",
      "1\n",
      "2025-07-29 15:30:46,669:iu_debug:\t>>>>>>GET IGVFDS1886FEBC From DACC with URL https://api.data.igvf.org/IGVFDS1886FEBC/?format=json\n",
      "2025-07-29 15:30:46,965:iu_debug:\t>>>>>>GET measurement-sets/IGVFDS5272EQRG From DACC with URL https://api.data.igvf.org/measurement-sets/IGVFDS5272EQRG/?format=json\n",
      "1\n",
      "2025-07-29 15:30:47,194:iu_debug:\t>>>>>>GET IGVFDS5242HJOY From DACC with URL https://api.data.igvf.org/IGVFDS5242HJOY/?format=json\n",
      "2025-07-29 15:30:47,493:iu_debug:\t>>>>>>GET measurement-sets/IGVFDS6946BUZB From DACC with URL https://api.data.igvf.org/measurement-sets/IGVFDS6946BUZB/?format=json\n",
      "1\n",
      "2025-07-29 15:30:47,724:iu_debug:\t>>>>>>GET IGVFDS0999ZICM From DACC with URL https://api.data.igvf.org/IGVFDS0999ZICM/?format=json\n",
      "2025-07-29 15:30:48,012:iu_debug:\t>>>>>>GET measurement-sets/IGVFDS4330PMAC From DACC with URL https://api.data.igvf.org/measurement-sets/IGVFDS4330PMAC/?format=json\n",
      "1\n",
      "2025-07-29 15:30:48,234:iu_debug:\t>>>>>>GET IGVFDS5045HMBV From DACC with URL https://api.data.igvf.org/IGVFDS5045HMBV/?format=json\n",
      "2025-07-29 15:30:48,520:iu_debug:\t>>>>>>GET measurement-sets/IGVFDS0095QJOI From DACC with URL https://api.data.igvf.org/measurement-sets/IGVFDS0095QJOI/?format=json\n",
      "1\n",
      "2025-07-29 15:30:48,758:iu_debug:\t>>>>>>GET IGVFDS6960WBDC From DACC with URL https://api.data.igvf.org/IGVFDS6960WBDC/?format=json\n",
      "2025-07-29 15:30:49,042:iu_debug:\t>>>>>>GET measurement-sets/IGVFDS9522BMQK From DACC with URL https://api.data.igvf.org/measurement-sets/IGVFDS9522BMQK/?format=json\n",
      "1\n",
      "2025-07-29 15:30:49,264:iu_debug:\t>>>>>>GET IGVFDS5946BBUS From DACC with URL https://api.data.igvf.org/IGVFDS5946BBUS/?format=json\n",
      "2025-07-29 15:30:49,560:iu_debug:\t>>>>>>GET measurement-sets/IGVFDS0356VCIO From DACC with URL https://api.data.igvf.org/measurement-sets/IGVFDS0356VCIO/?format=json\n",
      "1\n",
      "2025-07-29 15:30:49,787:iu_debug:\t>>>>>>GET IGVFDS0043KRRV From DACC with URL https://api.data.igvf.org/IGVFDS0043KRRV/?format=json\n",
      "2025-07-29 15:30:50,108:iu_debug:\t>>>>>>GET measurement-sets/IGVFDS4248UFKQ From DACC with URL https://api.data.igvf.org/measurement-sets/IGVFDS4248UFKQ/?format=json\n",
      "1\n",
      "2025-07-29 15:30:50,363:iu_debug:\t>>>>>>GET IGVFDS0112UKYP From DACC with URL https://api.data.igvf.org/IGVFDS0112UKYP/?format=json\n",
      "2025-07-29 15:30:50,672:iu_debug:\t>>>>>>GET measurement-sets/IGVFDS2794LUBH From DACC with URL https://api.data.igvf.org/measurement-sets/IGVFDS2794LUBH/?format=json\n",
      "1\n",
      "2025-07-29 15:30:50,916:iu_debug:\t>>>>>>GET IGVFDS0205ULII From DACC with URL https://api.data.igvf.org/IGVFDS0205ULII/?format=json\n",
      "2025-07-29 15:30:51,230:iu_debug:\t>>>>>>GET measurement-sets/IGVFDS4723VQYS From DACC with URL https://api.data.igvf.org/measurement-sets/IGVFDS4723VQYS/?format=json\n",
      "1\n",
      "2025-07-29 15:30:51,467:iu_debug:\t>>>>>>GET IGVFDS0207ZWPQ From DACC with URL https://api.data.igvf.org/IGVFDS0207ZWPQ/?format=json\n",
      "2025-07-29 15:30:51,766:iu_debug:\t>>>>>>GET measurement-sets/IGVFDS5556SDQP From DACC with URL https://api.data.igvf.org/measurement-sets/IGVFDS5556SDQP/?format=json\n",
      "1\n",
      "2025-07-29 15:30:52,024:iu_debug:\t>>>>>>GET IGVFDS0230BJDU From DACC with URL https://api.data.igvf.org/IGVFDS0230BJDU/?format=json\n",
      "2025-07-29 15:30:52,326:iu_debug:\t>>>>>>GET measurement-sets/IGVFDS5380BIVB From DACC with URL https://api.data.igvf.org/measurement-sets/IGVFDS5380BIVB/?format=json\n",
      "1\n",
      "2025-07-29 15:30:52,564:iu_debug:\t>>>>>>GET IGVFDS0396IRCQ From DACC with URL https://api.data.igvf.org/IGVFDS0396IRCQ/?format=json\n",
      "2025-07-29 15:30:52,883:iu_debug:\t>>>>>>GET measurement-sets/IGVFDS2344ZIPD From DACC with URL https://api.data.igvf.org/measurement-sets/IGVFDS2344ZIPD/?format=json\n",
      "1\n",
      "2025-07-29 15:30:53,129:iu_debug:\t>>>>>>GET IGVFDS0640VZNQ From DACC with URL https://api.data.igvf.org/IGVFDS0640VZNQ/?format=json\n",
      "2025-07-29 15:30:53,423:iu_debug:\t>>>>>>GET measurement-sets/IGVFDS0582VJBG From DACC with URL https://api.data.igvf.org/measurement-sets/IGVFDS0582VJBG/?format=json\n",
      "1\n",
      "2025-07-29 15:30:53,656:iu_debug:\t>>>>>>GET IGVFDS0649WXSF From DACC with URL https://api.data.igvf.org/IGVFDS0649WXSF/?format=json\n",
      "2025-07-29 15:30:53,967:iu_debug:\t>>>>>>GET measurement-sets/IGVFDS7926JPWQ From DACC with URL https://api.data.igvf.org/measurement-sets/IGVFDS7926JPWQ/?format=json\n",
      "1\n",
      "2025-07-29 15:30:54,222:iu_debug:\t>>>>>>GET IGVFDS0917THJD From DACC with URL https://api.data.igvf.org/IGVFDS0917THJD/?format=json\n",
      "2025-07-29 15:30:54,529:iu_debug:\t>>>>>>GET measurement-sets/IGVFDS8657TVHG From DACC with URL https://api.data.igvf.org/measurement-sets/IGVFDS8657TVHG/?format=json\n",
      "1\n",
      "2025-07-29 15:30:54,766:iu_debug:\t>>>>>>GET IGVFDS1086LFIS From DACC with URL https://api.data.igvf.org/IGVFDS1086LFIS/?format=json\n",
      "2025-07-29 15:30:55,098:iu_debug:\t>>>>>>GET measurement-sets/IGVFDS6356BAJX From DACC with URL https://api.data.igvf.org/measurement-sets/IGVFDS6356BAJX/?format=json\n",
      "1\n",
      "2025-07-29 15:30:55,356:iu_debug:\t>>>>>>GET IGVFDS1118GSPP From DACC with URL https://api.data.igvf.org/IGVFDS1118GSPP/?format=json\n",
      "2025-07-29 15:30:55,664:iu_debug:\t>>>>>>GET measurement-sets/IGVFDS5975CQWW From DACC with URL https://api.data.igvf.org/measurement-sets/IGVFDS5975CQWW/?format=json\n",
      "1\n",
      "2025-07-29 15:30:55,910:iu_debug:\t>>>>>>GET IGVFDS1194AEXF From DACC with URL https://api.data.igvf.org/IGVFDS1194AEXF/?format=json\n",
      "2025-07-29 15:30:56,216:iu_debug:\t>>>>>>GET measurement-sets/IGVFDS6810FMTN From DACC with URL https://api.data.igvf.org/measurement-sets/IGVFDS6810FMTN/?format=json\n",
      "1\n",
      "2025-07-29 15:30:56,463:iu_debug:\t>>>>>>GET IGVFDS1309DZIX From DACC with URL https://api.data.igvf.org/IGVFDS1309DZIX/?format=json\n",
      "2025-07-29 15:30:56,773:iu_debug:\t>>>>>>GET measurement-sets/IGVFDS7908VMTV From DACC with URL https://api.data.igvf.org/measurement-sets/IGVFDS7908VMTV/?format=json\n",
      "1\n",
      "2025-07-29 15:30:57,021:iu_debug:\t>>>>>>GET IGVFDS1548OSQD From DACC with URL https://api.data.igvf.org/IGVFDS1548OSQD/?format=json\n",
      "2025-07-29 15:30:57,324:iu_debug:\t>>>>>>GET measurement-sets/IGVFDS2176CGLV From DACC with URL https://api.data.igvf.org/measurement-sets/IGVFDS2176CGLV/?format=json\n",
      "1\n",
      "2025-07-29 15:30:57,579:iu_debug:\t>>>>>>GET IGVFDS1604VQDQ From DACC with URL https://api.data.igvf.org/IGVFDS1604VQDQ/?format=json\n",
      "2025-07-29 15:30:57,906:iu_debug:\t>>>>>>GET measurement-sets/IGVFDS9490BYGZ From DACC with URL https://api.data.igvf.org/measurement-sets/IGVFDS9490BYGZ/?format=json\n",
      "1\n",
      "2025-07-29 15:30:58,163:iu_debug:\t>>>>>>GET IGVFDS1672LFWS From DACC with URL https://api.data.igvf.org/IGVFDS1672LFWS/?format=json\n",
      "2025-07-29 15:30:58,459:iu_debug:\t>>>>>>GET measurement-sets/IGVFDS6137XZMZ From DACC with URL https://api.data.igvf.org/measurement-sets/IGVFDS6137XZMZ/?format=json\n",
      "1\n",
      "2025-07-29 15:30:58,755:iu_debug:\t>>>>>>GET IGVFDS1767UANP From DACC with URL https://api.data.igvf.org/IGVFDS1767UANP/?format=json\n",
      "2025-07-29 15:30:59,060:iu_debug:\t>>>>>>GET measurement-sets/IGVFDS1147YWRU From DACC with URL https://api.data.igvf.org/measurement-sets/IGVFDS1147YWRU/?format=json\n",
      "1\n",
      "2025-07-29 15:30:59,329:iu_debug:\t>>>>>>GET IGVFDS1804YMSI From DACC with URL https://api.data.igvf.org/IGVFDS1804YMSI/?format=json\n",
      "2025-07-29 15:30:59,636:iu_debug:\t>>>>>>GET measurement-sets/IGVFDS5218TYLY From DACC with URL https://api.data.igvf.org/measurement-sets/IGVFDS5218TYLY/?format=json\n",
      "1\n",
      "2025-07-29 15:30:59,877:iu_debug:\t>>>>>>GET IGVFDS1920IVLO From DACC with URL https://api.data.igvf.org/IGVFDS1920IVLO/?format=json\n",
      "2025-07-29 15:31:00,230:iu_debug:\t>>>>>>GET measurement-sets/IGVFDS8951NZZP From DACC with URL https://api.data.igvf.org/measurement-sets/IGVFDS8951NZZP/?format=json\n",
      "1\n",
      "2025-07-29 15:31:00,520:iu_debug:\t>>>>>>GET IGVFDS1929VQJP From DACC with URL https://api.data.igvf.org/IGVFDS1929VQJP/?format=json\n",
      "2025-07-29 15:31:00,836:iu_debug:\t>>>>>>GET measurement-sets/IGVFDS6986CTKT From DACC with URL https://api.data.igvf.org/measurement-sets/IGVFDS6986CTKT/?format=json\n",
      "1\n",
      "2025-07-29 15:31:01,089:iu_debug:\t>>>>>>GET IGVFDS1945ABFC From DACC with URL https://api.data.igvf.org/IGVFDS1945ABFC/?format=json\n",
      "2025-07-29 15:31:01,387:iu_debug:\t>>>>>>GET measurement-sets/IGVFDS6418RIAE From DACC with URL https://api.data.igvf.org/measurement-sets/IGVFDS6418RIAE/?format=json\n",
      "1\n",
      "2025-07-29 15:31:01,629:iu_debug:\t>>>>>>GET IGVFDS1960JJYS From DACC with URL https://api.data.igvf.org/IGVFDS1960JJYS/?format=json\n",
      "2025-07-29 15:31:01,949:iu_debug:\t>>>>>>GET measurement-sets/IGVFDS6835GFNB From DACC with URL https://api.data.igvf.org/measurement-sets/IGVFDS6835GFNB/?format=json\n",
      "1\n",
      "2025-07-29 15:31:02,188:iu_debug:\t>>>>>>GET IGVFDS2047ICPD From DACC with URL https://api.data.igvf.org/IGVFDS2047ICPD/?format=json\n",
      "2025-07-29 15:31:02,495:iu_debug:\t>>>>>>GET measurement-sets/IGVFDS2665DDUU From DACC with URL https://api.data.igvf.org/measurement-sets/IGVFDS2665DDUU/?format=json\n",
      "1\n",
      "2025-07-29 15:31:02,764:iu_debug:\t>>>>>>GET IGVFDS2147QWGT From DACC with URL https://api.data.igvf.org/IGVFDS2147QWGT/?format=json\n",
      "2025-07-29 15:31:03,080:iu_debug:\t>>>>>>GET measurement-sets/IGVFDS3980EKXU From DACC with URL https://api.data.igvf.org/measurement-sets/IGVFDS3980EKXU/?format=json\n",
      "1\n",
      "2025-07-29 15:31:03,335:iu_debug:\t>>>>>>GET IGVFDS2277NHHP From DACC with URL https://api.data.igvf.org/IGVFDS2277NHHP/?format=json\n",
      "2025-07-29 15:31:03,648:iu_debug:\t>>>>>>GET measurement-sets/IGVFDS5331YSAT From DACC with URL https://api.data.igvf.org/measurement-sets/IGVFDS5331YSAT/?format=json\n",
      "1\n",
      "2025-07-29 15:31:03,887:iu_debug:\t>>>>>>GET IGVFDS2277PEDG From DACC with URL https://api.data.igvf.org/IGVFDS2277PEDG/?format=json\n",
      "2025-07-29 15:31:04,188:iu_debug:\t>>>>>>GET measurement-sets/IGVFDS5449NHFC From DACC with URL https://api.data.igvf.org/measurement-sets/IGVFDS5449NHFC/?format=json\n",
      "1\n",
      "2025-07-29 15:31:04,443:iu_debug:\t>>>>>>GET IGVFDS2425HZGW From DACC with URL https://api.data.igvf.org/IGVFDS2425HZGW/?format=json\n",
      "2025-07-29 15:31:04,743:iu_debug:\t>>>>>>GET measurement-sets/IGVFDS4747BMDE From DACC with URL https://api.data.igvf.org/measurement-sets/IGVFDS4747BMDE/?format=json\n",
      "1\n",
      "2025-07-29 15:31:04,992:iu_debug:\t>>>>>>GET IGVFDS2479BDYI From DACC with URL https://api.data.igvf.org/IGVFDS2479BDYI/?format=json\n",
      "2025-07-29 15:31:05,289:iu_debug:\t>>>>>>GET measurement-sets/IGVFDS4540ZJSV From DACC with URL https://api.data.igvf.org/measurement-sets/IGVFDS4540ZJSV/?format=json\n",
      "1\n",
      "2025-07-29 15:31:05,527:iu_debug:\t>>>>>>GET IGVFDS2598VMCG From DACC with URL https://api.data.igvf.org/IGVFDS2598VMCG/?format=json\n",
      "2025-07-29 15:31:05,850:iu_debug:\t>>>>>>GET measurement-sets/IGVFDS8576ZOGO From DACC with URL https://api.data.igvf.org/measurement-sets/IGVFDS8576ZOGO/?format=json\n",
      "1\n",
      "2025-07-29 15:31:06,094:iu_debug:\t>>>>>>GET IGVFDS2616UAEH From DACC with URL https://api.data.igvf.org/IGVFDS2616UAEH/?format=json\n",
      "2025-07-29 15:31:06,421:iu_debug:\t>>>>>>GET measurement-sets/IGVFDS8876RYUV From DACC with URL https://api.data.igvf.org/measurement-sets/IGVFDS8876RYUV/?format=json\n",
      "1\n",
      "2025-07-29 15:31:06,652:iu_debug:\t>>>>>>GET IGVFDS2644CPMS From DACC with URL https://api.data.igvf.org/IGVFDS2644CPMS/?format=json\n",
      "2025-07-29 15:31:06,951:iu_debug:\t>>>>>>GET measurement-sets/IGVFDS5447HBUF From DACC with URL https://api.data.igvf.org/measurement-sets/IGVFDS5447HBUF/?format=json\n",
      "1\n",
      "2025-07-29 15:31:07,210:iu_debug:\t>>>>>>GET IGVFDS2774OMIV From DACC with URL https://api.data.igvf.org/IGVFDS2774OMIV/?format=json\n",
      "2025-07-29 15:31:07,520:iu_debug:\t>>>>>>GET measurement-sets/IGVFDS0877DBYT From DACC with URL https://api.data.igvf.org/measurement-sets/IGVFDS0877DBYT/?format=json\n",
      "1\n",
      "2025-07-29 15:31:07,766:iu_debug:\t>>>>>>GET IGVFDS2814QTIY From DACC with URL https://api.data.igvf.org/IGVFDS2814QTIY/?format=json\n",
      "2025-07-29 15:31:08,080:iu_debug:\t>>>>>>GET measurement-sets/IGVFDS2225MFRS From DACC with URL https://api.data.igvf.org/measurement-sets/IGVFDS2225MFRS/?format=json\n",
      "1\n",
      "2025-07-29 15:31:08,352:iu_debug:\t>>>>>>GET IGVFDS2840ZXKZ From DACC with URL https://api.data.igvf.org/IGVFDS2840ZXKZ/?format=json\n",
      "2025-07-29 15:31:08,667:iu_debug:\t>>>>>>GET measurement-sets/IGVFDS3799GMAV From DACC with URL https://api.data.igvf.org/measurement-sets/IGVFDS3799GMAV/?format=json\n",
      "1\n",
      "2025-07-29 15:31:08,927:iu_debug:\t>>>>>>GET IGVFDS2953RGOW From DACC with URL https://api.data.igvf.org/IGVFDS2953RGOW/?format=json\n",
      "2025-07-29 15:31:09,229:iu_debug:\t>>>>>>GET measurement-sets/IGVFDS1771HEWD From DACC with URL https://api.data.igvf.org/measurement-sets/IGVFDS1771HEWD/?format=json\n",
      "1\n",
      "2025-07-29 15:31:09,490:iu_debug:\t>>>>>>GET IGVFDS3221GVHS From DACC with URL https://api.data.igvf.org/IGVFDS3221GVHS/?format=json\n",
      "2025-07-29 15:31:09,800:iu_debug:\t>>>>>>GET measurement-sets/IGVFDS6578AQFG From DACC with URL https://api.data.igvf.org/measurement-sets/IGVFDS6578AQFG/?format=json\n",
      "1\n",
      "2025-07-29 15:31:10,090:iu_debug:\t>>>>>>GET IGVFDS3325JHMR From DACC with URL https://api.data.igvf.org/IGVFDS3325JHMR/?format=json\n",
      "2025-07-29 15:31:10,402:iu_debug:\t>>>>>>GET measurement-sets/IGVFDS6939JOLI From DACC with URL https://api.data.igvf.org/measurement-sets/IGVFDS6939JOLI/?format=json\n",
      "1\n",
      "2025-07-29 15:31:10,648:iu_debug:\t>>>>>>GET IGVFDS3355KUBI From DACC with URL https://api.data.igvf.org/IGVFDS3355KUBI/?format=json\n",
      "2025-07-29 15:31:10,950:iu_debug:\t>>>>>>GET measurement-sets/IGVFDS6825AWHP From DACC with URL https://api.data.igvf.org/measurement-sets/IGVFDS6825AWHP/?format=json\n",
      "1\n",
      "2025-07-29 15:31:11,190:iu_debug:\t>>>>>>GET IGVFDS3424CKYP From DACC with URL https://api.data.igvf.org/IGVFDS3424CKYP/?format=json\n",
      "2025-07-29 15:31:11,495:iu_debug:\t>>>>>>GET measurement-sets/IGVFDS7361KZSL From DACC with URL https://api.data.igvf.org/measurement-sets/IGVFDS7361KZSL/?format=json\n",
      "1\n",
      "2025-07-29 15:31:11,752:iu_debug:\t>>>>>>GET IGVFDS3436FOOY From DACC with URL https://api.data.igvf.org/IGVFDS3436FOOY/?format=json\n",
      "2025-07-29 15:31:12,076:iu_debug:\t>>>>>>GET measurement-sets/IGVFDS4866EOBI From DACC with URL https://api.data.igvf.org/measurement-sets/IGVFDS4866EOBI/?format=json\n",
      "1\n",
      "2025-07-29 15:31:12,335:iu_debug:\t>>>>>>GET IGVFDS3440XWQR From DACC with URL https://api.data.igvf.org/IGVFDS3440XWQR/?format=json\n",
      "2025-07-29 15:31:12,642:iu_debug:\t>>>>>>GET measurement-sets/IGVFDS6987KXAW From DACC with URL https://api.data.igvf.org/measurement-sets/IGVFDS6987KXAW/?format=json\n",
      "1\n",
      "2025-07-29 15:31:12,875:iu_debug:\t>>>>>>GET IGVFDS3456NCON From DACC with URL https://api.data.igvf.org/IGVFDS3456NCON/?format=json\n",
      "2025-07-29 15:31:13,183:iu_debug:\t>>>>>>GET measurement-sets/IGVFDS0650LFIN From DACC with URL https://api.data.igvf.org/measurement-sets/IGVFDS0650LFIN/?format=json\n",
      "1\n",
      "2025-07-29 15:31:13,425:iu_debug:\t>>>>>>GET IGVFDS3508HZFF From DACC with URL https://api.data.igvf.org/IGVFDS3508HZFF/?format=json\n",
      "2025-07-29 15:31:13,733:iu_debug:\t>>>>>>GET measurement-sets/IGVFDS7260DMKG From DACC with URL https://api.data.igvf.org/measurement-sets/IGVFDS7260DMKG/?format=json\n",
      "1\n",
      "2025-07-29 15:31:13,991:iu_debug:\t>>>>>>GET IGVFDS3647AGOM From DACC with URL https://api.data.igvf.org/IGVFDS3647AGOM/?format=json\n",
      "2025-07-29 15:31:14,305:iu_debug:\t>>>>>>GET measurement-sets/IGVFDS4191KCRM From DACC with URL https://api.data.igvf.org/measurement-sets/IGVFDS4191KCRM/?format=json\n",
      "1\n",
      "2025-07-29 15:31:14,559:iu_debug:\t>>>>>>GET IGVFDS3784IUAH From DACC with URL https://api.data.igvf.org/IGVFDS3784IUAH/?format=json\n",
      "2025-07-29 15:31:14,867:iu_debug:\t>>>>>>GET measurement-sets/IGVFDS0635TEDS From DACC with URL https://api.data.igvf.org/measurement-sets/IGVFDS0635TEDS/?format=json\n",
      "1\n",
      "2025-07-29 15:31:15,119:iu_debug:\t>>>>>>GET IGVFDS3796BTPN From DACC with URL https://api.data.igvf.org/IGVFDS3796BTPN/?format=json\n",
      "2025-07-29 15:31:15,413:iu_debug:\t>>>>>>GET measurement-sets/IGVFDS1144SYSV From DACC with URL https://api.data.igvf.org/measurement-sets/IGVFDS1144SYSV/?format=json\n",
      "1\n",
      "2025-07-29 15:31:15,654:iu_debug:\t>>>>>>GET IGVFDS3888GNZT From DACC with URL https://api.data.igvf.org/IGVFDS3888GNZT/?format=json\n",
      "2025-07-29 15:31:15,972:iu_debug:\t>>>>>>GET measurement-sets/IGVFDS5391ZQHQ From DACC with URL https://api.data.igvf.org/measurement-sets/IGVFDS5391ZQHQ/?format=json\n",
      "1\n",
      "2025-07-29 15:31:16,239:iu_debug:\t>>>>>>GET IGVFDS3912QYVK From DACC with URL https://api.data.igvf.org/IGVFDS3912QYVK/?format=json\n",
      "2025-07-29 15:31:16,556:iu_debug:\t>>>>>>GET measurement-sets/IGVFDS3643MTVJ From DACC with URL https://api.data.igvf.org/measurement-sets/IGVFDS3643MTVJ/?format=json\n",
      "1\n",
      "2025-07-29 15:31:16,789:iu_debug:\t>>>>>>GET IGVFDS3918MDVP From DACC with URL https://api.data.igvf.org/IGVFDS3918MDVP/?format=json\n",
      "2025-07-29 15:31:17,094:iu_debug:\t>>>>>>GET measurement-sets/IGVFDS4267KGON From DACC with URL https://api.data.igvf.org/measurement-sets/IGVFDS4267KGON/?format=json\n",
      "1\n",
      "2025-07-29 15:31:17,334:iu_debug:\t>>>>>>GET IGVFDS3943ULDK From DACC with URL https://api.data.igvf.org/IGVFDS3943ULDK/?format=json\n",
      "2025-07-29 15:31:17,645:iu_debug:\t>>>>>>GET measurement-sets/IGVFDS2689YHSU From DACC with URL https://api.data.igvf.org/measurement-sets/IGVFDS2689YHSU/?format=json\n",
      "1\n",
      "2025-07-29 15:31:17,909:iu_debug:\t>>>>>>GET IGVFDS4052PNWV From DACC with URL https://api.data.igvf.org/IGVFDS4052PNWV/?format=json\n",
      "2025-07-29 15:31:18,204:iu_debug:\t>>>>>>GET measurement-sets/IGVFDS3977GHOA From DACC with URL https://api.data.igvf.org/measurement-sets/IGVFDS3977GHOA/?format=json\n",
      "1\n",
      "2025-07-29 15:31:18,433:iu_debug:\t>>>>>>GET IGVFDS4082WRBH From DACC with URL https://api.data.igvf.org/IGVFDS4082WRBH/?format=json\n",
      "2025-07-29 15:31:18,750:iu_debug:\t>>>>>>GET measurement-sets/IGVFDS5202ZKVR From DACC with URL https://api.data.igvf.org/measurement-sets/IGVFDS5202ZKVR/?format=json\n",
      "1\n",
      "2025-07-29 15:31:19,004:iu_debug:\t>>>>>>GET IGVFDS4169YQVV From DACC with URL https://api.data.igvf.org/IGVFDS4169YQVV/?format=json\n",
      "2025-07-29 15:31:19,298:iu_debug:\t>>>>>>GET measurement-sets/IGVFDS0378JGOP From DACC with URL https://api.data.igvf.org/measurement-sets/IGVFDS0378JGOP/?format=json\n",
      "1\n",
      "2025-07-29 15:31:19,563:iu_debug:\t>>>>>>GET IGVFDS4197CUWP From DACC with URL https://api.data.igvf.org/IGVFDS4197CUWP/?format=json\n",
      "2025-07-29 15:31:19,879:iu_debug:\t>>>>>>GET measurement-sets/IGVFDS7702GNGM From DACC with URL https://api.data.igvf.org/measurement-sets/IGVFDS7702GNGM/?format=json\n",
      "1\n",
      "2025-07-29 15:31:20,151:iu_debug:\t>>>>>>GET IGVFDS4662KYPW From DACC with URL https://api.data.igvf.org/IGVFDS4662KYPW/?format=json\n",
      "2025-07-29 15:31:20,453:iu_debug:\t>>>>>>GET measurement-sets/IGVFDS7814BDIB From DACC with URL https://api.data.igvf.org/measurement-sets/IGVFDS7814BDIB/?format=json\n",
      "1\n",
      "2025-07-29 15:31:20,714:iu_debug:\t>>>>>>GET IGVFDS4755CTVL From DACC with URL https://api.data.igvf.org/IGVFDS4755CTVL/?format=json\n",
      "2025-07-29 15:31:21,016:iu_debug:\t>>>>>>GET measurement-sets/IGVFDS9567UTEC From DACC with URL https://api.data.igvf.org/measurement-sets/IGVFDS9567UTEC/?format=json\n",
      "1\n",
      "2025-07-29 15:31:21,257:iu_debug:\t>>>>>>GET IGVFDS4838EKSJ From DACC with URL https://api.data.igvf.org/IGVFDS4838EKSJ/?format=json\n",
      "2025-07-29 15:31:21,562:iu_debug:\t>>>>>>GET measurement-sets/IGVFDS6424OFQK From DACC with URL https://api.data.igvf.org/measurement-sets/IGVFDS6424OFQK/?format=json\n",
      "1\n",
      "2025-07-29 15:31:21,800:iu_debug:\t>>>>>>GET IGVFDS4890FPWE From DACC with URL https://api.data.igvf.org/IGVFDS4890FPWE/?format=json\n",
      "2025-07-29 15:31:22,108:iu_debug:\t>>>>>>GET measurement-sets/IGVFDS8285ZBBZ From DACC with URL https://api.data.igvf.org/measurement-sets/IGVFDS8285ZBBZ/?format=json\n",
      "1\n",
      "2025-07-29 15:31:22,363:iu_debug:\t>>>>>>GET IGVFDS4943GXOS From DACC with URL https://api.data.igvf.org/IGVFDS4943GXOS/?format=json\n",
      "2025-07-29 15:31:22,673:iu_debug:\t>>>>>>GET measurement-sets/IGVFDS8517BJPP From DACC with URL https://api.data.igvf.org/measurement-sets/IGVFDS8517BJPP/?format=json\n",
      "1\n",
      "2025-07-29 15:31:22,927:iu_debug:\t>>>>>>GET IGVFDS5324XADR From DACC with URL https://api.data.igvf.org/IGVFDS5324XADR/?format=json\n",
      "2025-07-29 15:31:23,242:iu_debug:\t>>>>>>GET measurement-sets/IGVFDS2661USDF From DACC with URL https://api.data.igvf.org/measurement-sets/IGVFDS2661USDF/?format=json\n",
      "1\n",
      "2025-07-29 15:31:23,468:iu_debug:\t>>>>>>GET IGVFDS5328FESM From DACC with URL https://api.data.igvf.org/IGVFDS5328FESM/?format=json\n",
      "2025-07-29 15:31:23,771:iu_debug:\t>>>>>>GET measurement-sets/IGVFDS0730EKEW From DACC with URL https://api.data.igvf.org/measurement-sets/IGVFDS0730EKEW/?format=json\n",
      "1\n",
      "2025-07-29 15:31:24,015:iu_debug:\t>>>>>>GET IGVFDS5529XBHB From DACC with URL https://api.data.igvf.org/IGVFDS5529XBHB/?format=json\n",
      "2025-07-29 15:31:24,306:iu_debug:\t>>>>>>GET measurement-sets/IGVFDS4228ZELA From DACC with URL https://api.data.igvf.org/measurement-sets/IGVFDS4228ZELA/?format=json\n",
      "1\n",
      "2025-07-29 15:31:24,554:iu_debug:\t>>>>>>GET IGVFDS5539VRDK From DACC with URL https://api.data.igvf.org/IGVFDS5539VRDK/?format=json\n",
      "2025-07-29 15:31:24,854:iu_debug:\t>>>>>>GET measurement-sets/IGVFDS7639CUCY From DACC with URL https://api.data.igvf.org/measurement-sets/IGVFDS7639CUCY/?format=json\n",
      "1\n",
      "2025-07-29 15:31:25,096:iu_debug:\t>>>>>>GET IGVFDS5557BVDV From DACC with URL https://api.data.igvf.org/IGVFDS5557BVDV/?format=json\n",
      "2025-07-29 15:31:25,385:iu_debug:\t>>>>>>GET measurement-sets/IGVFDS1725LJAN From DACC with URL https://api.data.igvf.org/measurement-sets/IGVFDS1725LJAN/?format=json\n",
      "1\n",
      "2025-07-29 15:31:25,622:iu_debug:\t>>>>>>GET IGVFDS5579BPWP From DACC with URL https://api.data.igvf.org/IGVFDS5579BPWP/?format=json\n",
      "2025-07-29 15:31:25,921:iu_debug:\t>>>>>>GET measurement-sets/IGVFDS1511UWOY From DACC with URL https://api.data.igvf.org/measurement-sets/IGVFDS1511UWOY/?format=json\n",
      "1\n",
      "2025-07-29 15:31:26,154:iu_debug:\t>>>>>>GET IGVFDS6089EZRT From DACC with URL https://api.data.igvf.org/IGVFDS6089EZRT/?format=json\n",
      "2025-07-29 15:31:26,460:iu_debug:\t>>>>>>GET measurement-sets/IGVFDS7761MAGD From DACC with URL https://api.data.igvf.org/measurement-sets/IGVFDS7761MAGD/?format=json\n",
      "1\n",
      "2025-07-29 15:31:26,690:iu_debug:\t>>>>>>GET IGVFDS6221JWDE From DACC with URL https://api.data.igvf.org/IGVFDS6221JWDE/?format=json\n",
      "2025-07-29 15:31:26,990:iu_debug:\t>>>>>>GET measurement-sets/IGVFDS3094RLKY From DACC with URL https://api.data.igvf.org/measurement-sets/IGVFDS3094RLKY/?format=json\n",
      "1\n",
      "2025-07-29 15:31:27,238:iu_debug:\t>>>>>>GET IGVFDS6229HAFB From DACC with URL https://api.data.igvf.org/IGVFDS6229HAFB/?format=json\n",
      "2025-07-29 15:31:27,533:iu_debug:\t>>>>>>GET measurement-sets/IGVFDS9888LNVB From DACC with URL https://api.data.igvf.org/measurement-sets/IGVFDS9888LNVB/?format=json\n",
      "1\n",
      "2025-07-29 15:31:27,788:iu_debug:\t>>>>>>GET IGVFDS6290WNNH From DACC with URL https://api.data.igvf.org/IGVFDS6290WNNH/?format=json\n",
      "2025-07-29 15:31:28,073:iu_debug:\t>>>>>>GET measurement-sets/IGVFDS0681MGJA From DACC with URL https://api.data.igvf.org/measurement-sets/IGVFDS0681MGJA/?format=json\n",
      "1\n",
      "2025-07-29 15:31:28,314:iu_debug:\t>>>>>>GET IGVFDS6297JPWC From DACC with URL https://api.data.igvf.org/IGVFDS6297JPWC/?format=json\n",
      "2025-07-29 15:31:28,625:iu_debug:\t>>>>>>GET measurement-sets/IGVFDS1813UKUP From DACC with URL https://api.data.igvf.org/measurement-sets/IGVFDS1813UKUP/?format=json\n",
      "1\n",
      "2025-07-29 15:31:28,878:iu_debug:\t>>>>>>GET IGVFDS6335FIAB From DACC with URL https://api.data.igvf.org/IGVFDS6335FIAB/?format=json\n",
      "2025-07-29 15:31:29,177:iu_debug:\t>>>>>>GET measurement-sets/IGVFDS4314DDJA From DACC with URL https://api.data.igvf.org/measurement-sets/IGVFDS4314DDJA/?format=json\n",
      "1\n",
      "2025-07-29 15:31:29,410:iu_debug:\t>>>>>>GET IGVFDS6358XZKT From DACC with URL https://api.data.igvf.org/IGVFDS6358XZKT/?format=json\n",
      "2025-07-29 15:31:29,716:iu_debug:\t>>>>>>GET measurement-sets/IGVFDS1684WYLJ From DACC with URL https://api.data.igvf.org/measurement-sets/IGVFDS1684WYLJ/?format=json\n",
      "1\n",
      "2025-07-29 15:31:29,980:iu_debug:\t>>>>>>GET IGVFDS6621FNTB From DACC with URL https://api.data.igvf.org/IGVFDS6621FNTB/?format=json\n",
      "2025-07-29 15:31:30,285:iu_debug:\t>>>>>>GET measurement-sets/IGVFDS1344OXWB From DACC with URL https://api.data.igvf.org/measurement-sets/IGVFDS1344OXWB/?format=json\n",
      "1\n",
      "2025-07-29 15:31:30,544:iu_debug:\t>>>>>>GET IGVFDS6655EBEY From DACC with URL https://api.data.igvf.org/IGVFDS6655EBEY/?format=json\n",
      "2025-07-29 15:31:30,845:iu_debug:\t>>>>>>GET measurement-sets/IGVFDS5969XSBI From DACC with URL https://api.data.igvf.org/measurement-sets/IGVFDS5969XSBI/?format=json\n",
      "1\n",
      "2025-07-29 15:31:31,109:iu_debug:\t>>>>>>GET IGVFDS6715FOOC From DACC with URL https://api.data.igvf.org/IGVFDS6715FOOC/?format=json\n",
      "2025-07-29 15:31:31,407:iu_debug:\t>>>>>>GET measurement-sets/IGVFDS9787SUBA From DACC with URL https://api.data.igvf.org/measurement-sets/IGVFDS9787SUBA/?format=json\n",
      "1\n",
      "2025-07-29 15:31:31,685:iu_debug:\t>>>>>>GET IGVFDS6793CLHV From DACC with URL https://api.data.igvf.org/IGVFDS6793CLHV/?format=json\n",
      "2025-07-29 15:31:31,984:iu_debug:\t>>>>>>GET measurement-sets/IGVFDS5358BMMQ From DACC with URL https://api.data.igvf.org/measurement-sets/IGVFDS5358BMMQ/?format=json\n",
      "1\n",
      "2025-07-29 15:31:32,237:iu_debug:\t>>>>>>GET IGVFDS6811OHQX From DACC with URL https://api.data.igvf.org/IGVFDS6811OHQX/?format=json\n",
      "2025-07-29 15:31:32,541:iu_debug:\t>>>>>>GET measurement-sets/IGVFDS3698WBTT From DACC with URL https://api.data.igvf.org/measurement-sets/IGVFDS3698WBTT/?format=json\n",
      "1\n",
      "2025-07-29 15:31:32,781:iu_debug:\t>>>>>>GET IGVFDS6884EEPS From DACC with URL https://api.data.igvf.org/IGVFDS6884EEPS/?format=json\n",
      "2025-07-29 15:31:33,087:iu_debug:\t>>>>>>GET measurement-sets/IGVFDS0287TFYK From DACC with URL https://api.data.igvf.org/measurement-sets/IGVFDS0287TFYK/?format=json\n",
      "1\n",
      "2025-07-29 15:31:33,331:iu_debug:\t>>>>>>GET IGVFDS6903BNOU From DACC with URL https://api.data.igvf.org/IGVFDS6903BNOU/?format=json\n",
      "2025-07-29 15:31:33,633:iu_debug:\t>>>>>>GET measurement-sets/IGVFDS4560LMBT From DACC with URL https://api.data.igvf.org/measurement-sets/IGVFDS4560LMBT/?format=json\n",
      "1\n",
      "2025-07-29 15:31:33,872:iu_debug:\t>>>>>>GET IGVFDS6940FBBA From DACC with URL https://api.data.igvf.org/IGVFDS6940FBBA/?format=json\n",
      "2025-07-29 15:31:34,178:iu_debug:\t>>>>>>GET measurement-sets/IGVFDS0875ANWX From DACC with URL https://api.data.igvf.org/measurement-sets/IGVFDS0875ANWX/?format=json\n",
      "1\n",
      "2025-07-29 15:31:34,424:iu_debug:\t>>>>>>GET IGVFDS7068IKZV From DACC with URL https://api.data.igvf.org/IGVFDS7068IKZV/?format=json\n",
      "2025-07-29 15:31:34,730:iu_debug:\t>>>>>>GET measurement-sets/IGVFDS0193IKYP From DACC with URL https://api.data.igvf.org/measurement-sets/IGVFDS0193IKYP/?format=json\n",
      "1\n",
      "2025-07-29 15:31:34,966:iu_debug:\t>>>>>>GET IGVFDS7103CWBB From DACC with URL https://api.data.igvf.org/IGVFDS7103CWBB/?format=json\n",
      "2025-07-29 15:31:35,264:iu_debug:\t>>>>>>GET measurement-sets/IGVFDS5516XBYP From DACC with URL https://api.data.igvf.org/measurement-sets/IGVFDS5516XBYP/?format=json\n",
      "1\n",
      "2025-07-29 15:31:35,504:iu_debug:\t>>>>>>GET IGVFDS7281JOQQ From DACC with URL https://api.data.igvf.org/IGVFDS7281JOQQ/?format=json\n",
      "2025-07-29 15:31:35,782:iu_debug:\t>>>>>>GET measurement-sets/IGVFDS2384YMIN From DACC with URL https://api.data.igvf.org/measurement-sets/IGVFDS2384YMIN/?format=json\n",
      "1\n",
      "2025-07-29 15:31:36,000:iu_debug:\t>>>>>>GET IGVFDS7291FCWS From DACC with URL https://api.data.igvf.org/IGVFDS7291FCWS/?format=json\n",
      "2025-07-29 15:31:36,298:iu_debug:\t>>>>>>GET measurement-sets/IGVFDS2538CIPJ From DACC with URL https://api.data.igvf.org/measurement-sets/IGVFDS2538CIPJ/?format=json\n",
      "1\n",
      "2025-07-29 15:31:36,546:iu_debug:\t>>>>>>GET IGVFDS7367VNJB From DACC with URL https://api.data.igvf.org/IGVFDS7367VNJB/?format=json\n",
      "2025-07-29 15:31:36,852:iu_debug:\t>>>>>>GET measurement-sets/IGVFDS8210SMYP From DACC with URL https://api.data.igvf.org/measurement-sets/IGVFDS8210SMYP/?format=json\n",
      "1\n",
      "2025-07-29 15:31:37,097:iu_debug:\t>>>>>>GET IGVFDS7473DETS From DACC with URL https://api.data.igvf.org/IGVFDS7473DETS/?format=json\n",
      "2025-07-29 15:31:37,409:iu_debug:\t>>>>>>GET measurement-sets/IGVFDS0268QDMA From DACC with URL https://api.data.igvf.org/measurement-sets/IGVFDS0268QDMA/?format=json\n",
      "1\n",
      "2025-07-29 15:31:37,694:iu_debug:\t>>>>>>GET IGVFDS7501OKAU From DACC with URL https://api.data.igvf.org/IGVFDS7501OKAU/?format=json\n",
      "2025-07-29 15:31:37,993:iu_debug:\t>>>>>>GET measurement-sets/IGVFDS9726WUJT From DACC with URL https://api.data.igvf.org/measurement-sets/IGVFDS9726WUJT/?format=json\n",
      "1\n",
      "2025-07-29 15:31:38,251:iu_debug:\t>>>>>>GET IGVFDS7503EWHE From DACC with URL https://api.data.igvf.org/IGVFDS7503EWHE/?format=json\n",
      "2025-07-29 15:31:38,562:iu_debug:\t>>>>>>GET measurement-sets/IGVFDS7741MBJG From DACC with URL https://api.data.igvf.org/measurement-sets/IGVFDS7741MBJG/?format=json\n",
      "1\n",
      "2025-07-29 15:31:38,800:iu_debug:\t>>>>>>GET IGVFDS7630TUZK From DACC with URL https://api.data.igvf.org/IGVFDS7630TUZK/?format=json\n",
      "2025-07-29 15:31:39,108:iu_debug:\t>>>>>>GET measurement-sets/IGVFDS2892HFWJ From DACC with URL https://api.data.igvf.org/measurement-sets/IGVFDS2892HFWJ/?format=json\n",
      "1\n",
      "2025-07-29 15:31:39,350:iu_debug:\t>>>>>>GET IGVFDS7801SQDV From DACC with URL https://api.data.igvf.org/IGVFDS7801SQDV/?format=json\n",
      "2025-07-29 15:31:39,645:iu_debug:\t>>>>>>GET measurement-sets/IGVFDS4176ROKL From DACC with URL https://api.data.igvf.org/measurement-sets/IGVFDS4176ROKL/?format=json\n",
      "1\n",
      "2025-07-29 15:31:39,895:iu_debug:\t>>>>>>GET IGVFDS7823GIXJ From DACC with URL https://api.data.igvf.org/IGVFDS7823GIXJ/?format=json\n",
      "2025-07-29 15:31:40,190:iu_debug:\t>>>>>>GET measurement-sets/IGVFDS1552RFWJ From DACC with URL https://api.data.igvf.org/measurement-sets/IGVFDS1552RFWJ/?format=json\n",
      "1\n",
      "2025-07-29 15:31:40,439:iu_debug:\t>>>>>>GET IGVFDS7825RMTO From DACC with URL https://api.data.igvf.org/IGVFDS7825RMTO/?format=json\n",
      "2025-07-29 15:31:40,738:iu_debug:\t>>>>>>GET measurement-sets/IGVFDS9574LPGV From DACC with URL https://api.data.igvf.org/measurement-sets/IGVFDS9574LPGV/?format=json\n",
      "1\n",
      "2025-07-29 15:31:40,953:iu_debug:\t>>>>>>GET IGVFDS7945CDSC From DACC with URL https://api.data.igvf.org/IGVFDS7945CDSC/?format=json\n",
      "2025-07-29 15:31:41,248:iu_debug:\t>>>>>>GET measurement-sets/IGVFDS4482RXDU From DACC with URL https://api.data.igvf.org/measurement-sets/IGVFDS4482RXDU/?format=json\n",
      "1\n",
      "2025-07-29 15:31:41,489:iu_debug:\t>>>>>>GET IGVFDS8005VWPV From DACC with URL https://api.data.igvf.org/IGVFDS8005VWPV/?format=json\n",
      "2025-07-29 15:31:41,781:iu_debug:\t>>>>>>GET measurement-sets/IGVFDS0405OVKV From DACC with URL https://api.data.igvf.org/measurement-sets/IGVFDS0405OVKV/?format=json\n",
      "1\n",
      "2025-07-29 15:31:42,018:iu_debug:\t>>>>>>GET IGVFDS8033EBJN From DACC with URL https://api.data.igvf.org/IGVFDS8033EBJN/?format=json\n",
      "2025-07-29 15:31:42,327:iu_debug:\t>>>>>>GET measurement-sets/IGVFDS8161SJZG From DACC with URL https://api.data.igvf.org/measurement-sets/IGVFDS8161SJZG/?format=json\n",
      "1\n",
      "2025-07-29 15:31:42,574:iu_debug:\t>>>>>>GET IGVFDS8227XSNM From DACC with URL https://api.data.igvf.org/IGVFDS8227XSNM/?format=json\n",
      "2025-07-29 15:31:42,870:iu_debug:\t>>>>>>GET measurement-sets/IGVFDS2004SFUP From DACC with URL https://api.data.igvf.org/measurement-sets/IGVFDS2004SFUP/?format=json\n",
      "1\n",
      "2025-07-29 15:31:43,104:iu_debug:\t>>>>>>GET IGVFDS8437PYVA From DACC with URL https://api.data.igvf.org/IGVFDS8437PYVA/?format=json\n",
      "2025-07-29 15:31:43,412:iu_debug:\t>>>>>>GET measurement-sets/IGVFDS2440HTGY From DACC with URL https://api.data.igvf.org/measurement-sets/IGVFDS2440HTGY/?format=json\n",
      "1\n",
      "2025-07-29 15:31:43,651:iu_debug:\t>>>>>>GET IGVFDS8447ZORE From DACC with URL https://api.data.igvf.org/IGVFDS8447ZORE/?format=json\n",
      "2025-07-29 15:31:43,931:iu_debug:\t>>>>>>GET measurement-sets/IGVFDS4993AQUF From DACC with URL https://api.data.igvf.org/measurement-sets/IGVFDS4993AQUF/?format=json\n",
      "1\n",
      "2025-07-29 15:31:44,170:iu_debug:\t>>>>>>GET IGVFDS8666FYQO From DACC with URL https://api.data.igvf.org/IGVFDS8666FYQO/?format=json\n",
      "2025-07-29 15:31:44,479:iu_debug:\t>>>>>>GET measurement-sets/IGVFDS1046EOFR From DACC with URL https://api.data.igvf.org/measurement-sets/IGVFDS1046EOFR/?format=json\n",
      "1\n",
      "2025-07-29 15:31:44,703:iu_debug:\t>>>>>>GET IGVFDS8771MHXZ From DACC with URL https://api.data.igvf.org/IGVFDS8771MHXZ/?format=json\n",
      "2025-07-29 15:31:45,016:iu_debug:\t>>>>>>GET measurement-sets/IGVFDS3112LPSJ From DACC with URL https://api.data.igvf.org/measurement-sets/IGVFDS3112LPSJ/?format=json\n",
      "1\n",
      "2025-07-29 15:31:45,278:iu_debug:\t>>>>>>GET IGVFDS8927LHNJ From DACC with URL https://api.data.igvf.org/IGVFDS8927LHNJ/?format=json\n",
      "2025-07-29 15:31:45,584:iu_debug:\t>>>>>>GET measurement-sets/IGVFDS8310XEDQ From DACC with URL https://api.data.igvf.org/measurement-sets/IGVFDS8310XEDQ/?format=json\n",
      "1\n",
      "2025-07-29 15:31:45,840:iu_debug:\t>>>>>>GET IGVFDS8979BQNS From DACC with URL https://api.data.igvf.org/IGVFDS8979BQNS/?format=json\n",
      "2025-07-29 15:31:46,152:iu_debug:\t>>>>>>GET measurement-sets/IGVFDS5934LTVM From DACC with URL https://api.data.igvf.org/measurement-sets/IGVFDS5934LTVM/?format=json\n",
      "1\n",
      "2025-07-29 15:31:46,385:iu_debug:\t>>>>>>GET IGVFDS9079JSDX From DACC with URL https://api.data.igvf.org/IGVFDS9079JSDX/?format=json\n",
      "2025-07-29 15:31:46,691:iu_debug:\t>>>>>>GET measurement-sets/IGVFDS1851VUFY From DACC with URL https://api.data.igvf.org/measurement-sets/IGVFDS1851VUFY/?format=json\n",
      "1\n",
      "2025-07-29 15:31:46,949:iu_debug:\t>>>>>>GET IGVFDS9105ITZQ From DACC with URL https://api.data.igvf.org/IGVFDS9105ITZQ/?format=json\n",
      "2025-07-29 15:31:47,255:iu_debug:\t>>>>>>GET measurement-sets/IGVFDS5589QOQD From DACC with URL https://api.data.igvf.org/measurement-sets/IGVFDS5589QOQD/?format=json\n",
      "1\n",
      "2025-07-29 15:31:47,486:iu_debug:\t>>>>>>GET IGVFDS9415BFYQ From DACC with URL https://api.data.igvf.org/IGVFDS9415BFYQ/?format=json\n",
      "2025-07-29 15:31:47,808:iu_debug:\t>>>>>>GET measurement-sets/IGVFDS4015XFCR From DACC with URL https://api.data.igvf.org/measurement-sets/IGVFDS4015XFCR/?format=json\n",
      "1\n",
      "2025-07-29 15:31:48,067:iu_debug:\t>>>>>>GET IGVFDS9496XMCD From DACC with URL https://api.data.igvf.org/IGVFDS9496XMCD/?format=json\n",
      "2025-07-29 15:31:48,352:iu_debug:\t>>>>>>GET measurement-sets/IGVFDS9017UCPQ From DACC with URL https://api.data.igvf.org/measurement-sets/IGVFDS9017UCPQ/?format=json\n",
      "1\n",
      "2025-07-29 15:31:48,597:iu_debug:\t>>>>>>GET IGVFDS9594PRVT From DACC with URL https://api.data.igvf.org/IGVFDS9594PRVT/?format=json\n",
      "2025-07-29 15:31:48,896:iu_debug:\t>>>>>>GET measurement-sets/IGVFDS7019WXPW From DACC with URL https://api.data.igvf.org/measurement-sets/IGVFDS7019WXPW/?format=json\n",
      "1\n",
      "2025-07-29 15:31:49,139:iu_debug:\t>>>>>>GET IGVFDS9676OZNK From DACC with URL https://api.data.igvf.org/IGVFDS9676OZNK/?format=json\n",
      "2025-07-29 15:31:49,458:iu_debug:\t>>>>>>GET measurement-sets/IGVFDS8809QSOP From DACC with URL https://api.data.igvf.org/measurement-sets/IGVFDS8809QSOP/?format=json\n",
      "1\n",
      "2025-07-29 15:31:49,709:iu_debug:\t>>>>>>GET IGVFDS9695MSTW From DACC with URL https://api.data.igvf.org/IGVFDS9695MSTW/?format=json\n",
      "2025-07-29 15:31:50,026:iu_debug:\t>>>>>>GET measurement-sets/IGVFDS2599SXCL From DACC with URL https://api.data.igvf.org/measurement-sets/IGVFDS2599SXCL/?format=json\n",
      "1\n",
      "2025-07-29 15:31:50,268:iu_debug:\t>>>>>>GET IGVFDS9737JYIO From DACC with URL https://api.data.igvf.org/IGVFDS9737JYIO/?format=json\n",
      "2025-07-29 15:31:50,576:iu_debug:\t>>>>>>GET measurement-sets/IGVFDS4031BSGU From DACC with URL https://api.data.igvf.org/measurement-sets/IGVFDS4031BSGU/?format=json\n",
      "1\n",
      "2025-07-29 15:31:50,813:iu_debug:\t>>>>>>GET IGVFDS9747BPCD From DACC with URL https://api.data.igvf.org/IGVFDS9747BPCD/?format=json\n",
      "2025-07-29 15:31:51,112:iu_debug:\t>>>>>>GET measurement-sets/IGVFDS7533FCII From DACC with URL https://api.data.igvf.org/measurement-sets/IGVFDS7533FCII/?format=json\n",
      "1\n",
      "2025-07-29 15:31:51,350:iu_debug:\t>>>>>>GET IGVFDS9768FZGX From DACC with URL https://api.data.igvf.org/IGVFDS9768FZGX/?format=json\n",
      "2025-07-29 15:31:51,655:iu_debug:\t>>>>>>GET measurement-sets/IGVFDS8596SFBH From DACC with URL https://api.data.igvf.org/measurement-sets/IGVFDS8596SFBH/?format=json\n",
      "1\n",
      "2025-07-29 15:31:51,910:iu_debug:\t>>>>>>GET IGVFDS9792BZOX From DACC with URL https://api.data.igvf.org/IGVFDS9792BZOX/?format=json\n",
      "2025-07-29 15:31:52,212:iu_debug:\t>>>>>>GET measurement-sets/IGVFDS6826OTBD From DACC with URL https://api.data.igvf.org/measurement-sets/IGVFDS6826OTBD/?format=json\n",
      "1\n",
      "2025-07-29 15:31:52,462:iu_debug:\t>>>>>>GET IGVFDS9960ARLE From DACC with URL https://api.data.igvf.org/IGVFDS9960ARLE/?format=json\n",
      "2025-07-29 15:31:52,777:iu_debug:\t>>>>>>GET measurement-sets/IGVFDS0783WGAL From DACC with URL https://api.data.igvf.org/measurement-sets/IGVFDS0783WGAL/?format=json\n",
      "1\n",
      "2025-07-29 15:31:53,018:iu_debug:\t>>>>>>GET IGVFDS0100KIYW From DACC with URL https://api.data.igvf.org/IGVFDS0100KIYW/?format=json\n",
      "2025-07-29 15:31:53,327:iu_debug:\t>>>>>>GET measurement-sets/IGVFDS2149HIIR From DACC with URL https://api.data.igvf.org/measurement-sets/IGVFDS2149HIIR/?format=json\n",
      "1\n",
      "2025-07-29 15:31:53,550:iu_debug:\t>>>>>>GET IGVFDS0263BLJH From DACC with URL https://api.data.igvf.org/IGVFDS0263BLJH/?format=json\n",
      "2025-07-29 15:31:53,850:iu_debug:\t>>>>>>GET measurement-sets/IGVFDS3197IYRX From DACC with URL https://api.data.igvf.org/measurement-sets/IGVFDS3197IYRX/?format=json\n",
      "1\n",
      "2025-07-29 15:31:54,072:iu_debug:\t>>>>>>GET IGVFDS0326YVLV From DACC with URL https://api.data.igvf.org/IGVFDS0326YVLV/?format=json\n",
      "2025-07-29 15:31:54,381:iu_debug:\t>>>>>>GET measurement-sets/IGVFDS5154WDTB From DACC with URL https://api.data.igvf.org/measurement-sets/IGVFDS5154WDTB/?format=json\n",
      "1\n",
      "2025-07-29 15:31:54,635:iu_debug:\t>>>>>>GET IGVFDS0332CIIS From DACC with URL https://api.data.igvf.org/IGVFDS0332CIIS/?format=json\n",
      "2025-07-29 15:31:54,936:iu_debug:\t>>>>>>GET measurement-sets/IGVFDS5945KNGS From DACC with URL https://api.data.igvf.org/measurement-sets/IGVFDS5945KNGS/?format=json\n",
      "1\n",
      "2025-07-29 15:31:55,183:iu_debug:\t>>>>>>GET IGVFDS0475DQEX From DACC with URL https://api.data.igvf.org/IGVFDS0475DQEX/?format=json\n",
      "2025-07-29 15:31:55,479:iu_debug:\t>>>>>>GET measurement-sets/IGVFDS7414NIIE From DACC with URL https://api.data.igvf.org/measurement-sets/IGVFDS7414NIIE/?format=json\n",
      "1\n",
      "2025-07-29 15:31:55,713:iu_debug:\t>>>>>>GET IGVFDS0481OXQQ From DACC with URL https://api.data.igvf.org/IGVFDS0481OXQQ/?format=json\n",
      "2025-07-29 15:31:56,015:iu_debug:\t>>>>>>GET measurement-sets/IGVFDS1343ONXH From DACC with URL https://api.data.igvf.org/measurement-sets/IGVFDS1343ONXH/?format=json\n",
      "1\n",
      "2025-07-29 15:31:56,235:iu_debug:\t>>>>>>GET IGVFDS0484YBET From DACC with URL https://api.data.igvf.org/IGVFDS0484YBET/?format=json\n",
      "2025-07-29 15:31:56,535:iu_debug:\t>>>>>>GET measurement-sets/IGVFDS4508BRUT From DACC with URL https://api.data.igvf.org/measurement-sets/IGVFDS4508BRUT/?format=json\n",
      "1\n",
      "2025-07-29 15:31:56,782:iu_debug:\t>>>>>>GET IGVFDS0491ASMT From DACC with URL https://api.data.igvf.org/IGVFDS0491ASMT/?format=json\n",
      "2025-07-29 15:31:57,091:iu_debug:\t>>>>>>GET measurement-sets/IGVFDS3627DNBN From DACC with URL https://api.data.igvf.org/measurement-sets/IGVFDS3627DNBN/?format=json\n",
      "1\n",
      "2025-07-29 15:31:57,327:iu_debug:\t>>>>>>GET IGVFDS0559GWPO From DACC with URL https://api.data.igvf.org/IGVFDS0559GWPO/?format=json\n",
      "2025-07-29 15:31:57,630:iu_debug:\t>>>>>>GET measurement-sets/IGVFDS5928VFUA From DACC with URL https://api.data.igvf.org/measurement-sets/IGVFDS5928VFUA/?format=json\n",
      "1\n",
      "2025-07-29 15:31:57,898:iu_debug:\t>>>>>>GET IGVFDS0565FRYI From DACC with URL https://api.data.igvf.org/IGVFDS0565FRYI/?format=json\n",
      "2025-07-29 15:31:58,211:iu_debug:\t>>>>>>GET measurement-sets/IGVFDS2968WNNB From DACC with URL https://api.data.igvf.org/measurement-sets/IGVFDS2968WNNB/?format=json\n",
      "1\n",
      "2025-07-29 15:31:58,456:iu_debug:\t>>>>>>GET IGVFDS0587FBPK From DACC with URL https://api.data.igvf.org/IGVFDS0587FBPK/?format=json\n",
      "2025-07-29 15:31:58,762:iu_debug:\t>>>>>>GET measurement-sets/IGVFDS4152ZCGO From DACC with URL https://api.data.igvf.org/measurement-sets/IGVFDS4152ZCGO/?format=json\n",
      "1\n",
      "2025-07-29 15:31:58,996:iu_debug:\t>>>>>>GET IGVFDS0676TCTL From DACC with URL https://api.data.igvf.org/IGVFDS0676TCTL/?format=json\n",
      "2025-07-29 15:31:59,296:iu_debug:\t>>>>>>GET measurement-sets/IGVFDS0782CKWU From DACC with URL https://api.data.igvf.org/measurement-sets/IGVFDS0782CKWU/?format=json\n",
      "1\n",
      "2025-07-29 15:31:59,531:iu_debug:\t>>>>>>GET IGVFDS0761IRXK From DACC with URL https://api.data.igvf.org/IGVFDS0761IRXK/?format=json\n",
      "2025-07-29 15:31:59,826:iu_debug:\t>>>>>>GET measurement-sets/IGVFDS3769NPFS From DACC with URL https://api.data.igvf.org/measurement-sets/IGVFDS3769NPFS/?format=json\n",
      "1\n",
      "2025-07-29 15:32:00,079:iu_debug:\t>>>>>>GET IGVFDS0778HUZK From DACC with URL https://api.data.igvf.org/IGVFDS0778HUZK/?format=json\n",
      "2025-07-29 15:32:00,365:iu_debug:\t>>>>>>GET measurement-sets/IGVFDS5248FZWM From DACC with URL https://api.data.igvf.org/measurement-sets/IGVFDS5248FZWM/?format=json\n",
      "1\n",
      "2025-07-29 15:32:00,606:iu_debug:\t>>>>>>GET IGVFDS0872GUUK From DACC with URL https://api.data.igvf.org/IGVFDS0872GUUK/?format=json\n",
      "2025-07-29 15:32:00,892:iu_debug:\t>>>>>>GET measurement-sets/IGVFDS5526BSXF From DACC with URL https://api.data.igvf.org/measurement-sets/IGVFDS5526BSXF/?format=json\n",
      "1\n",
      "2025-07-29 15:32:01,145:iu_debug:\t>>>>>>GET IGVFDS0964OIGJ From DACC with URL https://api.data.igvf.org/IGVFDS0964OIGJ/?format=json\n",
      "2025-07-29 15:32:01,458:iu_debug:\t>>>>>>GET measurement-sets/IGVFDS5344RDCH From DACC with URL https://api.data.igvf.org/measurement-sets/IGVFDS5344RDCH/?format=json\n",
      "1\n",
      "2025-07-29 15:32:01,685:iu_debug:\t>>>>>>GET IGVFDS1090HOZH From DACC with URL https://api.data.igvf.org/IGVFDS1090HOZH/?format=json\n",
      "2025-07-29 15:32:01,987:iu_debug:\t>>>>>>GET measurement-sets/IGVFDS6696DBUQ From DACC with URL https://api.data.igvf.org/measurement-sets/IGVFDS6696DBUQ/?format=json\n",
      "1\n",
      "2025-07-29 15:32:02,217:iu_debug:\t>>>>>>GET IGVFDS1114GOHH From DACC with URL https://api.data.igvf.org/IGVFDS1114GOHH/?format=json\n",
      "2025-07-29 15:32:02,517:iu_debug:\t>>>>>>GET measurement-sets/IGVFDS8285NLDN From DACC with URL https://api.data.igvf.org/measurement-sets/IGVFDS8285NLDN/?format=json\n",
      "1\n",
      "2025-07-29 15:32:02,753:iu_debug:\t>>>>>>GET IGVFDS1133HWVM From DACC with URL https://api.data.igvf.org/IGVFDS1133HWVM/?format=json\n",
      "2025-07-29 15:32:03,070:iu_debug:\t>>>>>>GET measurement-sets/IGVFDS0252AMTC From DACC with URL https://api.data.igvf.org/measurement-sets/IGVFDS0252AMTC/?format=json\n",
      "1\n",
      "2025-07-29 15:32:03,302:iu_debug:\t>>>>>>GET IGVFDS1144GQCH From DACC with URL https://api.data.igvf.org/IGVFDS1144GQCH/?format=json\n",
      "2025-07-29 15:32:03,601:iu_debug:\t>>>>>>GET measurement-sets/IGVFDS1259PJDI From DACC with URL https://api.data.igvf.org/measurement-sets/IGVFDS1259PJDI/?format=json\n",
      "1\n",
      "2025-07-29 15:32:03,845:iu_debug:\t>>>>>>GET IGVFDS1271JBMB From DACC with URL https://api.data.igvf.org/IGVFDS1271JBMB/?format=json\n",
      "2025-07-29 15:32:04,145:iu_debug:\t>>>>>>GET measurement-sets/IGVFDS7341ANFG From DACC with URL https://api.data.igvf.org/measurement-sets/IGVFDS7341ANFG/?format=json\n",
      "1\n",
      "2025-07-29 15:32:04,389:iu_debug:\t>>>>>>GET IGVFDS1311NQKR From DACC with URL https://api.data.igvf.org/IGVFDS1311NQKR/?format=json\n",
      "2025-07-29 15:32:04,696:iu_debug:\t>>>>>>GET measurement-sets/IGVFDS7591YSJJ From DACC with URL https://api.data.igvf.org/measurement-sets/IGVFDS7591YSJJ/?format=json\n",
      "1\n",
      "2025-07-29 15:32:04,929:iu_debug:\t>>>>>>GET IGVFDS1333CJLG From DACC with URL https://api.data.igvf.org/IGVFDS1333CJLG/?format=json\n",
      "2025-07-29 15:32:05,220:iu_debug:\t>>>>>>GET measurement-sets/IGVFDS1479KDWW From DACC with URL https://api.data.igvf.org/measurement-sets/IGVFDS1479KDWW/?format=json\n",
      "1\n",
      "2025-07-29 15:32:05,453:iu_debug:\t>>>>>>GET IGVFDS1693SGGL From DACC with URL https://api.data.igvf.org/IGVFDS1693SGGL/?format=json\n",
      "2025-07-29 15:32:05,746:iu_debug:\t>>>>>>GET measurement-sets/IGVFDS5083IKFA From DACC with URL https://api.data.igvf.org/measurement-sets/IGVFDS5083IKFA/?format=json\n",
      "1\n",
      "2025-07-29 15:32:05,999:iu_debug:\t>>>>>>GET IGVFDS1744HWYB From DACC with URL https://api.data.igvf.org/IGVFDS1744HWYB/?format=json\n",
      "2025-07-29 15:32:06,333:iu_debug:\t>>>>>>GET measurement-sets/IGVFDS0233ACTQ From DACC with URL https://api.data.igvf.org/measurement-sets/IGVFDS0233ACTQ/?format=json\n",
      "1\n",
      "2025-07-29 15:32:06,566:iu_debug:\t>>>>>>GET IGVFDS1806EMXH From DACC with URL https://api.data.igvf.org/IGVFDS1806EMXH/?format=json\n",
      "2025-07-29 15:32:06,858:iu_debug:\t>>>>>>GET measurement-sets/IGVFDS9604WYAS From DACC with URL https://api.data.igvf.org/measurement-sets/IGVFDS9604WYAS/?format=json\n",
      "1\n",
      "2025-07-29 15:32:07,089:iu_debug:\t>>>>>>GET IGVFDS2123OPDD From DACC with URL https://api.data.igvf.org/IGVFDS2123OPDD/?format=json\n",
      "2025-07-29 15:32:07,460:iu_debug:\t>>>>>>GET measurement-sets/IGVFDS6032GHBV From DACC with URL https://api.data.igvf.org/measurement-sets/IGVFDS6032GHBV/?format=json\n",
      "1\n",
      "2025-07-29 15:32:07,701:iu_debug:\t>>>>>>GET IGVFDS2239VAZL From DACC with URL https://api.data.igvf.org/IGVFDS2239VAZL/?format=json\n",
      "2025-07-29 15:32:08,004:iu_debug:\t>>>>>>GET measurement-sets/IGVFDS9037EWLC From DACC with URL https://api.data.igvf.org/measurement-sets/IGVFDS9037EWLC/?format=json\n",
      "1\n",
      "2025-07-29 15:32:08,249:iu_debug:\t>>>>>>GET IGVFDS2242LXOK From DACC with URL https://api.data.igvf.org/IGVFDS2242LXOK/?format=json\n",
      "2025-07-29 15:32:08,553:iu_debug:\t>>>>>>GET measurement-sets/IGVFDS0949PGIZ From DACC with URL https://api.data.igvf.org/measurement-sets/IGVFDS0949PGIZ/?format=json\n",
      "1\n",
      "2025-07-29 15:32:08,784:iu_debug:\t>>>>>>GET IGVFDS2423YCWF From DACC with URL https://api.data.igvf.org/IGVFDS2423YCWF/?format=json\n",
      "2025-07-29 15:32:09,085:iu_debug:\t>>>>>>GET measurement-sets/IGVFDS9262AGAM From DACC with URL https://api.data.igvf.org/measurement-sets/IGVFDS9262AGAM/?format=json\n",
      "1\n",
      "2025-07-29 15:32:09,319:iu_debug:\t>>>>>>GET IGVFDS2471FVAA From DACC with URL https://api.data.igvf.org/IGVFDS2471FVAA/?format=json\n",
      "2025-07-29 15:32:09,610:iu_debug:\t>>>>>>GET measurement-sets/IGVFDS8053MXAX From DACC with URL https://api.data.igvf.org/measurement-sets/IGVFDS8053MXAX/?format=json\n",
      "1\n",
      "2025-07-29 15:32:09,840:iu_debug:\t>>>>>>GET IGVFDS2535RUWX From DACC with URL https://api.data.igvf.org/IGVFDS2535RUWX/?format=json\n",
      "2025-07-29 15:32:10,146:iu_debug:\t>>>>>>GET measurement-sets/IGVFDS9237YADU From DACC with URL https://api.data.igvf.org/measurement-sets/IGVFDS9237YADU/?format=json\n",
      "1\n",
      "2025-07-29 15:32:10,395:iu_debug:\t>>>>>>GET IGVFDS2660ZTYA From DACC with URL https://api.data.igvf.org/IGVFDS2660ZTYA/?format=json\n",
      "2025-07-29 15:32:10,695:iu_debug:\t>>>>>>GET measurement-sets/IGVFDS2050YLLS From DACC with URL https://api.data.igvf.org/measurement-sets/IGVFDS2050YLLS/?format=json\n",
      "1\n",
      "2025-07-29 15:32:10,937:iu_debug:\t>>>>>>GET IGVFDS2709JVMN From DACC with URL https://api.data.igvf.org/IGVFDS2709JVMN/?format=json\n",
      "2025-07-29 15:32:11,248:iu_debug:\t>>>>>>GET measurement-sets/IGVFDS3302IJPN From DACC with URL https://api.data.igvf.org/measurement-sets/IGVFDS3302IJPN/?format=json\n",
      "1\n",
      "2025-07-29 15:32:11,488:iu_debug:\t>>>>>>GET IGVFDS3047IQMP From DACC with URL https://api.data.igvf.org/IGVFDS3047IQMP/?format=json\n",
      "2025-07-29 15:32:11,784:iu_debug:\t>>>>>>GET measurement-sets/IGVFDS3062SSNR From DACC with URL https://api.data.igvf.org/measurement-sets/IGVFDS3062SSNR/?format=json\n",
      "1\n",
      "2025-07-29 15:32:12,072:iu_debug:\t>>>>>>GET IGVFDS3082MYIR From DACC with URL https://api.data.igvf.org/IGVFDS3082MYIR/?format=json\n",
      "2025-07-29 15:32:12,371:iu_debug:\t>>>>>>GET measurement-sets/IGVFDS4441MRAI From DACC with URL https://api.data.igvf.org/measurement-sets/IGVFDS4441MRAI/?format=json\n",
      "1\n",
      "2025-07-29 15:32:12,619:iu_debug:\t>>>>>>GET IGVFDS3135XWPT From DACC with URL https://api.data.igvf.org/IGVFDS3135XWPT/?format=json\n",
      "2025-07-29 15:32:12,937:iu_debug:\t>>>>>>GET measurement-sets/IGVFDS5508MKSB From DACC with URL https://api.data.igvf.org/measurement-sets/IGVFDS5508MKSB/?format=json\n",
      "1\n",
      "2025-07-29 15:32:13,184:iu_debug:\t>>>>>>GET IGVFDS3149FLCN From DACC with URL https://api.data.igvf.org/IGVFDS3149FLCN/?format=json\n",
      "2025-07-29 15:32:13,490:iu_debug:\t>>>>>>GET measurement-sets/IGVFDS0281EQNL From DACC with URL https://api.data.igvf.org/measurement-sets/IGVFDS0281EQNL/?format=json\n",
      "1\n",
      "2025-07-29 15:32:13,747:iu_debug:\t>>>>>>GET IGVFDS3282UGOJ From DACC with URL https://api.data.igvf.org/IGVFDS3282UGOJ/?format=json\n",
      "2025-07-29 15:32:14,057:iu_debug:\t>>>>>>GET measurement-sets/IGVFDS9250WHDS From DACC with URL https://api.data.igvf.org/measurement-sets/IGVFDS9250WHDS/?format=json\n",
      "1\n",
      "2025-07-29 15:32:14,307:iu_debug:\t>>>>>>GET IGVFDS3360FWNV From DACC with URL https://api.data.igvf.org/IGVFDS3360FWNV/?format=json\n",
      "2025-07-29 15:32:14,609:iu_debug:\t>>>>>>GET measurement-sets/IGVFDS2013EJJF From DACC with URL https://api.data.igvf.org/measurement-sets/IGVFDS2013EJJF/?format=json\n",
      "1\n",
      "2025-07-29 15:32:14,856:iu_debug:\t>>>>>>GET IGVFDS3470YVMZ From DACC with URL https://api.data.igvf.org/IGVFDS3470YVMZ/?format=json\n",
      "2025-07-29 15:32:15,152:iu_debug:\t>>>>>>GET measurement-sets/IGVFDS7194VFZH From DACC with URL https://api.data.igvf.org/measurement-sets/IGVFDS7194VFZH/?format=json\n",
      "1\n",
      "2025-07-29 15:32:15,400:iu_debug:\t>>>>>>GET IGVFDS3612WOJG From DACC with URL https://api.data.igvf.org/IGVFDS3612WOJG/?format=json\n",
      "2025-07-29 15:32:15,701:iu_debug:\t>>>>>>GET measurement-sets/IGVFDS8876VREK From DACC with URL https://api.data.igvf.org/measurement-sets/IGVFDS8876VREK/?format=json\n",
      "1\n",
      "2025-07-29 15:32:15,941:iu_debug:\t>>>>>>GET IGVFDS3617IMPS From DACC with URL https://api.data.igvf.org/IGVFDS3617IMPS/?format=json\n",
      "2025-07-29 15:32:16,247:iu_debug:\t>>>>>>GET measurement-sets/IGVFDS3824HSJL From DACC with URL https://api.data.igvf.org/measurement-sets/IGVFDS3824HSJL/?format=json\n",
      "1\n",
      "2025-07-29 15:32:16,497:iu_debug:\t>>>>>>GET IGVFDS3719XFHW From DACC with URL https://api.data.igvf.org/IGVFDS3719XFHW/?format=json\n",
      "2025-07-29 15:32:16,799:iu_debug:\t>>>>>>GET measurement-sets/IGVFDS3773WBYF From DACC with URL https://api.data.igvf.org/measurement-sets/IGVFDS3773WBYF/?format=json\n",
      "1\n",
      "2025-07-29 15:32:17,036:iu_debug:\t>>>>>>GET IGVFDS3754HJPJ From DACC with URL https://api.data.igvf.org/IGVFDS3754HJPJ/?format=json\n",
      "2025-07-29 15:32:17,337:iu_debug:\t>>>>>>GET measurement-sets/IGVFDS7803QDNU From DACC with URL https://api.data.igvf.org/measurement-sets/IGVFDS7803QDNU/?format=json\n",
      "1\n",
      "2025-07-29 15:32:17,571:iu_debug:\t>>>>>>GET IGVFDS3815RQOS From DACC with URL https://api.data.igvf.org/IGVFDS3815RQOS/?format=json\n",
      "2025-07-29 15:32:17,858:iu_debug:\t>>>>>>GET measurement-sets/IGVFDS2137KTWT From DACC with URL https://api.data.igvf.org/measurement-sets/IGVFDS2137KTWT/?format=json\n",
      "1\n",
      "2025-07-29 15:32:18,094:iu_debug:\t>>>>>>GET IGVFDS3824UCUX From DACC with URL https://api.data.igvf.org/IGVFDS3824UCUX/?format=json\n",
      "2025-07-29 15:32:18,390:iu_debug:\t>>>>>>GET measurement-sets/IGVFDS3954CPHQ From DACC with URL https://api.data.igvf.org/measurement-sets/IGVFDS3954CPHQ/?format=json\n",
      "1\n",
      "2025-07-29 15:32:18,659:iu_debug:\t>>>>>>GET IGVFDS3891BRTD From DACC with URL https://api.data.igvf.org/IGVFDS3891BRTD/?format=json\n",
      "2025-07-29 15:32:18,970:iu_debug:\t>>>>>>GET measurement-sets/IGVFDS5018VAVN From DACC with URL https://api.data.igvf.org/measurement-sets/IGVFDS5018VAVN/?format=json\n",
      "1\n",
      "2025-07-29 15:32:19,209:iu_debug:\t>>>>>>GET IGVFDS3910ARPT From DACC with URL https://api.data.igvf.org/IGVFDS3910ARPT/?format=json\n",
      "2025-07-29 15:32:19,507:iu_debug:\t>>>>>>GET measurement-sets/IGVFDS9053EVYT From DACC with URL https://api.data.igvf.org/measurement-sets/IGVFDS9053EVYT/?format=json\n",
      "1\n",
      "2025-07-29 15:32:19,758:iu_debug:\t>>>>>>GET IGVFDS4003DYSZ From DACC with URL https://api.data.igvf.org/IGVFDS4003DYSZ/?format=json\n",
      "2025-07-29 15:32:20,069:iu_debug:\t>>>>>>GET measurement-sets/IGVFDS4728USDP From DACC with URL https://api.data.igvf.org/measurement-sets/IGVFDS4728USDP/?format=json\n",
      "1\n",
      "2025-07-29 15:32:20,324:iu_debug:\t>>>>>>GET IGVFDS4063DOZH From DACC with URL https://api.data.igvf.org/IGVFDS4063DOZH/?format=json\n",
      "2025-07-29 15:32:20,624:iu_debug:\t>>>>>>GET measurement-sets/IGVFDS0271YBMK From DACC with URL https://api.data.igvf.org/measurement-sets/IGVFDS0271YBMK/?format=json\n",
      "1\n",
      "2025-07-29 15:32:20,859:iu_debug:\t>>>>>>GET IGVFDS4093RTAR From DACC with URL https://api.data.igvf.org/IGVFDS4093RTAR/?format=json\n",
      "2025-07-29 15:32:21,165:iu_debug:\t>>>>>>GET measurement-sets/IGVFDS5312TPOO From DACC with URL https://api.data.igvf.org/measurement-sets/IGVFDS5312TPOO/?format=json\n",
      "1\n",
      "2025-07-29 15:32:21,397:iu_debug:\t>>>>>>GET IGVFDS4169YGRR From DACC with URL https://api.data.igvf.org/IGVFDS4169YGRR/?format=json\n",
      "2025-07-29 15:32:21,716:iu_debug:\t>>>>>>GET measurement-sets/IGVFDS1361AQNK From DACC with URL https://api.data.igvf.org/measurement-sets/IGVFDS1361AQNK/?format=json\n",
      "1\n",
      "2025-07-29 15:32:21,966:iu_debug:\t>>>>>>GET IGVFDS4188NWRI From DACC with URL https://api.data.igvf.org/IGVFDS4188NWRI/?format=json\n",
      "2025-07-29 15:32:22,267:iu_debug:\t>>>>>>GET measurement-sets/IGVFDS7946ZZQM From DACC with URL https://api.data.igvf.org/measurement-sets/IGVFDS7946ZZQM/?format=json\n",
      "1\n",
      "2025-07-29 15:32:22,499:iu_debug:\t>>>>>>GET IGVFDS4207OPRQ From DACC with URL https://api.data.igvf.org/IGVFDS4207OPRQ/?format=json\n",
      "2025-07-29 15:32:22,789:iu_debug:\t>>>>>>GET measurement-sets/IGVFDS7131ORBV From DACC with URL https://api.data.igvf.org/measurement-sets/IGVFDS7131ORBV/?format=json\n",
      "1\n",
      "2025-07-29 15:32:23,030:iu_debug:\t>>>>>>GET IGVFDS4253NXKV From DACC with URL https://api.data.igvf.org/IGVFDS4253NXKV/?format=json\n",
      "2025-07-29 15:32:23,327:iu_debug:\t>>>>>>GET measurement-sets/IGVFDS4903BJTB From DACC with URL https://api.data.igvf.org/measurement-sets/IGVFDS4903BJTB/?format=json\n",
      "1\n",
      "2025-07-29 15:32:23,555:iu_debug:\t>>>>>>GET IGVFDS4351ICWM From DACC with URL https://api.data.igvf.org/IGVFDS4351ICWM/?format=json\n",
      "2025-07-29 15:32:23,872:iu_debug:\t>>>>>>GET measurement-sets/IGVFDS4486ZXMQ From DACC with URL https://api.data.igvf.org/measurement-sets/IGVFDS4486ZXMQ/?format=json\n",
      "1\n",
      "2025-07-29 15:32:24,133:iu_debug:\t>>>>>>GET IGVFDS4384ZQZF From DACC with URL https://api.data.igvf.org/IGVFDS4384ZQZF/?format=json\n",
      "2025-07-29 15:32:24,428:iu_debug:\t>>>>>>GET measurement-sets/IGVFDS3360MMYI From DACC with URL https://api.data.igvf.org/measurement-sets/IGVFDS3360MMYI/?format=json\n",
      "1\n",
      "2025-07-29 15:32:24,663:iu_debug:\t>>>>>>GET IGVFDS4405OHPI From DACC with URL https://api.data.igvf.org/IGVFDS4405OHPI/?format=json\n",
      "2025-07-29 15:32:24,963:iu_debug:\t>>>>>>GET measurement-sets/IGVFDS5485UMJV From DACC with URL https://api.data.igvf.org/measurement-sets/IGVFDS5485UMJV/?format=json\n",
      "1\n",
      "2025-07-29 15:32:25,203:iu_debug:\t>>>>>>GET IGVFDS4416AVVU From DACC with URL https://api.data.igvf.org/IGVFDS4416AVVU/?format=json\n",
      "2025-07-29 15:32:25,488:iu_debug:\t>>>>>>GET measurement-sets/IGVFDS7747QPWM From DACC with URL https://api.data.igvf.org/measurement-sets/IGVFDS7747QPWM/?format=json\n",
      "1\n",
      "2025-07-29 15:32:25,714:iu_debug:\t>>>>>>GET IGVFDS4640AREY From DACC with URL https://api.data.igvf.org/IGVFDS4640AREY/?format=json\n",
      "2025-07-29 15:32:26,005:iu_debug:\t>>>>>>GET measurement-sets/IGVFDS9299ECTO From DACC with URL https://api.data.igvf.org/measurement-sets/IGVFDS9299ECTO/?format=json\n",
      "1\n",
      "2025-07-29 15:32:26,257:iu_debug:\t>>>>>>GET IGVFDS4685FUOB From DACC with URL https://api.data.igvf.org/IGVFDS4685FUOB/?format=json\n",
      "2025-07-29 15:32:26,574:iu_debug:\t>>>>>>GET measurement-sets/IGVFDS5060SOQF From DACC with URL https://api.data.igvf.org/measurement-sets/IGVFDS5060SOQF/?format=json\n",
      "1\n",
      "2025-07-29 15:32:26,806:iu_debug:\t>>>>>>GET IGVFDS4707OOPB From DACC with URL https://api.data.igvf.org/IGVFDS4707OOPB/?format=json\n",
      "2025-07-29 15:32:27,104:iu_debug:\t>>>>>>GET measurement-sets/IGVFDS8498DATA From DACC with URL https://api.data.igvf.org/measurement-sets/IGVFDS8498DATA/?format=json\n",
      "1\n",
      "2025-07-29 15:32:27,337:iu_debug:\t>>>>>>GET IGVFDS4944RZLV From DACC with URL https://api.data.igvf.org/IGVFDS4944RZLV/?format=json\n",
      "2025-07-29 15:32:27,635:iu_debug:\t>>>>>>GET measurement-sets/IGVFDS9195QXWU From DACC with URL https://api.data.igvf.org/measurement-sets/IGVFDS9195QXWU/?format=json\n",
      "1\n",
      "2025-07-29 15:32:27,912:iu_debug:\t>>>>>>GET IGVFDS4953PQBJ From DACC with URL https://api.data.igvf.org/IGVFDS4953PQBJ/?format=json\n",
      "2025-07-29 15:32:28,218:iu_debug:\t>>>>>>GET measurement-sets/IGVFDS7245AVOQ From DACC with URL https://api.data.igvf.org/measurement-sets/IGVFDS7245AVOQ/?format=json\n",
      "1\n",
      "2025-07-29 15:32:28,454:iu_debug:\t>>>>>>GET IGVFDS5020WOGK From DACC with URL https://api.data.igvf.org/IGVFDS5020WOGK/?format=json\n",
      "2025-07-29 15:32:28,745:iu_debug:\t>>>>>>GET measurement-sets/IGVFDS1217YUTU From DACC with URL https://api.data.igvf.org/measurement-sets/IGVFDS1217YUTU/?format=json\n",
      "1\n",
      "2025-07-29 15:32:28,964:iu_debug:\t>>>>>>GET IGVFDS5118FANT From DACC with URL https://api.data.igvf.org/IGVFDS5118FANT/?format=json\n",
      "2025-07-29 15:32:29,264:iu_debug:\t>>>>>>GET measurement-sets/IGVFDS1488TNBT From DACC with URL https://api.data.igvf.org/measurement-sets/IGVFDS1488TNBT/?format=json\n",
      "1\n",
      "2025-07-29 15:32:29,506:iu_debug:\t>>>>>>GET IGVFDS5135YEHO From DACC with URL https://api.data.igvf.org/IGVFDS5135YEHO/?format=json\n",
      "2025-07-29 15:32:29,799:iu_debug:\t>>>>>>GET measurement-sets/IGVFDS9933WTOA From DACC with URL https://api.data.igvf.org/measurement-sets/IGVFDS9933WTOA/?format=json\n",
      "1\n",
      "2025-07-29 15:32:30,043:iu_debug:\t>>>>>>GET IGVFDS5190ONHX From DACC with URL https://api.data.igvf.org/IGVFDS5190ONHX/?format=json\n",
      "2025-07-29 15:32:30,348:iu_debug:\t>>>>>>GET measurement-sets/IGVFDS4710BXCX From DACC with URL https://api.data.igvf.org/measurement-sets/IGVFDS4710BXCX/?format=json\n",
      "1\n",
      "2025-07-29 15:32:30,581:iu_debug:\t>>>>>>GET IGVFDS5310CYGB From DACC with URL https://api.data.igvf.org/IGVFDS5310CYGB/?format=json\n",
      "2025-07-29 15:32:30,874:iu_debug:\t>>>>>>GET measurement-sets/IGVFDS8355CNFL From DACC with URL https://api.data.igvf.org/measurement-sets/IGVFDS8355CNFL/?format=json\n",
      "1\n",
      "2025-07-29 15:32:31,147:iu_debug:\t>>>>>>GET IGVFDS5554VUTY From DACC with URL https://api.data.igvf.org/IGVFDS5554VUTY/?format=json\n",
      "2025-07-29 15:32:31,430:iu_debug:\t>>>>>>GET measurement-sets/IGVFDS3770FZRD From DACC with URL https://api.data.igvf.org/measurement-sets/IGVFDS3770FZRD/?format=json\n",
      "1\n",
      "2025-07-29 15:32:31,681:iu_debug:\t>>>>>>GET IGVFDS5570TMUM From DACC with URL https://api.data.igvf.org/IGVFDS5570TMUM/?format=json\n",
      "2025-07-29 15:32:31,975:iu_debug:\t>>>>>>GET measurement-sets/IGVFDS5048MXBT From DACC with URL https://api.data.igvf.org/measurement-sets/IGVFDS5048MXBT/?format=json\n",
      "1\n",
      "2025-07-29 15:32:32,212:iu_debug:\t>>>>>>GET IGVFDS5699SCIC From DACC with URL https://api.data.igvf.org/IGVFDS5699SCIC/?format=json\n",
      "2025-07-29 15:32:32,514:iu_debug:\t>>>>>>GET measurement-sets/IGVFDS3441ARIK From DACC with URL https://api.data.igvf.org/measurement-sets/IGVFDS3441ARIK/?format=json\n",
      "1\n",
      "2025-07-29 15:32:32,748:iu_debug:\t>>>>>>GET IGVFDS5713TBFR From DACC with URL https://api.data.igvf.org/IGVFDS5713TBFR/?format=json\n",
      "2025-07-29 15:32:33,048:iu_debug:\t>>>>>>GET measurement-sets/IGVFDS3410UZAU From DACC with URL https://api.data.igvf.org/measurement-sets/IGVFDS3410UZAU/?format=json\n",
      "1\n",
      "2025-07-29 15:32:33,314:iu_debug:\t>>>>>>GET IGVFDS5779SYGY From DACC with URL https://api.data.igvf.org/IGVFDS5779SYGY/?format=json\n",
      "2025-07-29 15:32:33,608:iu_debug:\t>>>>>>GET measurement-sets/IGVFDS1582CIRJ From DACC with URL https://api.data.igvf.org/measurement-sets/IGVFDS1582CIRJ/?format=json\n",
      "1\n",
      "2025-07-29 15:32:33,883:iu_debug:\t>>>>>>GET IGVFDS5901DZIH From DACC with URL https://api.data.igvf.org/IGVFDS5901DZIH/?format=json\n",
      "2025-07-29 15:32:34,178:iu_debug:\t>>>>>>GET measurement-sets/IGVFDS0029NLXQ From DACC with URL https://api.data.igvf.org/measurement-sets/IGVFDS0029NLXQ/?format=json\n",
      "1\n",
      "2025-07-29 15:32:34,426:iu_debug:\t>>>>>>GET IGVFDS5977ATJW From DACC with URL https://api.data.igvf.org/IGVFDS5977ATJW/?format=json\n",
      "2025-07-29 15:32:34,720:iu_debug:\t>>>>>>GET measurement-sets/IGVFDS8898OKFL From DACC with URL https://api.data.igvf.org/measurement-sets/IGVFDS8898OKFL/?format=json\n",
      "1\n",
      "2025-07-29 15:32:34,950:iu_debug:\t>>>>>>GET IGVFDS6268SZVD From DACC with URL https://api.data.igvf.org/IGVFDS6268SZVD/?format=json\n",
      "2025-07-29 15:32:35,249:iu_debug:\t>>>>>>GET measurement-sets/IGVFDS3815NOTJ From DACC with URL https://api.data.igvf.org/measurement-sets/IGVFDS3815NOTJ/?format=json\n",
      "1\n",
      "2025-07-29 15:32:35,474:iu_debug:\t>>>>>>GET IGVFDS6328BDBQ From DACC with URL https://api.data.igvf.org/IGVFDS6328BDBQ/?format=json\n",
      "2025-07-29 15:32:35,770:iu_debug:\t>>>>>>GET measurement-sets/IGVFDS9127QFKJ From DACC with URL https://api.data.igvf.org/measurement-sets/IGVFDS9127QFKJ/?format=json\n",
      "1\n",
      "2025-07-29 15:32:36,019:iu_debug:\t>>>>>>GET IGVFDS6369JSNR From DACC with URL https://api.data.igvf.org/IGVFDS6369JSNR/?format=json\n",
      "2025-07-29 15:32:36,318:iu_debug:\t>>>>>>GET measurement-sets/IGVFDS9104YDGN From DACC with URL https://api.data.igvf.org/measurement-sets/IGVFDS9104YDGN/?format=json\n",
      "1\n",
      "2025-07-29 15:32:36,571:iu_debug:\t>>>>>>GET IGVFDS6456BXBE From DACC with URL https://api.data.igvf.org/IGVFDS6456BXBE/?format=json\n",
      "2025-07-29 15:32:36,871:iu_debug:\t>>>>>>GET measurement-sets/IGVFDS8370IKOP From DACC with URL https://api.data.igvf.org/measurement-sets/IGVFDS8370IKOP/?format=json\n",
      "1\n",
      "2025-07-29 15:32:37,105:iu_debug:\t>>>>>>GET IGVFDS6460XCVW From DACC with URL https://api.data.igvf.org/IGVFDS6460XCVW/?format=json\n",
      "2025-07-29 15:32:37,393:iu_debug:\t>>>>>>GET measurement-sets/IGVFDS4455OJUD From DACC with URL https://api.data.igvf.org/measurement-sets/IGVFDS4455OJUD/?format=json\n",
      "1\n",
      "2025-07-29 15:32:37,650:iu_debug:\t>>>>>>GET IGVFDS6834PWIG From DACC with URL https://api.data.igvf.org/IGVFDS6834PWIG/?format=json\n",
      "2025-07-29 15:32:37,947:iu_debug:\t>>>>>>GET measurement-sets/IGVFDS9274YNXM From DACC with URL https://api.data.igvf.org/measurement-sets/IGVFDS9274YNXM/?format=json\n",
      "1\n",
      "2025-07-29 15:32:38,196:iu_debug:\t>>>>>>GET IGVFDS6879LGJL From DACC with URL https://api.data.igvf.org/IGVFDS6879LGJL/?format=json\n",
      "2025-07-29 15:32:38,499:iu_debug:\t>>>>>>GET measurement-sets/IGVFDS1610FILF From DACC with URL https://api.data.igvf.org/measurement-sets/IGVFDS1610FILF/?format=json\n",
      "1\n",
      "2025-07-29 15:32:38,731:iu_debug:\t>>>>>>GET IGVFDS7003SAPU From DACC with URL https://api.data.igvf.org/IGVFDS7003SAPU/?format=json\n",
      "2025-07-29 15:32:39,021:iu_debug:\t>>>>>>GET measurement-sets/IGVFDS6074ATHK From DACC with URL https://api.data.igvf.org/measurement-sets/IGVFDS6074ATHK/?format=json\n",
      "1\n",
      "2025-07-29 15:32:39,265:iu_debug:\t>>>>>>GET IGVFDS7142WDVS From DACC with URL https://api.data.igvf.org/IGVFDS7142WDVS/?format=json\n",
      "2025-07-29 15:32:39,563:iu_debug:\t>>>>>>GET measurement-sets/IGVFDS2324XWZC From DACC with URL https://api.data.igvf.org/measurement-sets/IGVFDS2324XWZC/?format=json\n",
      "1\n",
      "2025-07-29 15:32:39,790:iu_debug:\t>>>>>>GET IGVFDS7280UCCX From DACC with URL https://api.data.igvf.org/IGVFDS7280UCCX/?format=json\n",
      "2025-07-29 15:32:40,096:iu_debug:\t>>>>>>GET measurement-sets/IGVFDS2544TPLY From DACC with URL https://api.data.igvf.org/measurement-sets/IGVFDS2544TPLY/?format=json\n",
      "1\n",
      "2025-07-29 15:32:40,335:iu_debug:\t>>>>>>GET IGVFDS7303VUTX From DACC with URL https://api.data.igvf.org/IGVFDS7303VUTX/?format=json\n",
      "2025-07-29 15:32:40,629:iu_debug:\t>>>>>>GET measurement-sets/IGVFDS9176CSYH From DACC with URL https://api.data.igvf.org/measurement-sets/IGVFDS9176CSYH/?format=json\n",
      "1\n",
      "2025-07-29 15:32:40,854:iu_debug:\t>>>>>>GET IGVFDS7339QTVZ From DACC with URL https://api.data.igvf.org/IGVFDS7339QTVZ/?format=json\n",
      "2025-07-29 15:32:41,150:iu_debug:\t>>>>>>GET measurement-sets/IGVFDS3335XDEJ From DACC with URL https://api.data.igvf.org/measurement-sets/IGVFDS3335XDEJ/?format=json\n",
      "1\n",
      "2025-07-29 15:32:41,377:iu_debug:\t>>>>>>GET IGVFDS7399LXTA From DACC with URL https://api.data.igvf.org/IGVFDS7399LXTA/?format=json\n",
      "2025-07-29 15:32:41,661:iu_debug:\t>>>>>>GET measurement-sets/IGVFDS3033TLDI From DACC with URL https://api.data.igvf.org/measurement-sets/IGVFDS3033TLDI/?format=json\n",
      "1\n",
      "2025-07-29 15:32:41,906:iu_debug:\t>>>>>>GET IGVFDS7593JYXL From DACC with URL https://api.data.igvf.org/IGVFDS7593JYXL/?format=json\n",
      "2025-07-29 15:32:42,194:iu_debug:\t>>>>>>GET measurement-sets/IGVFDS5666SBHJ From DACC with URL https://api.data.igvf.org/measurement-sets/IGVFDS5666SBHJ/?format=json\n",
      "1\n",
      "2025-07-29 15:32:42,454:iu_debug:\t>>>>>>GET IGVFDS7596EPIH From DACC with URL https://api.data.igvf.org/IGVFDS7596EPIH/?format=json\n",
      "2025-07-29 15:32:42,753:iu_debug:\t>>>>>>GET measurement-sets/IGVFDS4750WTUO From DACC with URL https://api.data.igvf.org/measurement-sets/IGVFDS4750WTUO/?format=json\n",
      "1\n",
      "2025-07-29 15:32:43,002:iu_debug:\t>>>>>>GET IGVFDS7642VPOF From DACC with URL https://api.data.igvf.org/IGVFDS7642VPOF/?format=json\n",
      "2025-07-29 15:32:43,293:iu_debug:\t>>>>>>GET measurement-sets/IGVFDS4871AZEE From DACC with URL https://api.data.igvf.org/measurement-sets/IGVFDS4871AZEE/?format=json\n",
      "1\n",
      "2025-07-29 15:32:43,508:iu_debug:\t>>>>>>GET IGVFDS7788YDYL From DACC with URL https://api.data.igvf.org/IGVFDS7788YDYL/?format=json\n",
      "2025-07-29 15:32:43,800:iu_debug:\t>>>>>>GET measurement-sets/IGVFDS3853LMYB From DACC with URL https://api.data.igvf.org/measurement-sets/IGVFDS3853LMYB/?format=json\n",
      "1\n",
      "2025-07-29 15:32:44,033:iu_debug:\t>>>>>>GET IGVFDS7883SHWH From DACC with URL https://api.data.igvf.org/IGVFDS7883SHWH/?format=json\n",
      "2025-07-29 15:32:44,339:iu_debug:\t>>>>>>GET measurement-sets/IGVFDS8743JWNN From DACC with URL https://api.data.igvf.org/measurement-sets/IGVFDS8743JWNN/?format=json\n",
      "1\n",
      "2025-07-29 15:32:44,587:iu_debug:\t>>>>>>GET IGVFDS8034ZRGU From DACC with URL https://api.data.igvf.org/IGVFDS8034ZRGU/?format=json\n",
      "2025-07-29 15:32:44,877:iu_debug:\t>>>>>>GET measurement-sets/IGVFDS7069LMNK From DACC with URL https://api.data.igvf.org/measurement-sets/IGVFDS7069LMNK/?format=json\n",
      "1\n",
      "2025-07-29 15:32:45,144:iu_debug:\t>>>>>>GET IGVFDS8074OZGR From DACC with URL https://api.data.igvf.org/IGVFDS8074OZGR/?format=json\n",
      "2025-07-29 15:32:45,454:iu_debug:\t>>>>>>GET measurement-sets/IGVFDS2344MNLQ From DACC with URL https://api.data.igvf.org/measurement-sets/IGVFDS2344MNLQ/?format=json\n",
      "1\n",
      "2025-07-29 15:32:45,721:iu_debug:\t>>>>>>GET IGVFDS8207AYTX From DACC with URL https://api.data.igvf.org/IGVFDS8207AYTX/?format=json\n",
      "2025-07-29 15:32:46,014:iu_debug:\t>>>>>>GET measurement-sets/IGVFDS1256HYOG From DACC with URL https://api.data.igvf.org/measurement-sets/IGVFDS1256HYOG/?format=json\n",
      "1\n",
      "2025-07-29 15:32:46,264:iu_debug:\t>>>>>>GET IGVFDS8266MMQF From DACC with URL https://api.data.igvf.org/IGVFDS8266MMQF/?format=json\n",
      "2025-07-29 15:32:46,685:iu_debug:\t>>>>>>GET measurement-sets/IGVFDS3522HGSO From DACC with URL https://api.data.igvf.org/measurement-sets/IGVFDS3522HGSO/?format=json\n",
      "1\n",
      "2025-07-29 15:32:46,902:iu_debug:\t>>>>>>GET IGVFDS8383CVNW From DACC with URL https://api.data.igvf.org/IGVFDS8383CVNW/?format=json\n",
      "2025-07-29 15:32:47,202:iu_debug:\t>>>>>>GET measurement-sets/IGVFDS7599MRSE From DACC with URL https://api.data.igvf.org/measurement-sets/IGVFDS7599MRSE/?format=json\n",
      "1\n",
      "2025-07-29 15:32:47,446:iu_debug:\t>>>>>>GET IGVFDS8480XTJN From DACC with URL https://api.data.igvf.org/IGVFDS8480XTJN/?format=json\n",
      "2025-07-29 15:32:47,746:iu_debug:\t>>>>>>GET measurement-sets/IGVFDS6177ZMUI From DACC with URL https://api.data.igvf.org/measurement-sets/IGVFDS6177ZMUI/?format=json\n",
      "1\n",
      "2025-07-29 15:32:48,002:iu_debug:\t>>>>>>GET IGVFDS8581DAIM From DACC with URL https://api.data.igvf.org/IGVFDS8581DAIM/?format=json\n",
      "2025-07-29 15:32:48,290:iu_debug:\t>>>>>>GET measurement-sets/IGVFDS6678WBPY From DACC with URL https://api.data.igvf.org/measurement-sets/IGVFDS6678WBPY/?format=json\n",
      "1\n",
      "2025-07-29 15:32:48,548:iu_debug:\t>>>>>>GET IGVFDS8630VOPU From DACC with URL https://api.data.igvf.org/IGVFDS8630VOPU/?format=json\n",
      "2025-07-29 15:32:48,845:iu_debug:\t>>>>>>GET measurement-sets/IGVFDS7429JFQO From DACC with URL https://api.data.igvf.org/measurement-sets/IGVFDS7429JFQO/?format=json\n",
      "1\n",
      "2025-07-29 15:32:49,069:iu_debug:\t>>>>>>GET IGVFDS8639MDJL From DACC with URL https://api.data.igvf.org/IGVFDS8639MDJL/?format=json\n",
      "2025-07-29 15:32:49,356:iu_debug:\t>>>>>>GET measurement-sets/IGVFDS3329WTDB From DACC with URL https://api.data.igvf.org/measurement-sets/IGVFDS3329WTDB/?format=json\n",
      "1\n",
      "2025-07-29 15:32:49,597:iu_debug:\t>>>>>>GET IGVFDS8640JHXM From DACC with URL https://api.data.igvf.org/IGVFDS8640JHXM/?format=json\n",
      "2025-07-29 15:32:49,886:iu_debug:\t>>>>>>GET measurement-sets/IGVFDS5884HLUD From DACC with URL https://api.data.igvf.org/measurement-sets/IGVFDS5884HLUD/?format=json\n",
      "1\n",
      "2025-07-29 15:32:50,136:iu_debug:\t>>>>>>GET IGVFDS8754HSNA From DACC with URL https://api.data.igvf.org/IGVFDS8754HSNA/?format=json\n",
      "2025-07-29 15:32:50,429:iu_debug:\t>>>>>>GET measurement-sets/IGVFDS6307KLUT From DACC with URL https://api.data.igvf.org/measurement-sets/IGVFDS6307KLUT/?format=json\n",
      "1\n",
      "2025-07-29 15:32:50,659:iu_debug:\t>>>>>>GET IGVFDS8785ZEUF From DACC with URL https://api.data.igvf.org/IGVFDS8785ZEUF/?format=json\n",
      "2025-07-29 15:32:50,952:iu_debug:\t>>>>>>GET measurement-sets/IGVFDS9854NDEC From DACC with URL https://api.data.igvf.org/measurement-sets/IGVFDS9854NDEC/?format=json\n",
      "1\n",
      "2025-07-29 15:32:51,213:iu_debug:\t>>>>>>GET IGVFDS8840BRZC From DACC with URL https://api.data.igvf.org/IGVFDS8840BRZC/?format=json\n",
      "2025-07-29 15:32:51,505:iu_debug:\t>>>>>>GET measurement-sets/IGVFDS2160DUPW From DACC with URL https://api.data.igvf.org/measurement-sets/IGVFDS2160DUPW/?format=json\n",
      "1\n",
      "2025-07-29 15:32:51,741:iu_debug:\t>>>>>>GET IGVFDS8997FOYM From DACC with URL https://api.data.igvf.org/IGVFDS8997FOYM/?format=json\n",
      "2025-07-29 15:32:52,037:iu_debug:\t>>>>>>GET measurement-sets/IGVFDS8991PGUZ From DACC with URL https://api.data.igvf.org/measurement-sets/IGVFDS8991PGUZ/?format=json\n",
      "1\n",
      "2025-07-29 15:32:52,272:iu_debug:\t>>>>>>GET IGVFDS9002QRQX From DACC with URL https://api.data.igvf.org/IGVFDS9002QRQX/?format=json\n",
      "2025-07-29 15:32:52,574:iu_debug:\t>>>>>>GET measurement-sets/IGVFDS1691PTVJ From DACC with URL https://api.data.igvf.org/measurement-sets/IGVFDS1691PTVJ/?format=json\n",
      "1\n",
      "2025-07-29 15:32:52,800:iu_debug:\t>>>>>>GET IGVFDS9168MJEQ From DACC with URL https://api.data.igvf.org/IGVFDS9168MJEQ/?format=json\n",
      "2025-07-29 15:32:53,104:iu_debug:\t>>>>>>GET measurement-sets/IGVFDS5670FXLI From DACC with URL https://api.data.igvf.org/measurement-sets/IGVFDS5670FXLI/?format=json\n",
      "1\n",
      "2025-07-29 15:32:53,346:iu_debug:\t>>>>>>GET IGVFDS9242ILVR From DACC with URL https://api.data.igvf.org/IGVFDS9242ILVR/?format=json\n",
      "2025-07-29 15:32:53,650:iu_debug:\t>>>>>>GET measurement-sets/IGVFDS2248OMLL From DACC with URL https://api.data.igvf.org/measurement-sets/IGVFDS2248OMLL/?format=json\n",
      "1\n",
      "2025-07-29 15:32:53,908:iu_debug:\t>>>>>>GET IGVFDS9351GSSI From DACC with URL https://api.data.igvf.org/IGVFDS9351GSSI/?format=json\n",
      "2025-07-29 15:32:54,204:iu_debug:\t>>>>>>GET measurement-sets/IGVFDS7715LIYV From DACC with URL https://api.data.igvf.org/measurement-sets/IGVFDS7715LIYV/?format=json\n",
      "1\n",
      "2025-07-29 15:32:54,438:iu_debug:\t>>>>>>GET IGVFDS9494ZRGF From DACC with URL https://api.data.igvf.org/IGVFDS9494ZRGF/?format=json\n",
      "2025-07-29 15:32:54,731:iu_debug:\t>>>>>>GET measurement-sets/IGVFDS1619JIAZ From DACC with URL https://api.data.igvf.org/measurement-sets/IGVFDS1619JIAZ/?format=json\n",
      "1\n",
      "2025-07-29 15:32:54,969:iu_debug:\t>>>>>>GET IGVFDS9562KEKB From DACC with URL https://api.data.igvf.org/IGVFDS9562KEKB/?format=json\n",
      "2025-07-29 15:32:55,268:iu_debug:\t>>>>>>GET measurement-sets/IGVFDS7941CCTU From DACC with URL https://api.data.igvf.org/measurement-sets/IGVFDS7941CCTU/?format=json\n",
      "1\n",
      "2025-07-29 15:32:55,501:iu_debug:\t>>>>>>GET IGVFDS9703HIZD From DACC with URL https://api.data.igvf.org/IGVFDS9703HIZD/?format=json\n",
      "2025-07-29 15:32:55,804:iu_debug:\t>>>>>>GET measurement-sets/IGVFDS2759VXXI From DACC with URL https://api.data.igvf.org/measurement-sets/IGVFDS2759VXXI/?format=json\n",
      "1\n",
      "2025-07-29 15:32:56,052:iu_debug:\t>>>>>>GET IGVFDS9765KDIY From DACC with URL https://api.data.igvf.org/IGVFDS9765KDIY/?format=json\n",
      "2025-07-29 15:32:56,352:iu_debug:\t>>>>>>GET measurement-sets/IGVFDS7741XHLW From DACC with URL https://api.data.igvf.org/measurement-sets/IGVFDS7741XHLW/?format=json\n",
      "1\n",
      "2025-07-29 15:32:56,613:iu_debug:\t>>>>>>GET IGVFDS9928TOFD From DACC with URL https://api.data.igvf.org/IGVFDS9928TOFD/?format=json\n",
      "2025-07-29 15:32:56,925:iu_debug:\t>>>>>>GET measurement-sets/IGVFDS9273IYEC From DACC with URL https://api.data.igvf.org/measurement-sets/IGVFDS9273IYEC/?format=json\n",
      "1\n",
      "2025-07-29 15:32:57,171:iu_debug:\t>>>>>>GET IGVFDS9957GKKJ From DACC with URL https://api.data.igvf.org/IGVFDS9957GKKJ/?format=json\n",
      "2025-07-29 15:32:57,475:iu_debug:\t>>>>>>GET measurement-sets/IGVFDS4748FKTG From DACC with URL https://api.data.igvf.org/measurement-sets/IGVFDS4748FKTG/?format=json\n",
      "1\n",
      "2025-07-29 15:32:57,721:iu_debug:\t>>>>>>GET IGVFDS0033XMGC From DACC with URL https://api.data.igvf.org/IGVFDS0033XMGC/?format=json\n",
      "2025-07-29 15:32:58,026:iu_debug:\t>>>>>>GET measurement-sets/IGVFDS6366OVBK From DACC with URL https://api.data.igvf.org/measurement-sets/IGVFDS6366OVBK/?format=json\n",
      "1\n",
      "2025-07-29 15:32:58,270:iu_debug:\t>>>>>>GET IGVFDS0489CJLH From DACC with URL https://api.data.igvf.org/IGVFDS0489CJLH/?format=json\n",
      "2025-07-29 15:32:58,578:iu_debug:\t>>>>>>GET measurement-sets/IGVFDS6541ZSSL From DACC with URL https://api.data.igvf.org/measurement-sets/IGVFDS6541ZSSL/?format=json\n",
      "1\n",
      "2025-07-29 15:32:58,840:iu_debug:\t>>>>>>GET IGVFDS1162SKEO From DACC with URL https://api.data.igvf.org/IGVFDS1162SKEO/?format=json\n",
      "2025-07-29 15:32:59,131:iu_debug:\t>>>>>>GET measurement-sets/IGVFDS2542HOJK From DACC with URL https://api.data.igvf.org/measurement-sets/IGVFDS2542HOJK/?format=json\n",
      "1\n",
      "2025-07-29 15:32:59,392:iu_debug:\t>>>>>>GET IGVFDS1646OTFZ From DACC with URL https://api.data.igvf.org/IGVFDS1646OTFZ/?format=json\n",
      "2025-07-29 15:32:59,671:iu_debug:\t>>>>>>GET measurement-sets/IGVFDS1863PKHG From DACC with URL https://api.data.igvf.org/measurement-sets/IGVFDS1863PKHG/?format=json\n",
      "1\n",
      "2025-07-29 15:32:59,889:iu_debug:\t>>>>>>GET IGVFDS2272ZVQM From DACC with URL https://api.data.igvf.org/IGVFDS2272ZVQM/?format=json\n",
      "2025-07-29 15:33:00,229:iu_debug:\t>>>>>>GET measurement-sets/IGVFDS1245OVCA From DACC with URL https://api.data.igvf.org/measurement-sets/IGVFDS1245OVCA/?format=json\n",
      "1\n",
      "2025-07-29 15:33:00,459:iu_debug:\t>>>>>>GET IGVFDS2426VHES From DACC with URL https://api.data.igvf.org/IGVFDS2426VHES/?format=json\n",
      "2025-07-29 15:33:00,758:iu_debug:\t>>>>>>GET measurement-sets/IGVFDS9182EBVZ From DACC with URL https://api.data.igvf.org/measurement-sets/IGVFDS9182EBVZ/?format=json\n",
      "1\n",
      "2025-07-29 15:33:00,998:iu_debug:\t>>>>>>GET IGVFDS2597TDDA From DACC with URL https://api.data.igvf.org/IGVFDS2597TDDA/?format=json\n",
      "2025-07-29 15:33:01,279:iu_debug:\t>>>>>>GET measurement-sets/IGVFDS1481OFSB From DACC with URL https://api.data.igvf.org/measurement-sets/IGVFDS1481OFSB/?format=json\n",
      "1\n",
      "2025-07-29 15:33:01,491:iu_debug:\t>>>>>>GET IGVFDS3028OZYO From DACC with URL https://api.data.igvf.org/IGVFDS3028OZYO/?format=json\n",
      "2025-07-29 15:33:01,850:iu_debug:\t>>>>>>GET measurement-sets/IGVFDS8821WGCN From DACC with URL https://api.data.igvf.org/measurement-sets/IGVFDS8821WGCN/?format=json\n",
      "1\n",
      "2025-07-29 15:33:02,106:iu_debug:\t>>>>>>GET IGVFDS4967YFTU From DACC with URL https://api.data.igvf.org/IGVFDS4967YFTU/?format=json\n",
      "2025-07-29 15:33:02,420:iu_debug:\t>>>>>>GET measurement-sets/IGVFDS4793UCCO From DACC with URL https://api.data.igvf.org/measurement-sets/IGVFDS4793UCCO/?format=json\n",
      "1\n",
      "2025-07-29 15:33:02,678:iu_debug:\t>>>>>>GET IGVFDS5313OKRB From DACC with URL https://api.data.igvf.org/IGVFDS5313OKRB/?format=json\n",
      "2025-07-29 15:33:02,980:iu_debug:\t>>>>>>GET measurement-sets/IGVFDS1262POQE From DACC with URL https://api.data.igvf.org/measurement-sets/IGVFDS1262POQE/?format=json\n",
      "1\n",
      "2025-07-29 15:33:03,212:iu_debug:\t>>>>>>GET IGVFDS5932HNYI From DACC with URL https://api.data.igvf.org/IGVFDS5932HNYI/?format=json\n",
      "2025-07-29 15:33:03,500:iu_debug:\t>>>>>>GET measurement-sets/IGVFDS1500XYJA From DACC with URL https://api.data.igvf.org/measurement-sets/IGVFDS1500XYJA/?format=json\n",
      "1\n",
      "2025-07-29 15:33:03,737:iu_debug:\t>>>>>>GET IGVFDS5943ZMWP From DACC with URL https://api.data.igvf.org/IGVFDS5943ZMWP/?format=json\n",
      "2025-07-29 15:33:04,026:iu_debug:\t>>>>>>GET measurement-sets/IGVFDS0002EUAT From DACC with URL https://api.data.igvf.org/measurement-sets/IGVFDS0002EUAT/?format=json\n",
      "1\n",
      "2025-07-29 15:33:04,241:iu_debug:\t>>>>>>GET IGVFDS6044ZXHX From DACC with URL https://api.data.igvf.org/IGVFDS6044ZXHX/?format=json\n",
      "2025-07-29 15:33:04,546:iu_debug:\t>>>>>>GET measurement-sets/IGVFDS0997XJOY From DACC with URL https://api.data.igvf.org/measurement-sets/IGVFDS0997XJOY/?format=json\n",
      "1\n",
      "2025-07-29 15:33:04,785:iu_debug:\t>>>>>>GET IGVFDS6304SRFM From DACC with URL https://api.data.igvf.org/IGVFDS6304SRFM/?format=json\n",
      "2025-07-29 15:33:05,095:iu_debug:\t>>>>>>GET measurement-sets/IGVFDS2977KMRV From DACC with URL https://api.data.igvf.org/measurement-sets/IGVFDS2977KMRV/?format=json\n",
      "1\n",
      "2025-07-29 15:33:05,338:iu_debug:\t>>>>>>GET IGVFDS6676SVBG From DACC with URL https://api.data.igvf.org/IGVFDS6676SVBG/?format=json\n",
      "2025-07-29 15:33:05,625:iu_debug:\t>>>>>>GET measurement-sets/IGVFDS8381SGFM From DACC with URL https://api.data.igvf.org/measurement-sets/IGVFDS8381SGFM/?format=json\n",
      "1\n",
      "2025-07-29 15:33:05,842:iu_debug:\t>>>>>>GET IGVFDS6863LUZS From DACC with URL https://api.data.igvf.org/IGVFDS6863LUZS/?format=json\n",
      "2025-07-29 15:33:06,127:iu_debug:\t>>>>>>GET measurement-sets/IGVFDS4633VNVI From DACC with URL https://api.data.igvf.org/measurement-sets/IGVFDS4633VNVI/?format=json\n",
      "1\n",
      "2025-07-29 15:33:06,340:iu_debug:\t>>>>>>GET IGVFDS6982JIQE From DACC with URL https://api.data.igvf.org/IGVFDS6982JIQE/?format=json\n",
      "2025-07-29 15:33:06,674:iu_debug:\t>>>>>>GET measurement-sets/IGVFDS7307NKZA From DACC with URL https://api.data.igvf.org/measurement-sets/IGVFDS7307NKZA/?format=json\n",
      "1\n",
      "2025-07-29 15:33:06,922:iu_debug:\t>>>>>>GET IGVFDS7448LWPA From DACC with URL https://api.data.igvf.org/IGVFDS7448LWPA/?format=json\n",
      "2025-07-29 15:33:07,215:iu_debug:\t>>>>>>GET measurement-sets/IGVFDS4021CCEZ From DACC with URL https://api.data.igvf.org/measurement-sets/IGVFDS4021CCEZ/?format=json\n",
      "1\n",
      "2025-07-29 15:33:07,464:iu_debug:\t>>>>>>GET IGVFDS7933TXOH From DACC with URL https://api.data.igvf.org/IGVFDS7933TXOH/?format=json\n",
      "2025-07-29 15:33:07,747:iu_debug:\t>>>>>>GET measurement-sets/IGVFDS3816YLEC From DACC with URL https://api.data.igvf.org/measurement-sets/IGVFDS3816YLEC/?format=json\n",
      "1\n",
      "2025-07-29 15:33:07,978:iu_debug:\t>>>>>>GET IGVFDS8561BLCP From DACC with URL https://api.data.igvf.org/IGVFDS8561BLCP/?format=json\n",
      "2025-07-29 15:33:08,265:iu_debug:\t>>>>>>GET measurement-sets/IGVFDS9856ONKI From DACC with URL https://api.data.igvf.org/measurement-sets/IGVFDS9856ONKI/?format=json\n",
      "1\n",
      "2025-07-29 15:33:08,494:iu_debug:\t>>>>>>GET IGVFDS8690PKGE From DACC with URL https://api.data.igvf.org/IGVFDS8690PKGE/?format=json\n",
      "2025-07-29 15:33:08,806:iu_debug:\t>>>>>>GET measurement-sets/IGVFDS5751VKQH From DACC with URL https://api.data.igvf.org/measurement-sets/IGVFDS5751VKQH/?format=json\n",
      "1\n",
      "2025-07-29 15:33:09,073:iu_debug:\t>>>>>>GET IGVFDS8715BUUI From DACC with URL https://api.data.igvf.org/IGVFDS8715BUUI/?format=json\n",
      "2025-07-29 15:33:09,356:iu_debug:\t>>>>>>GET measurement-sets/IGVFDS7742UGBF From DACC with URL https://api.data.igvf.org/measurement-sets/IGVFDS7742UGBF/?format=json\n",
      "1\n",
      "2025-07-29 15:33:09,584:iu_debug:\t>>>>>>GET IGVFDS8844JQPI From DACC with URL https://api.data.igvf.org/IGVFDS8844JQPI/?format=json\n",
      "2025-07-29 15:33:09,886:iu_debug:\t>>>>>>GET measurement-sets/IGVFDS0849RRDC From DACC with URL https://api.data.igvf.org/measurement-sets/IGVFDS0849RRDC/?format=json\n",
      "1\n",
      "2025-07-29 15:33:10,131:iu_debug:\t>>>>>>GET IGVFDS9199MBON From DACC with URL https://api.data.igvf.org/IGVFDS9199MBON/?format=json\n",
      "2025-07-29 15:33:10,427:iu_debug:\t>>>>>>GET measurement-sets/IGVFDS4935AGMW From DACC with URL https://api.data.igvf.org/measurement-sets/IGVFDS4935AGMW/?format=json\n",
      "1\n"
     ]
    }
   ],
   "source": [
    "# Get analysis sets with audits not compatible with scPipe\n",
    "anasets_with_bad_audits = check_bad_audits_all_anasets(analysis_set_accs=analysis_sets_to_check,\n",
    "                                                       igvf_utils_api=iu_conn_api)"
   ]
  },
  {
   "cell_type": "code",
   "execution_count": 8,
   "id": "9bd130fc-5111-40d1-9ead-24ad2b7caf7b",
   "metadata": {},
   "outputs": [
    {
     "data": {
      "text/plain": [
       "['IGVFDS9168MJEQ']"
      ]
     },
     "execution_count": 8,
     "metadata": {},
     "output_type": "execute_result"
    }
   ],
   "source": [
    "anasets_with_bad_audits"
   ]
  },
  {
   "cell_type": "code",
   "execution_count": null,
   "id": "405a96fc-15c1-4be1-9cc9-35ee2e4a52dc",
   "metadata": {},
   "outputs": [],
   "source": []
  },
  {
   "cell_type": "code",
   "execution_count": null,
   "id": "e764a1d2-5d03-454b-9ba0-2fbaea2a1445",
   "metadata": {},
   "outputs": [],
   "source": []
  },
  {
   "cell_type": "markdown",
   "id": "3d250c6b-5205-474e-bf48-146f1efade2f",
   "metadata": {
    "jp-MarkdownHeadingCollapsed": true
   },
   "source": [
    "### Utils #2: Rm processed data"
   ]
  },
  {
   "cell_type": "code",
   "execution_count": 3,
   "id": "94584280-fb36-4a24-943c-eeca0ae3d5e1",
   "metadata": {},
   "outputs": [
    {
     "name": "stdout",
     "output_type": "stream",
     "text": [
      "132\n"
     ]
    }
   ],
   "source": [
    "with open('/Users/zheweishen/IGVF/IGVF_Repos/sc-pipeline-management/terra_datatables/setup/Mortazavi/mortazavi_parse_trem2-F1_07222025/mortazavi_parse_trem2-F1_07222025.txt') as f:\n",
    "    mortazavi_trem2F1_plate_anasets = [entry.strip() for entry in f.readlines()]\n",
    "print(len(mortazavi_trem2F1_plate_anasets))"
   ]
  },
  {
   "cell_type": "code",
   "execution_count": 8,
   "id": "26cf9c02-055c-4cdc-b997-7d9d972b37c1",
   "metadata": {},
   "outputs": [],
   "source": [
    "# Bad analysis sets\n",
    "input_params_tbl = pd.read_csv('/Users/zheweishen/IGVF/IGVF_Repos/sc-pipeline-management/terra_datatables/input/07222025/mortazavi_parse_trem2-F1_07222025/single-cell_uniform_pipeline_input_table_2025-07-22-18-06-26_withGSpath.tsv', sep='\\t')\n",
    "bad_analysis_sets = input_params_tbl[input_params_tbl['possible_errors'].str.startswith('Error', na=False)]['analysis_set_acc'].to_list()"
   ]
  },
  {
   "cell_type": "code",
   "execution_count": 15,
   "id": "7eb50db8-eb62-43ae-9fe8-5e90f82ccf49",
   "metadata": {},
   "outputs": [
    {
     "data": {
      "text/plain": [
       "119"
      ]
     },
     "execution_count": 15,
     "metadata": {},
     "output_type": "execute_result"
    }
   ],
   "source": [
    "# Good list\n",
    "good_list = list(set(mortazavi_trem2F1_plate_anasets) - set(bad_analysis_sets))\n",
    "len(good_list)"
   ]
  },
  {
   "cell_type": "code",
   "execution_count": 16,
   "id": "dbbdc20d-da9f-4859-aefe-353f4564aa78",
   "metadata": {},
   "outputs": [],
   "source": [
    "# Runnable \n",
    "updated_output_file = '/Users/zheweishen/IGVF/IGVF_Repos/sc-pipeline-management/terra_datatables/setup/Mortazavi/mortazavi_parse_trem2-F1_07222025/BAD_mortazavi_parse_trem2-F1_07222025.txt'\n",
    "\n",
    "with open(updated_output_file, 'w') as f:\n",
    "    for accession in bad_analysis_sets:\n",
    "        f.writelines(f'{accession}\\n')"
   ]
  },
  {
   "cell_type": "code",
   "execution_count": 13,
   "id": "8e555bbb-102b-459f-b3d7-94eb01c9dddf",
   "metadata": {},
   "outputs": [],
   "source": []
  },
  {
   "cell_type": "markdown",
   "id": "6c64cb38-c612-47bd-bb8f-fd05e4b3a059",
   "metadata": {
    "jp-MarkdownHeadingCollapsed": true
   },
   "source": [
    "### Utils #3: Count measurement sets"
   ]
  },
  {
   "cell_type": "code",
   "execution_count": 5,
   "id": "dff66e10-7e66-41f6-8918-e29399bbc8d6",
   "metadata": {},
   "outputs": [],
   "source": [
    "def calc_input_seqfile_sizes_and_numbers(analysis_sets: list[str], igvf_client_api):\n",
    "    \"\"\"Check the total runnable seqfile size and file count\"\"\"\n",
    "    total_file_sizes_by_anasets = {}\n",
    "    for anaset in analysis_sets:\n",
    "        curr_file_size = 0\n",
    "        curr_file_cnt = 0\n",
    "        anaset_obj = igvf_client_api.analysis_sets(anaset).graph[0]\n",
    "        measurement_sets_objs = [igvf_api.get_by_id(fileset).actual_instance for fileset in anaset_obj.input_file_sets if fileset.startswith('/measurement-sets/')]\n",
    "        for measurement_set_obj in measurement_sets_objs:\n",
    "            seq_files = [file for file in measurement_set_obj.files if file.startswith('/sequence-files/')]\n",
    "            curr_file_cnt += len(seq_files)\n",
    "            for seq_file in seq_files:\n",
    "                seq_file_obj = igvf_api.get_by_id(seq_file).actual_instance\n",
    "                if seq_file_obj.read_names:\n",
    "                    curr_file_size += seq_file_obj.file_size\n",
    "        total_file_sizes_by_anasets[anaset] = [str(round((curr_file_size / (1024 **3)), 2))+'GB', curr_file_cnt]\n",
    "    return total_file_sizes_by_anasets\n",
    "\n",
    "def calc_input_measets_cnts(analysis_set_accessions: list[str], igvf_client_api):\n",
    "    output_res = []\n",
    "    for anaset_acc in analysis_set_accessions:\n",
    "        anaset_obj = igvf_client_api.get_by_id(f'/analysis-sets/{anaset_acc}').actual_instance\n",
    "        input_measet_ids = [file_set_id for file_set_id in anaset_obj.input_file_sets if file_set_id.startswith('/measurement-sets/')]\n",
    "        output_res.append((anaset_acc, len(input_measet_ids)))\n",
    "    return pd.DataFrame(output_res, columns=['Analysis Set Accession', 'Total Input Measurement Sets'])"
   ]
  },
  {
   "cell_type": "code",
   "execution_count": 12,
   "id": "9cadf133-b235-43c4-9a06-6ab09877a852",
   "metadata": {},
   "outputs": [
    {
     "data": {
      "text/plain": [
       "48"
      ]
     },
     "execution_count": 12,
     "metadata": {},
     "output_type": "execute_result"
    }
   ],
   "source": [
    "# Starter analysis set list file\n",
    "query_anaset_acc_setup_file = '/Users/zheweishen/IGVF/IGVF_Repos/sc-pipeline-management/terra_datatables/setup/Satpathy/satpathy_MULTI-seq_20250716/satpathy_MULTI-seq_20250716.txt'\n",
    "\n",
    "# Get the list\n",
    "with open(query_anaset_acc_setup_file) as f:\n",
    "    query_anaset_acc_list = [entry.strip() for entry in f.readlines()]\n",
    "len(query_anaset_acc_list)"
   ]
  },
  {
   "cell_type": "code",
   "execution_count": 14,
   "id": "91b250d1-6f97-489b-b544-38608ed226fb",
   "metadata": {},
   "outputs": [
    {
     "data": {
      "text/html": [
       "<div>\n",
       "<style scoped>\n",
       "    .dataframe tbody tr th:only-of-type {\n",
       "        vertical-align: middle;\n",
       "    }\n",
       "\n",
       "    .dataframe tbody tr th {\n",
       "        vertical-align: top;\n",
       "    }\n",
       "\n",
       "    .dataframe thead th {\n",
       "        text-align: right;\n",
       "    }\n",
       "</style>\n",
       "<table border=\"1\" class=\"dataframe\">\n",
       "  <thead>\n",
       "    <tr style=\"text-align: right;\">\n",
       "      <th></th>\n",
       "      <th>Analysis Set Accession</th>\n",
       "      <th>Total Input Measurement Sets</th>\n",
       "    </tr>\n",
       "  </thead>\n",
       "  <tbody>\n",
       "    <tr>\n",
       "      <th>0</th>\n",
       "      <td>IGVFDS8997FOWM</td>\n",
       "      <td>2</td>\n",
       "    </tr>\n",
       "    <tr>\n",
       "      <th>1</th>\n",
       "      <td>IGVFDS2543QAMJ</td>\n",
       "      <td>2</td>\n",
       "    </tr>\n",
       "    <tr>\n",
       "      <th>2</th>\n",
       "      <td>IGVFDS6955JCTX</td>\n",
       "      <td>2</td>\n",
       "    </tr>\n",
       "    <tr>\n",
       "      <th>3</th>\n",
       "      <td>IGVFDS4450VKHD</td>\n",
       "      <td>2</td>\n",
       "    </tr>\n",
       "    <tr>\n",
       "      <th>4</th>\n",
       "      <td>IGVFDS4364HEPW</td>\n",
       "      <td>2</td>\n",
       "    </tr>\n",
       "    <tr>\n",
       "      <th>5</th>\n",
       "      <td>IGVFDS0443IFQY</td>\n",
       "      <td>2</td>\n",
       "    </tr>\n",
       "    <tr>\n",
       "      <th>6</th>\n",
       "      <td>IGVFDS8327WMFU</td>\n",
       "      <td>2</td>\n",
       "    </tr>\n",
       "    <tr>\n",
       "      <th>7</th>\n",
       "      <td>IGVFDS3174HEKS</td>\n",
       "      <td>2</td>\n",
       "    </tr>\n",
       "    <tr>\n",
       "      <th>8</th>\n",
       "      <td>IGVFDS0706KKYL</td>\n",
       "      <td>2</td>\n",
       "    </tr>\n",
       "    <tr>\n",
       "      <th>9</th>\n",
       "      <td>IGVFDS1101ACFG</td>\n",
       "      <td>2</td>\n",
       "    </tr>\n",
       "    <tr>\n",
       "      <th>10</th>\n",
       "      <td>IGVFDS4823WFZG</td>\n",
       "      <td>2</td>\n",
       "    </tr>\n",
       "    <tr>\n",
       "      <th>11</th>\n",
       "      <td>IGVFDS0055XVXJ</td>\n",
       "      <td>2</td>\n",
       "    </tr>\n",
       "    <tr>\n",
       "      <th>12</th>\n",
       "      <td>IGVFDS6430MYNQ</td>\n",
       "      <td>2</td>\n",
       "    </tr>\n",
       "    <tr>\n",
       "      <th>13</th>\n",
       "      <td>IGVFDS9272ISSJ</td>\n",
       "      <td>2</td>\n",
       "    </tr>\n",
       "    <tr>\n",
       "      <th>14</th>\n",
       "      <td>IGVFDS0969WZLV</td>\n",
       "      <td>2</td>\n",
       "    </tr>\n",
       "    <tr>\n",
       "      <th>15</th>\n",
       "      <td>IGVFDS5137XCJI</td>\n",
       "      <td>2</td>\n",
       "    </tr>\n",
       "    <tr>\n",
       "      <th>16</th>\n",
       "      <td>IGVFDS4807SFAP</td>\n",
       "      <td>2</td>\n",
       "    </tr>\n",
       "    <tr>\n",
       "      <th>17</th>\n",
       "      <td>IGVFDS9232XJKS</td>\n",
       "      <td>2</td>\n",
       "    </tr>\n",
       "    <tr>\n",
       "      <th>18</th>\n",
       "      <td>IGVFDS9481ZLVJ</td>\n",
       "      <td>2</td>\n",
       "    </tr>\n",
       "    <tr>\n",
       "      <th>19</th>\n",
       "      <td>IGVFDS8858NBVJ</td>\n",
       "      <td>2</td>\n",
       "    </tr>\n",
       "    <tr>\n",
       "      <th>20</th>\n",
       "      <td>IGVFDS7943UMGA</td>\n",
       "      <td>2</td>\n",
       "    </tr>\n",
       "    <tr>\n",
       "      <th>21</th>\n",
       "      <td>IGVFDS2682EQNX</td>\n",
       "      <td>2</td>\n",
       "    </tr>\n",
       "    <tr>\n",
       "      <th>22</th>\n",
       "      <td>IGVFDS8371VSDR</td>\n",
       "      <td>2</td>\n",
       "    </tr>\n",
       "    <tr>\n",
       "      <th>23</th>\n",
       "      <td>IGVFDS3599SNDR</td>\n",
       "      <td>2</td>\n",
       "    </tr>\n",
       "    <tr>\n",
       "      <th>24</th>\n",
       "      <td>IGVFDS6133VLCR</td>\n",
       "      <td>2</td>\n",
       "    </tr>\n",
       "    <tr>\n",
       "      <th>25</th>\n",
       "      <td>IGVFDS5497CMDG</td>\n",
       "      <td>2</td>\n",
       "    </tr>\n",
       "    <tr>\n",
       "      <th>26</th>\n",
       "      <td>IGVFDS1334RFWQ</td>\n",
       "      <td>2</td>\n",
       "    </tr>\n",
       "    <tr>\n",
       "      <th>27</th>\n",
       "      <td>IGVFDS9874ETQO</td>\n",
       "      <td>2</td>\n",
       "    </tr>\n",
       "    <tr>\n",
       "      <th>28</th>\n",
       "      <td>IGVFDS7274IPQB</td>\n",
       "      <td>2</td>\n",
       "    </tr>\n",
       "    <tr>\n",
       "      <th>29</th>\n",
       "      <td>IGVFDS5113UOGB</td>\n",
       "      <td>2</td>\n",
       "    </tr>\n",
       "    <tr>\n",
       "      <th>30</th>\n",
       "      <td>IGVFDS5417HJRJ</td>\n",
       "      <td>2</td>\n",
       "    </tr>\n",
       "    <tr>\n",
       "      <th>31</th>\n",
       "      <td>IGVFDS4196EOXN</td>\n",
       "      <td>2</td>\n",
       "    </tr>\n",
       "    <tr>\n",
       "      <th>32</th>\n",
       "      <td>IGVFDS4754VPWL</td>\n",
       "      <td>2</td>\n",
       "    </tr>\n",
       "    <tr>\n",
       "      <th>33</th>\n",
       "      <td>IGVFDS3359UDWA</td>\n",
       "      <td>2</td>\n",
       "    </tr>\n",
       "    <tr>\n",
       "      <th>34</th>\n",
       "      <td>IGVFDS3664HDAJ</td>\n",
       "      <td>2</td>\n",
       "    </tr>\n",
       "    <tr>\n",
       "      <th>35</th>\n",
       "      <td>IGVFDS4741JYNZ</td>\n",
       "      <td>2</td>\n",
       "    </tr>\n",
       "    <tr>\n",
       "      <th>36</th>\n",
       "      <td>IGVFDS7343XCMH</td>\n",
       "      <td>2</td>\n",
       "    </tr>\n",
       "    <tr>\n",
       "      <th>37</th>\n",
       "      <td>IGVFDS2908FLTN</td>\n",
       "      <td>2</td>\n",
       "    </tr>\n",
       "    <tr>\n",
       "      <th>38</th>\n",
       "      <td>IGVFDS8574WBQQ</td>\n",
       "      <td>2</td>\n",
       "    </tr>\n",
       "    <tr>\n",
       "      <th>39</th>\n",
       "      <td>IGVFDS0787FDIZ</td>\n",
       "      <td>2</td>\n",
       "    </tr>\n",
       "    <tr>\n",
       "      <th>40</th>\n",
       "      <td>IGVFDS9006OWNQ</td>\n",
       "      <td>2</td>\n",
       "    </tr>\n",
       "    <tr>\n",
       "      <th>41</th>\n",
       "      <td>IGVFDS6188JKXS</td>\n",
       "      <td>2</td>\n",
       "    </tr>\n",
       "    <tr>\n",
       "      <th>42</th>\n",
       "      <td>IGVFDS4370WWLZ</td>\n",
       "      <td>2</td>\n",
       "    </tr>\n",
       "    <tr>\n",
       "      <th>43</th>\n",
       "      <td>IGVFDS1612ZNCA</td>\n",
       "      <td>2</td>\n",
       "    </tr>\n",
       "    <tr>\n",
       "      <th>44</th>\n",
       "      <td>IGVFDS7544ONUZ</td>\n",
       "      <td>2</td>\n",
       "    </tr>\n",
       "    <tr>\n",
       "      <th>45</th>\n",
       "      <td>IGVFDS1244UUGQ</td>\n",
       "      <td>2</td>\n",
       "    </tr>\n",
       "    <tr>\n",
       "      <th>46</th>\n",
       "      <td>IGVFDS0016QGNO</td>\n",
       "      <td>2</td>\n",
       "    </tr>\n",
       "    <tr>\n",
       "      <th>47</th>\n",
       "      <td>IGVFDS0033HIMW</td>\n",
       "      <td>2</td>\n",
       "    </tr>\n",
       "  </tbody>\n",
       "</table>\n",
       "</div>"
      ],
      "text/plain": [
       "   Analysis Set Accession  Total Input Measurement Sets\n",
       "0          IGVFDS8997FOWM                             2\n",
       "1          IGVFDS2543QAMJ                             2\n",
       "2          IGVFDS6955JCTX                             2\n",
       "3          IGVFDS4450VKHD                             2\n",
       "4          IGVFDS4364HEPW                             2\n",
       "5          IGVFDS0443IFQY                             2\n",
       "6          IGVFDS8327WMFU                             2\n",
       "7          IGVFDS3174HEKS                             2\n",
       "8          IGVFDS0706KKYL                             2\n",
       "9          IGVFDS1101ACFG                             2\n",
       "10         IGVFDS4823WFZG                             2\n",
       "11         IGVFDS0055XVXJ                             2\n",
       "12         IGVFDS6430MYNQ                             2\n",
       "13         IGVFDS9272ISSJ                             2\n",
       "14         IGVFDS0969WZLV                             2\n",
       "15         IGVFDS5137XCJI                             2\n",
       "16         IGVFDS4807SFAP                             2\n",
       "17         IGVFDS9232XJKS                             2\n",
       "18         IGVFDS9481ZLVJ                             2\n",
       "19         IGVFDS8858NBVJ                             2\n",
       "20         IGVFDS7943UMGA                             2\n",
       "21         IGVFDS2682EQNX                             2\n",
       "22         IGVFDS8371VSDR                             2\n",
       "23         IGVFDS3599SNDR                             2\n",
       "24         IGVFDS6133VLCR                             2\n",
       "25         IGVFDS5497CMDG                             2\n",
       "26         IGVFDS1334RFWQ                             2\n",
       "27         IGVFDS9874ETQO                             2\n",
       "28         IGVFDS7274IPQB                             2\n",
       "29         IGVFDS5113UOGB                             2\n",
       "30         IGVFDS5417HJRJ                             2\n",
       "31         IGVFDS4196EOXN                             2\n",
       "32         IGVFDS4754VPWL                             2\n",
       "33         IGVFDS3359UDWA                             2\n",
       "34         IGVFDS3664HDAJ                             2\n",
       "35         IGVFDS4741JYNZ                             2\n",
       "36         IGVFDS7343XCMH                             2\n",
       "37         IGVFDS2908FLTN                             2\n",
       "38         IGVFDS8574WBQQ                             2\n",
       "39         IGVFDS0787FDIZ                             2\n",
       "40         IGVFDS9006OWNQ                             2\n",
       "41         IGVFDS6188JKXS                             2\n",
       "42         IGVFDS4370WWLZ                             2\n",
       "43         IGVFDS1612ZNCA                             2\n",
       "44         IGVFDS7544ONUZ                             2\n",
       "45         IGVFDS1244UUGQ                             2\n",
       "46         IGVFDS0016QGNO                             2\n",
       "47         IGVFDS0033HIMW                             2"
      ]
     },
     "execution_count": 14,
     "metadata": {},
     "output_type": "execute_result"
    }
   ],
   "source": [
    "# Count\n",
    "count_res = calc_input_measets_cnts(query_anaset_acc_list, igvf_client_api)\n",
    "count_res"
   ]
  },
  {
   "cell_type": "code",
   "execution_count": 15,
   "id": "13b82ccf-3b31-41e4-b871-b350772fa6b7",
   "metadata": {},
   "outputs": [
    {
     "data": {
      "text/plain": [
       "Analysis Set Accession          IGVFDS8997FOWMIGVFDS2543QAMJIGVFDS6955JCTXIGVF...\n",
       "Total Input Measurement Sets                                                   96\n",
       "dtype: object"
      ]
     },
     "execution_count": 15,
     "metadata": {},
     "output_type": "execute_result"
    }
   ],
   "source": [
    "count_res.sum()"
   ]
  },
  {
   "cell_type": "code",
   "execution_count": 16,
   "id": "fa12f758-fd29-4332-b05e-7930facaa822",
   "metadata": {},
   "outputs": [
    {
     "data": {
      "text/plain": [
       "88"
      ]
     },
     "execution_count": 16,
     "metadata": {},
     "output_type": "execute_result"
    }
   ],
   "source": [
    "44*2"
   ]
  },
  {
   "cell_type": "code",
   "execution_count": null,
   "id": "43200b30-4c42-4a6d-bfc9-df9a5e1926ae",
   "metadata": {},
   "outputs": [],
   "source": []
  },
  {
   "cell_type": "code",
   "execution_count": null,
   "id": "abde7e8b-8882-48cf-b03b-5cde8f95cce5",
   "metadata": {},
   "outputs": [],
   "source": []
  },
  {
   "cell_type": "markdown",
   "id": "596c2483-1161-4cd5-8588-4d8542b8e663",
   "metadata": {},
   "source": [
    "### Utils #4: Sandbox"
   ]
  },
  {
   "cell_type": "code",
   "execution_count": null,
   "id": "ef9e4782-bc4a-4eb1-949a-b537def5cc6c",
   "metadata": {},
   "outputs": [],
   "source": []
  },
  {
   "cell_type": "code",
   "execution_count": null,
   "id": "306ab90e-51ac-4a91-8112-65ca6484bdd5",
   "metadata": {},
   "outputs": [],
   "source": []
  },
  {
   "cell_type": "code",
   "execution_count": 20,
   "id": "3dced20a-cb82-44c3-a081-347f50307ff6",
   "metadata": {},
   "outputs": [],
   "source": [
    "foo_inputs = [\n",
    "    ['TSTDS74957974', 'TSTDS31000813'],\n",
    "    ['TSTDS20638124', 'TSTDS16685999'],\n",
    "    ['TSTDS68628693', 'TSTDS69083547']\n",
    "]"
   ]
  },
  {
   "cell_type": "code",
   "execution_count": 22,
   "id": "4c1db64a-cfbf-4c0c-b032-50d3f6c37a38",
   "metadata": {
    "scrolled": true
   },
   "outputs": [
    {
     "name": "stdout",
     "output_type": "stream",
     "text": [
      "2025-09-02 15:37:41,111:iu_debug:\t\n",
      "IN post().\n"
     ]
    },
    {
     "name": "stderr",
     "output_type": "stream",
     "text": [
      "DEBUG:iu_debug:\n",
      "IN post().\n"
     ]
    },
    {
     "name": "stdout",
     "output_type": "stream",
     "text": [
      "2025-09-02 15:37:41,113:iu_debug:\tValidating the payload against the schema\n"
     ]
    },
    {
     "name": "stderr",
     "output_type": "stream",
     "text": [
      "DEBUG:iu_debug:Validating the payload against the schema\n"
     ]
    },
    {
     "name": "stdout",
     "output_type": "stream",
     "text": [
      "2025-09-02 15:37:41,139:iu_debug:\t<<<<<< POST analysis_set record jason-buenrostro:Sample-_single-cell-uniform-pipeline To IGVF database with URL https://api.sandbox.igvf.org/analysis_set and this payload:\n",
      "\n",
      "{\n",
      "  \"aliases\": [\n",
      "    \"jason-buenrostro:Sample-_single-cell-uniform-pipeline\"\n",
      "  ],\n",
      "  \"award\": \"/awards/HG011986/\",\n",
      "  \"file_set_type\": \"intermediate analysis\",\n",
      "  \"input_file_sets\": [\n",
      "    \"TSTDS74957974\",\n",
      "    \"TSTDS31000813\"\n",
      "  ],\n",
      "  \"lab\": \"/labs/jason-buenrostro/\",\n",
      "  \"uniform_pipeline_status\": \"preprocessing\"\n",
      "}\n",
      "\n",
      "\n"
     ]
    },
    {
     "name": "stderr",
     "output_type": "stream",
     "text": [
      "DEBUG:iu_debug:<<<<<< POST analysis_set record jason-buenrostro:Sample-_single-cell-uniform-pipeline To IGVF database with URL https://api.sandbox.igvf.org/analysis_set and this payload:\n",
      "\n",
      "{\n",
      "  \"aliases\": [\n",
      "    \"jason-buenrostro:Sample-_single-cell-uniform-pipeline\"\n",
      "  ],\n",
      "  \"award\": \"/awards/HG011986/\",\n",
      "  \"file_set_type\": \"intermediate analysis\",\n",
      "  \"input_file_sets\": [\n",
      "    \"TSTDS74957974\",\n",
      "    \"TSTDS31000813\"\n",
      "  ],\n",
      "  \"lab\": \"/labs/jason-buenrostro/\",\n",
      "  \"uniform_pipeline_status\": \"preprocessing\"\n",
      "}\n",
      "\n",
      "\n"
     ]
    },
    {
     "name": "stdout",
     "output_type": "stream",
     "text": [
      "2025-09-02 15:37:43,061:iu_debug:\tSuccess.\n"
     ]
    },
    {
     "name": "stderr",
     "output_type": "stream",
     "text": [
      "DEBUG:iu_debug:Success.\n"
     ]
    },
    {
     "name": "stdout",
     "output_type": "stream",
     "text": [
      "2025-09-02 15:37:43,063:iu_debug:\tObject posted with identifier: TSTDS41499750\n"
     ]
    },
    {
     "name": "stderr",
     "output_type": "stream",
     "text": [
      "DEBUG:iu_debug:Object posted with identifier: TSTDS41499750\n",
      "INFO:iu_post:jason-buenrostro:Sample-_single-cell-uniform-pipeline\t\tTSTDS41499750\n"
     ]
    },
    {
     "name": "stdout",
     "output_type": "stream",
     "text": [
      "2025-09-02 15:37:43,067:iu_debug:\tWill not upload file TSTDS41499750 to the portal since upload_file is False\n"
     ]
    },
    {
     "name": "stderr",
     "output_type": "stream",
     "text": [
      "DEBUG:iu_debug:Will not upload file TSTDS41499750 to the portal since upload_file is False\n"
     ]
    },
    {
     "name": "stdout",
     "output_type": "stream",
     "text": [
      "2025-09-02 15:37:43,070:iu_debug:\t\n",
      "IN post().\n"
     ]
    },
    {
     "name": "stderr",
     "output_type": "stream",
     "text": [
      "DEBUG:iu_debug:\n",
      "IN post().\n"
     ]
    },
    {
     "name": "stdout",
     "output_type": "stream",
     "text": [
      "2025-09-02 15:37:43,072:iu_debug:\tValidating the payload against the schema\n"
     ]
    },
    {
     "name": "stderr",
     "output_type": "stream",
     "text": [
      "DEBUG:iu_debug:Validating the payload against the schema\n"
     ]
    },
    {
     "name": "stdout",
     "output_type": "stream",
     "text": [
      "2025-09-02 15:37:43,102:iu_debug:\t<<<<<< POST analysis_set record jason-buenrostro:Sample-_single-cell-uniform-pipeline To IGVF database with URL https://api.sandbox.igvf.org/analysis_set and this payload:\n",
      "\n",
      "{\n",
      "  \"aliases\": [\n",
      "    \"jason-buenrostro:Sample-_single-cell-uniform-pipeline\"\n",
      "  ],\n",
      "  \"award\": \"/awards/HG011986/\",\n",
      "  \"file_set_type\": \"intermediate analysis\",\n",
      "  \"input_file_sets\": [\n",
      "    \"TSTDS20638124\",\n",
      "    \"TSTDS16685999\"\n",
      "  ],\n",
      "  \"lab\": \"/labs/jason-buenrostro/\",\n",
      "  \"uniform_pipeline_status\": \"preprocessing\"\n",
      "}\n",
      "\n",
      "\n"
     ]
    },
    {
     "name": "stderr",
     "output_type": "stream",
     "text": [
      "DEBUG:iu_debug:<<<<<< POST analysis_set record jason-buenrostro:Sample-_single-cell-uniform-pipeline To IGVF database with URL https://api.sandbox.igvf.org/analysis_set and this payload:\n",
      "\n",
      "{\n",
      "  \"aliases\": [\n",
      "    \"jason-buenrostro:Sample-_single-cell-uniform-pipeline\"\n",
      "  ],\n",
      "  \"award\": \"/awards/HG011986/\",\n",
      "  \"file_set_type\": \"intermediate analysis\",\n",
      "  \"input_file_sets\": [\n",
      "    \"TSTDS20638124\",\n",
      "    \"TSTDS16685999\"\n",
      "  ],\n",
      "  \"lab\": \"/labs/jason-buenrostro/\",\n",
      "  \"uniform_pipeline_status\": \"preprocessing\"\n",
      "}\n",
      "\n",
      "\n"
     ]
    },
    {
     "name": "stdout",
     "output_type": "stream",
     "text": [
      "2025-09-02 15:37:43,576:iu_debug:\t{'@type': ['HTTPConflict', 'Error'], 'status': 'error', 'code': 409, 'title': 'Conflict', 'description': 'There was a conflict when trying to complete your request.', 'detail': \"Keys conflict: [('alias', 'jason-buenrostro:Sample-_single-cell-uniform-pipeline')]\"}\n"
     ]
    },
    {
     "name": "stderr",
     "output_type": "stream",
     "text": [
      "DEBUG:iu_debug:{'@type': ['HTTPConflict', 'Error'], 'status': 'error', 'code': 409, 'title': 'Conflict', 'description': 'There was a conflict when trying to complete your request.', 'detail': \"Keys conflict: [('alias', 'jason-buenrostro:Sample-_single-cell-uniform-pipeline')]\"}\n"
     ]
    },
    {
     "name": "stdout",
     "output_type": "stream",
     "text": [
      "2025-09-02 15:37:43,580:iu_debug:\t>>>>>>GET jason-buenrostro:Sample-_single-cell-uniform-pipeline From DACC with URL https://api.sandbox.igvf.org/jason-buenrostro:Sample-_single-cell-uniform-pipeline/?format=json\n"
     ]
    },
    {
     "name": "stderr",
     "output_type": "stream",
     "text": [
      "DEBUG:iu_debug:>>>>>>GET jason-buenrostro:Sample-_single-cell-uniform-pipeline From DACC with URL https://api.sandbox.igvf.org/jason-buenrostro:Sample-_single-cell-uniform-pipeline/?format=json\n"
     ]
    },
    {
     "name": "stdout",
     "output_type": "stream",
     "text": [
      "2025-09-02 15:37:49,518:iu_debug:\tWill not POST 'jason-buenrostro:Sample-_single-cell-uniform-pipeline' since it already exists with aliases '['jason-buenrostro:Sample-_single-cell-uniform-pipeline']'.\n"
     ]
    },
    {
     "name": "stderr",
     "output_type": "stream",
     "text": [
      "ERROR:iu_debug:Will not POST 'jason-buenrostro:Sample-_single-cell-uniform-pipeline' since it already exists with aliases '['jason-buenrostro:Sample-_single-cell-uniform-pipeline']'.\n",
      "ERROR:iu_error:Will not POST 'jason-buenrostro:Sample-_single-cell-uniform-pipeline' since it already exists with aliases '['jason-buenrostro:Sample-_single-cell-uniform-pipeline']'.\n"
     ]
    },
    {
     "name": "stdout",
     "output_type": "stream",
     "text": [
      "2025-09-02 15:37:49,527:iu_debug:\t\n",
      "IN post().\n"
     ]
    },
    {
     "name": "stderr",
     "output_type": "stream",
     "text": [
      "DEBUG:iu_debug:\n",
      "IN post().\n"
     ]
    },
    {
     "name": "stdout",
     "output_type": "stream",
     "text": [
      "2025-09-02 15:37:49,529:iu_debug:\tValidating the payload against the schema\n"
     ]
    },
    {
     "name": "stderr",
     "output_type": "stream",
     "text": [
      "DEBUG:iu_debug:Validating the payload against the schema\n"
     ]
    },
    {
     "name": "stdout",
     "output_type": "stream",
     "text": [
      "2025-09-02 15:37:49,554:iu_debug:\t<<<<<< POST analysis_set record jason-buenrostro:Sample-_single-cell-uniform-pipeline To IGVF database with URL https://api.sandbox.igvf.org/analysis_set and this payload:\n",
      "\n",
      "{\n",
      "  \"aliases\": [\n",
      "    \"jason-buenrostro:Sample-_single-cell-uniform-pipeline\"\n",
      "  ],\n",
      "  \"award\": \"/awards/HG011986/\",\n",
      "  \"file_set_type\": \"intermediate analysis\",\n",
      "  \"input_file_sets\": [\n",
      "    \"TSTDS68628693\",\n",
      "    \"TSTDS69083547\"\n",
      "  ],\n",
      "  \"lab\": \"/labs/jason-buenrostro/\",\n",
      "  \"uniform_pipeline_status\": \"preprocessing\"\n",
      "}\n",
      "\n",
      "\n"
     ]
    },
    {
     "name": "stderr",
     "output_type": "stream",
     "text": [
      "DEBUG:iu_debug:<<<<<< POST analysis_set record jason-buenrostro:Sample-_single-cell-uniform-pipeline To IGVF database with URL https://api.sandbox.igvf.org/analysis_set and this payload:\n",
      "\n",
      "{\n",
      "  \"aliases\": [\n",
      "    \"jason-buenrostro:Sample-_single-cell-uniform-pipeline\"\n",
      "  ],\n",
      "  \"award\": \"/awards/HG011986/\",\n",
      "  \"file_set_type\": \"intermediate analysis\",\n",
      "  \"input_file_sets\": [\n",
      "    \"TSTDS68628693\",\n",
      "    \"TSTDS69083547\"\n",
      "  ],\n",
      "  \"lab\": \"/labs/jason-buenrostro/\",\n",
      "  \"uniform_pipeline_status\": \"preprocessing\"\n",
      "}\n",
      "\n",
      "\n"
     ]
    },
    {
     "name": "stdout",
     "output_type": "stream",
     "text": [
      "2025-09-02 15:37:49,921:iu_debug:\t{'@type': ['HTTPConflict', 'Error'], 'status': 'error', 'code': 409, 'title': 'Conflict', 'description': 'There was a conflict when trying to complete your request.', 'detail': \"Keys conflict: [('alias', 'jason-buenrostro:Sample-_single-cell-uniform-pipeline')]\"}\n"
     ]
    },
    {
     "name": "stderr",
     "output_type": "stream",
     "text": [
      "DEBUG:iu_debug:{'@type': ['HTTPConflict', 'Error'], 'status': 'error', 'code': 409, 'title': 'Conflict', 'description': 'There was a conflict when trying to complete your request.', 'detail': \"Keys conflict: [('alias', 'jason-buenrostro:Sample-_single-cell-uniform-pipeline')]\"}\n"
     ]
    },
    {
     "name": "stdout",
     "output_type": "stream",
     "text": [
      "2025-09-02 15:37:49,925:iu_debug:\t>>>>>>GET jason-buenrostro:Sample-_single-cell-uniform-pipeline From DACC with URL https://api.sandbox.igvf.org/jason-buenrostro:Sample-_single-cell-uniform-pipeline/?format=json\n"
     ]
    },
    {
     "name": "stderr",
     "output_type": "stream",
     "text": [
      "DEBUG:iu_debug:>>>>>>GET jason-buenrostro:Sample-_single-cell-uniform-pipeline From DACC with URL https://api.sandbox.igvf.org/jason-buenrostro:Sample-_single-cell-uniform-pipeline/?format=json\n"
     ]
    },
    {
     "name": "stdout",
     "output_type": "stream",
     "text": [
      "2025-09-02 15:37:55,513:iu_debug:\tWill not POST 'jason-buenrostro:Sample-_single-cell-uniform-pipeline' since it already exists with aliases '['jason-buenrostro:Sample-_single-cell-uniform-pipeline']'.\n"
     ]
    },
    {
     "name": "stderr",
     "output_type": "stream",
     "text": [
      "ERROR:iu_debug:Will not POST 'jason-buenrostro:Sample-_single-cell-uniform-pipeline' since it already exists with aliases '['jason-buenrostro:Sample-_single-cell-uniform-pipeline']'.\n",
      "ERROR:iu_error:Will not POST 'jason-buenrostro:Sample-_single-cell-uniform-pipeline' since it already exists with aliases '['jason-buenrostro:Sample-_single-cell-uniform-pipeline']'.\n"
     ]
    }
   ],
   "source": [
    "foo = ana_tools.post_all_anasets_to_portal(all_input_file_sets=foo_inputs,\n",
    "                                           lab=lab_id,\n",
    "                                           award=award_id,\n",
    "                                           igvf_utils_api=iu_conn_api,\n",
    "                                           igvf_client_api=igvf_client_api)"
   ]
  },
  {
   "cell_type": "code",
   "execution_count": 23,
   "id": "2125f30b-74eb-40a0-b4d2-a92e24254e87",
   "metadata": {},
   "outputs": [
    {
     "data": {
      "text/plain": [
       "[AnaSetCreationResult(accession='TSTDS41499750', input_file_sets=['TSTDS74957974', 'TSTDS31000813'], errors=None),\n",
       " AnaSetCreationResult(accession='TSTDS41499750', input_file_sets=['TSTDS20638124', 'TSTDS16685999'], errors=None),\n",
       " AnaSetCreationResult(accession='TSTDS41499750', input_file_sets=['TSTDS68628693', 'TSTDS69083547'], errors=None)]"
      ]
     },
     "execution_count": 23,
     "metadata": {},
     "output_type": "execute_result"
    }
   ],
   "source": [
    "foo"
   ]
  },
  {
   "cell_type": "code",
   "execution_count": null,
   "id": "4dd98b65-037c-40ef-8beb-ae85379de0fb",
   "metadata": {},
   "outputs": [],
   "source": []
  },
  {
   "cell_type": "code",
   "execution_count": null,
   "id": "b2ec37ce-22ec-4d74-b8dd-204f8240b65b",
   "metadata": {},
   "outputs": [],
   "source": []
  },
  {
   "cell_type": "code",
   "execution_count": null,
   "id": "c0632fc2-2d2c-4597-b71d-c8663be4de51",
   "metadata": {},
   "outputs": [],
   "source": []
  },
  {
   "cell_type": "code",
   "execution_count": null,
   "id": "d8a3ef2e-687c-45fc-a26e-540570e4c31a",
   "metadata": {},
   "outputs": [],
   "source": []
  },
  {
   "cell_type": "code",
   "execution_count": null,
   "id": "61f8cb8c-3ce6-4810-8e96-7a935d47d6a6",
   "metadata": {},
   "outputs": [],
   "source": []
  }
 ],
 "metadata": {
  "kernelspec": {
   "display_name": "Python 3 (ipykernel)",
   "language": "python",
   "name": "python3"
  },
  "language_info": {
   "codemirror_mode": {
    "name": "ipython",
    "version": 3
   },
   "file_extension": ".py",
   "mimetype": "text/x-python",
   "name": "python",
   "nbconvert_exporter": "python",
   "pygments_lexer": "ipython3",
   "version": "3.11.9"
  }
 },
 "nbformat": 4,
 "nbformat_minor": 5
}
